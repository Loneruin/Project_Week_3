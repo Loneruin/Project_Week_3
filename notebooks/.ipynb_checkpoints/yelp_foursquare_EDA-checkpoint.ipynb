{
 "cells": [
  {
   "cell_type": "code",
   "execution_count": 16,
   "metadata": {},
   "outputs": [],
   "source": [
    "# imports\n",
    "import requests\n",
    "import os\n",
    "import pandas as pd\n",
    "from datetime import datetime\n",
    "from IPython.display import JSON "
   ]
  },
  {
   "cell_type": "markdown",
   "metadata": {},
   "source": [
    "# Foursquare"
   ]
  },
  {
   "cell_type": "markdown",
   "metadata": {},
   "source": [
    "Send a request to Foursquare with a small radius (1000m) for all the bike stations in your city of choice. "
   ]
  },
  {
   "cell_type": "code",
   "execution_count": 97,
   "metadata": {},
   "outputs": [],
   "source": [
    "nyc_bike = pd.read_csv('nyc_bike.csv')"
   ]
  },
  {
   "cell_type": "code",
   "execution_count": 98,
   "metadata": {},
   "outputs": [],
   "source": [
    "nyc_lat = nyc_bike['latitude']\n",
    "nyc_long = nyc_bike['longitude']"
   ]
  },
  {
   "cell_type": "code",
   "execution_count": 99,
   "metadata": {},
   "outputs": [],
   "source": [
    "api_key = os.environ[\"FOUR_SQUARE_API\"]\n",
    "fields = 'fsq_id,name,geocodes,categories,distance,rating,hours_popular,popularity,features'\n",
    "location_data = {}\n",
    "for data in range(len(nyc_lat)):\n",
    "    url = f\"https://api.foursquare.com/v3/places/search?query=restaurant&ll={nyc_lat[data]},{nyc_long[data]}&categories=13065&fields={fields}&radius=1000&limit=50\"\n",
    "\n",
    "    headers = {\n",
    "        \"accept\": \"application/json\",\n",
    "        \"Authorization\": api_key\n",
    "    }\n",
    "\n",
    "    response = requests.get(url, headers=headers).json()\n",
    "    location_data = response"
   ]
  },
  {
   "cell_type": "code",
   "execution_count": 100,
   "metadata": {
    "tags": []
   },
   "outputs": [
    {
     "data": {
      "application/json": {
       "context": {
        "geo_bounds": {
         "circle": {
          "center": {
           "latitude": 40.75594159,
           "longitude": -74.0021163
          },
          "radius": 1000
         }
        }
       },
       "results": [
        {
         "categories": [
          {
           "icon": {
            "prefix": "https://ss3.4sqi.net/img/categories_v2/food/default_",
            "suffix": ".png"
           },
           "id": 13065,
           "name": "Restaurant"
          }
         ],
         "distance": 146,
         "features": {
          "food_and_drink": {
           "meals": {
            "dinner": true,
            "lunch": true
           }
          }
         },
         "fsq_id": "5d4758417928f300089b87ed",
         "geocodes": {
          "main": {
           "latitude": 40.754711,
           "longitude": -74.002209
          },
          "roof": {
           "latitude": 40.754711,
           "longitude": -74.002209
          }
         },
         "hours_popular": [
          {
           "close": "1500",
           "day": 1,
           "open": "1200"
          },
          {
           "close": "2200",
           "day": 1,
           "open": "1700"
          },
          {
           "close": "1300",
           "day": 2,
           "open": "1200"
          },
          {
           "close": "2200",
           "day": 2,
           "open": "1700"
          },
          {
           "close": "1400",
           "day": 3,
           "open": "1200"
          },
          {
           "close": "2200",
           "day": 3,
           "open": "1700"
          },
          {
           "close": "1300",
           "day": 4,
           "open": "1200"
          },
          {
           "close": "2300",
           "day": 4,
           "open": "1600"
          },
          {
           "close": "1500",
           "day": 5,
           "open": "1200"
          },
          {
           "close": "2300",
           "day": 5,
           "open": "1700"
          },
          {
           "close": "+0000",
           "day": 6,
           "open": "1100"
          },
          {
           "close": "2100",
           "day": 7,
           "open": "1100"
          }
         ],
         "name": "Electric Lemon",
         "popularity": 0.9962278224226027,
         "rating": 7.3
        },
        {
         "categories": [
          {
           "icon": {
            "prefix": "https://ss3.4sqi.net/img/categories_v2/food/default_",
            "suffix": ".png"
           },
           "id": 13065,
           "name": "Restaurant"
          }
         ],
         "distance": 239,
         "features": {
          "amenities": {
           "restroom": true
          },
          "food_and_drink": {
           "alcohol": {
            "cocktails": true,
            "full_bar": true,
            "wine": true
           },
           "meals": {
            "brunch": true,
            "dinner": true,
            "lunch": true
           }
          }
         },
         "fsq_id": "5e61a2592d8a6a00089d5722",
         "geocodes": {
          "main": {
           "latitude": 40.754047,
           "longitude": -74.000829
          }
         },
         "hours_popular": [
          {
           "close": "2100",
           "day": 1,
           "open": "1700"
          },
          {
           "close": "2200",
           "day": 2,
           "open": "1600"
          },
          {
           "close": "1500",
           "day": 3,
           "open": "1200"
          },
          {
           "close": "2100",
           "day": 3,
           "open": "1700"
          },
          {
           "close": "2200",
           "day": 4,
           "open": "1700"
          },
          {
           "close": "+0000",
           "day": 5,
           "open": "1100"
          },
          {
           "close": "+0000",
           "day": 6,
           "open": "1100"
          },
          {
           "close": "2100",
           "day": 7,
           "open": "1200"
          }
         ],
         "name": "Peak NYC",
         "popularity": 0.9886240816006575,
         "rating": 8.7
        },
        {
         "categories": [
          {
           "icon": {
            "prefix": "https://ss3.4sqi.net/img/categories_v2/food/default_",
            "suffix": ".png"
           },
           "id": 13068,
           "name": "American Restaurant"
          },
          {
           "icon": {
            "prefix": "https://ss3.4sqi.net/img/categories_v2/food/newamerican_",
            "suffix": ".png"
           },
           "id": 13314,
           "name": "New American Restaurant"
          }
         ],
         "distance": 312,
         "features": {
          "amenities": {
           "atm": false,
           "live_music": false,
           "outdoor_seating": false,
           "restroom": true,
           "tvs": false
          },
          "food_and_drink": {
           "alcohol": {
            "cocktails": true,
            "full_bar": true,
            "wine": true
           },
           "meals": {
            "brunch": true,
            "dinner": true,
            "happy_hour": true,
            "lunch": true
           }
          },
          "payment": {
           "credit_cards": {
            "accepts_credit_cards": true
           }
          },
          "services": {
           "delivery": true,
           "dine_in": {
            "groups_only_reservations": false,
            "reservations": false
           }
          }
         },
         "fsq_id": "54ddf9a1498e766ab85781f4",
         "geocodes": {
          "main": {
           "latitude": 40.755299,
           "longitude": -73.998432
          },
          "roof": {
           "latitude": 40.755299,
           "longitude": -73.998432
          }
         },
         "hours_popular": [
          {
           "close": "1400",
           "day": 1,
           "open": "1100"
          },
          {
           "close": "2000",
           "day": 1,
           "open": "1900"
          },
          {
           "close": "1500",
           "day": 2,
           "open": "0900"
          },
          {
           "close": "2100",
           "day": 2,
           "open": "1800"
          },
          {
           "close": "1400",
           "day": 3,
           "open": "0900"
          },
          {
           "close": "2000",
           "day": 3,
           "open": "1800"
          },
          {
           "close": "1500",
           "day": 4,
           "open": "0800"
          },
          {
           "close": "2100",
           "day": 4,
           "open": "1800"
          },
          {
           "close": "1500",
           "day": 5,
           "open": "0800"
          },
          {
           "close": "2100",
           "day": 5,
           "open": "1700"
          },
          {
           "close": "2000",
           "day": 6,
           "open": "0900"
          },
          {
           "close": "1900",
           "day": 7,
           "open": "0900"
          }
         ],
         "name": "Friedman's",
         "popularity": 0.9952515220546491,
         "rating": 8.5
        },
        {
         "categories": [
          {
           "icon": {
            "prefix": "https://ss3.4sqi.net/img/categories_v2/food/greek_",
            "suffix": ".png"
           },
           "id": 13177,
           "name": "Greek Restaurant"
          },
          {
           "icon": {
            "prefix": "https://ss3.4sqi.net/img/categories_v2/food/mediterranean_",
            "suffix": ".png"
           },
           "id": 13302,
           "name": "Mediterranean Restaurant"
          },
          {
           "icon": {
            "prefix": "https://ss3.4sqi.net/img/categories_v2/food/seafood_",
            "suffix": ".png"
           },
           "id": 13338,
           "name": "Seafood Restaurant"
          }
         ],
         "distance": 258,
         "features": {
          "amenities": {
           "outdoor_seating": false
          },
          "food_and_drink": {
           "meals": {
            "dinner": true,
            "lunch": true
           }
          },
          "payment": {
           "credit_cards": {
            "accepts_credit_cards": true
           }
          },
          "services": {
           "dine_in": {
            "reservations": true
           }
          }
         },
         "fsq_id": "5c8c7ac938f2160025f3dcd3",
         "geocodes": {
          "main": {
           "latitude": 40.753499,
           "longitude": -74.001157
          },
          "roof": {
           "latitude": 40.753499,
           "longitude": -74.001157
          }
         },
         "hours_popular": [
          {
           "close": "1400",
           "day": 1,
           "open": "1200"
          },
          {
           "close": "2100",
           "day": 1,
           "open": "1700"
          },
          {
           "close": "2200",
           "day": 2,
           "open": "1100"
          },
          {
           "close": "1500",
           "day": 3,
           "open": "1200"
          },
          {
           "close": "2100",
           "day": 3,
           "open": "1700"
          },
          {
           "close": "2200",
           "day": 4,
           "open": "1100"
          },
          {
           "close": "2300",
           "day": 5,
           "open": "1200"
          },
          {
           "close": "2300",
           "day": 6,
           "open": "1200"
          },
          {
           "close": "2100",
           "day": 7,
           "open": "1200"
          }
         ],
         "name": "Estiatorio Milos",
         "popularity": 0.9931278905973485,
         "rating": 7.5
        },
        {
         "categories": [
          {
           "icon": {
            "prefix": "https://ss3.4sqi.net/img/categories_v2/food/burger_",
            "suffix": ".png"
           },
           "id": 13031,
           "name": "Burger Joint"
          },
          {
           "icon": {
            "prefix": "https://ss3.4sqi.net/img/categories_v2/food/default_",
            "suffix": ".png"
           },
           "id": 13068,
           "name": "American Restaurant"
          },
          {
           "icon": {
            "prefix": "https://ss3.4sqi.net/img/categories_v2/food/fastfood_",
            "suffix": ".png"
           },
           "id": 13145,
           "name": "Fast Food Restaurant"
          }
         ],
         "distance": 211,
         "features": {
          "food_and_drink": {
           "meals": {
            "brunch": true,
            "dinner": true,
            "lunch": true
           }
          }
         },
         "fsq_id": "5c8bd0606a5950002c45768d",
         "geocodes": {
          "main": {
           "latitude": 40.753345,
           "longitude": -74.000845
          },
          "roof": {
           "latitude": 40.753345,
           "longitude": -74.000845
          }
         },
         "hours_popular": [
          {
           "close": "2000",
           "day": 1,
           "open": "1100"
          },
          {
           "close": "1600",
           "day": 2,
           "open": "1100"
          },
          {
           "close": "2100",
           "day": 2,
           "open": "1800"
          },
          {
           "close": "2000",
           "day": 3,
           "open": "1200"
          },
          {
           "close": "2100",
           "day": 4,
           "open": "1200"
          },
          {
           "close": "2200",
           "day": 5,
           "open": "1100"
          },
          {
           "close": "2100",
           "day": 6,
           "open": "1100"
          },
          {
           "close": "2100",
           "day": 7,
           "open": "1100"
          }
         ],
         "name": "Shake Shack",
         "popularity": 0.9799894055969803,
         "rating": 7
        },
        {
         "categories": [
          {
           "icon": {
            "prefix": "https://ss3.4sqi.net/img/categories_v2/food/default_",
            "suffix": ".png"
           },
           "id": 13068,
           "name": "American Restaurant"
          }
         ],
         "distance": 246,
         "features": {
          "amenities": {
           "restroom": true
          },
          "food_and_drink": {
           "alcohol": {
            "beer": true,
            "cocktails": true,
            "full_bar": true,
            "wine": true
           },
           "meals": {
            "brunch": true,
            "dinner": true,
            "lunch": true
           }
          },
          "payment": {
           "credit_cards": {
            "accepts_credit_cards": true
           },
           "digital_wallet": {
            "accepts_nfc": true
           }
          },
          "services": {
           "delivery": true,
           "dine_in": {
            "reservations": true
           },
           "takeout": true
          }
         },
         "fsq_id": "5c886442b04056002c8ced53",
         "geocodes": {
          "main": {
           "latitude": 40.753355,
           "longitude": -74.000496
          },
          "roof": {
           "latitude": 40.753355,
           "longitude": -74.000496
          }
         },
         "hours_popular": [
          {
           "close": "1500",
           "day": 1,
           "open": "1200"
          },
          {
           "close": "2100",
           "day": 1,
           "open": "1700"
          },
          {
           "close": "1500",
           "day": 2,
           "open": "1200"
          },
          {
           "close": "2100",
           "day": 2,
           "open": "1700"
          },
          {
           "close": "2100",
           "day": 3,
           "open": "1200"
          },
          {
           "close": "2100",
           "day": 4,
           "open": "1100"
          },
          {
           "close": "2100",
           "day": 5,
           "open": "1200"
          },
          {
           "close": "2100",
           "day": 6,
           "open": "1200"
          },
          {
           "close": "1600",
           "day": 7,
           "open": "1200"
          },
          {
           "close": "2000",
           "day": 7,
           "open": "1900"
          }
         ],
         "name": "Hudson Yards Grill",
         "popularity": 0.9811866206467337,
         "rating": 7.2
        },
        {
         "categories": [
          {
           "icon": {
            "prefix": "https://ss3.4sqi.net/img/categories_v2/food/default_",
            "suffix": ".png"
           },
           "id": 13065,
           "name": "Restaurant"
          },
          {
           "icon": {
            "prefix": "https://ss3.4sqi.net/img/categories_v2/food/vegetarian_",
            "suffix": ".png"
           },
           "id": 13377,
           "name": "Vegan and Vegetarian Restaurant"
          }
         ],
         "distance": 369,
         "features": {
          "amenities": {
           "outdoor_seating": false
          },
          "food_and_drink": {
           "meals": {
            "lunch": true
           }
          },
          "payment": {
           "credit_cards": {
            "accepts_credit_cards": true
           }
          }
         },
         "fsq_id": "5b647af84aa3f8002cbffffc",
         "geocodes": {
          "main": {
           "latitude": 40.752639,
           "longitude": -74.001035
          },
          "roof": {
           "latitude": 40.752639,
           "longitude": -74.001035
          }
         },
         "hours_popular": [
          {
           "close": "1600",
           "day": 1,
           "open": "1100"
          },
          {
           "close": "2100",
           "day": 1,
           "open": "1800"
          },
          {
           "close": "1600",
           "day": 2,
           "open": "1100"
          },
          {
           "close": "2100",
           "day": 2,
           "open": "1800"
          },
          {
           "close": "1500",
           "day": 3,
           "open": "1100"
          },
          {
           "close": "2000",
           "day": 3,
           "open": "1700"
          },
          {
           "close": "1800",
           "day": 4,
           "open": "1100"
          },
          {
           "close": "2100",
           "day": 4,
           "open": "2000"
          },
          {
           "close": "1600",
           "day": 5,
           "open": "1100"
          },
          {
           "close": "1500",
           "day": 6,
           "open": "1200"
          },
          {
           "close": "1400",
           "day": 7,
           "open": "1300"
          }
         ],
         "name": "Sweetgreen",
         "popularity": 0.9970520954826511,
         "rating": 8.5
        },
        {
         "categories": [
          {
           "icon": {
            "prefix": "https://ss3.4sqi.net/img/categories_v2/food/mediterranean_",
            "suffix": ".png"
           },
           "id": 13302,
           "name": "Mediterranean Restaurant"
          },
          {
           "icon": {
            "prefix": "https://ss3.4sqi.net/img/categories_v2/food/spanish_",
            "suffix": ".png"
           },
           "id": 13345,
           "name": "Spanish Restaurant"
          }
         ],
         "distance": 356,
         "features": {
          "amenities": {
           "parking": {
            "parking": false,
            "private_lot": false,
            "public_lot": false,
            "street_parking": false,
            "valet_parking": false
           },
           "private_room": false,
           "restroom": true,
           "smoking": false,
           "wheelchair_accessible": true
          },
          "food_and_drink": {
           "alcohol": {
            "beer": true,
            "cocktails": true,
            "full_bar": true,
            "wine": true
           },
           "meals": {
            "brunch": true,
            "dessert": true,
            "dinner": true,
            "lunch": true
           }
          },
          "payment": {
           "credit_cards": {
            "accepts_credit_cards": true
           }
          },
          "services": {
           "delivery": false
          }
         },
         "fsq_id": "5b29281678782c0034879d48",
         "geocodes": {
          "main": {
           "latitude": 40.752627,
           "longitude": -74.001472
          },
          "roof": {
           "latitude": 40.752627,
           "longitude": -74.001472
          }
         },
         "hours_popular": [
          {
           "close": "2100",
           "day": 1,
           "open": "1200"
          },
          {
           "close": "2100",
           "day": 2,
           "open": "1200"
          },
          {
           "close": "1400",
           "day": 3,
           "open": "1200"
          },
          {
           "close": "2100",
           "day": 3,
           "open": "1700"
          },
          {
           "close": "1400",
           "day": 4,
           "open": "1200"
          },
          {
           "close": "2100",
           "day": 4,
           "open": "1600"
          },
          {
           "close": "2200",
           "day": 5,
           "open": "1200"
          },
          {
           "close": "2200",
           "day": 6,
           "open": "1100"
          },
          {
           "close": "2100",
           "day": 7,
           "open": "1100"
          }
         ],
         "name": "Mercado Little Spain",
         "popularity": 0.9991781023666376,
         "rating": 8.1
        },
        {
         "categories": [
          {
           "icon": {
            "prefix": "https://ss3.4sqi.net/img/categories_v2/food/tapas_",
            "suffix": ".png"
           },
           "id": 13347,
           "name": "Tapas Restaurant"
          }
         ],
         "distance": 345,
         "features": {
          "food_and_drink": {
           "meals": {
            "brunch": true,
            "dinner": true,
            "lunch": true
           }
          }
         },
         "fsq_id": "5c9c05744940bc0039e4743d",
         "geocodes": {
          "main": {
           "latitude": 40.752893,
           "longitude": -74.001613
          },
          "roof": {
           "latitude": 40.752893,
           "longitude": -74.001613
          }
         },
         "hours_popular": [
          {
           "close": "1500",
           "day": 1,
           "open": "1300"
          },
          {
           "close": "2100",
           "day": 1,
           "open": "1700"
          },
          {
           "close": "2100",
           "day": 2,
           "open": "1800"
          },
          {
           "close": "2100",
           "day": 3,
           "open": "1200"
          },
          {
           "close": "2100",
           "day": 4,
           "open": "1200"
          },
          {
           "close": "2100",
           "day": 5,
           "open": "1300"
          },
          {
           "close": "2200",
           "day": 6,
           "open": "1100"
          },
          {
           "close": "2100",
           "day": 7,
           "open": "1200"
          }
         ],
         "name": "La Barra",
         "popularity": 0.9895338700214026,
         "rating": 7.8
        },
        {
         "categories": [
          {
           "icon": {
            "prefix": "https://ss3.4sqi.net/img/categories_v2/food/cafe_",
            "suffix": ".png"
           },
           "id": 13034,
           "name": "Café"
          },
          {
           "icon": {
            "prefix": "https://ss3.4sqi.net/img/categories_v2/food/default_",
            "suffix": ".png"
           },
           "id": 13065,
           "name": "Restaurant"
          }
         ],
         "distance": 296,
         "features": {
          "food_and_drink": {
           "meals": {
            "brunch": true,
            "dinner": true,
            "lunch": true
           }
          }
         },
         "fsq_id": "5ca4fab1e97dfb002c057da3",
         "geocodes": {
          "main": {
           "latitude": 40.753394,
           "longitude": -74.000776
          }
         },
         "hours_popular": [
          {
           "close": "1700",
           "day": 1,
           "open": "0900"
          },
          {
           "close": "1900",
           "day": 2,
           "open": "0800"
          },
          {
           "close": "1700",
           "day": 3,
           "open": "0900"
          },
          {
           "close": "1700",
           "day": 4,
           "open": "0900"
          },
          {
           "close": "1800",
           "day": 5,
           "open": "0800"
          },
          {
           "close": "1900",
           "day": 6,
           "open": "1200"
          },
          {
           "close": "1800",
           "day": 7,
           "open": "1000"
          }
         ],
         "name": "Bluestone Lane",
         "popularity": 0.9801058015045953,
         "rating": 7.2
        },
        {
         "categories": [
          {
           "icon": {
            "prefix": "https://ss3.4sqi.net/img/categories_v2/nightlife/cocktails_",
            "suffix": ".png"
           },
           "id": 13009,
           "name": "Cocktail Bar"
          },
          {
           "icon": {
            "prefix": "https://ss3.4sqi.net/img/categories_v2/food/greek_",
            "suffix": ".png"
           },
           "id": 13177,
           "name": "Greek Restaurant"
          },
          {
           "icon": {
            "prefix": "https://ss3.4sqi.net/img/categories_v2/food/mediterranean_",
            "suffix": ".png"
           },
           "id": 13302,
           "name": "Mediterranean Restaurant"
          }
         ],
         "distance": 341,
         "features": {
          "amenities": {
           "music": true,
           "outdoor_seating": true,
           "parking": {
            "parking": true,
            "street_parking": true
           },
           "private_room": true,
           "restroom": true,
           "wheelchair_accessible": true
          },
          "food_and_drink": {
           "alcohol": {
            "beer": true,
            "cocktails": true,
            "full_bar": true,
            "wine": true
           },
           "meals": {
            "brunch": true,
            "dinner": true
           }
          },
          "payment": {
           "credit_cards": {
            "accepts_credit_cards": true
           }
          },
          "services": {
           "delivery": true,
           "dine_in": {
            "reservations": true
           },
           "takeout": true
          }
         },
         "fsq_id": "615f74698ac596787f516ac5",
         "geocodes": {
          "main": {
           "latitude": 40.754749,
           "longitude": -73.997349
          }
         },
         "name": "Kyma Hudson",
         "popularity": 0.9959475220736524,
         "rating": 7.6
        },
        {
         "categories": [
          {
           "icon": {
            "prefix": "https://ss3.4sqi.net/img/categories_v2/food/coffeeshop_",
            "suffix": ".png"
           },
           "id": 13035,
           "name": "Coffee Shop"
          },
          {
           "icon": {
            "prefix": "https://ss3.4sqi.net/img/categories_v2/food/pizza_",
            "suffix": ".png"
           },
           "id": 13064,
           "name": "Pizzeria"
          },
          {
           "icon": {
            "prefix": "https://ss3.4sqi.net/img/categories_v2/food/italian_",
            "suffix": ".png"
           },
           "id": 13236,
           "name": "Italian Restaurant"
          }
         ],
         "distance": 332,
         "features": {
          "food_and_drink": {
           "meals": {
            "dinner": false
           }
          }
         },
         "fsq_id": "57e55e46498e04b0dc14dbb0",
         "geocodes": {
          "main": {
           "latitude": 40.752852,
           "longitude": -74.003097
          },
          "roof": {
           "latitude": 40.752852,
           "longitude": -74.003097
          }
         },
         "hours_popular": [
          {
           "close": "1600",
           "day": 1,
           "open": "1100"
          },
          {
           "close": "1500",
           "day": 2,
           "open": "1200"
          },
          {
           "close": "2000",
           "day": 2,
           "open": "1900"
          },
          {
           "close": "1000",
           "day": 3,
           "open": "0900"
          },
          {
           "close": "1700",
           "day": 3,
           "open": "1200"
          },
          {
           "close": "2100",
           "day": 3,
           "open": "1900"
          },
          {
           "close": "1500",
           "day": 4,
           "open": "1200"
          },
          {
           "close": "1900",
           "day": 4,
           "open": "1800"
          },
          {
           "close": "1500",
           "day": 5,
           "open": "1200"
          },
          {
           "close": "1800",
           "day": 5,
           "open": "1700"
          },
          {
           "close": "1400",
           "day": 6,
           "open": "1200"
          },
          {
           "close": "1800",
           "day": 6,
           "open": "1700"
          },
          {
           "close": "1600",
           "day": 7,
           "open": "1500"
          }
         ],
         "name": "Via Trenta Pizzoteca",
         "popularity": 0.9415858823641197,
         "rating": 7.3
        },
        {
         "categories": [
          {
           "icon": {
            "prefix": "https://ss3.4sqi.net/img/categories_v2/nightlife/cocktails_",
            "suffix": ".png"
           },
           "id": 13009,
           "name": "Cocktail Bar"
          },
          {
           "icon": {
            "prefix": "https://ss3.4sqi.net/img/categories_v2/food/mediterranean_",
            "suffix": ".png"
           },
           "id": 13302,
           "name": "Mediterranean Restaurant"
          }
         ],
         "distance": 452,
         "features": {
          "amenities": {
           "coat_check": true,
           "restroom": true,
           "wheelchair_accessible": true
          },
          "food_and_drink": {
           "alcohol": {
            "beer": false,
            "cocktails": true,
            "full_bar": true,
            "wine": true
           },
           "meals": {
            "brunch": true,
            "dinner": true,
            "lunch": true
           }
          },
          "payment": {
           "credit_cards": {
            "accepts_credit_cards": true
           }
          },
          "services": {
           "dine_in": {
            "reservations": true
           },
           "takeout": true
          }
         },
         "fsq_id": "6195afec8a1d954d76c8e668",
         "geocodes": {
          "main": {
           "latitude": 40.752902,
           "longitude": -73.998501
          }
         },
         "hours_popular": [
          {
           "close": "1400",
           "day": 1,
           "open": "1300"
          },
          {
           "close": "2100",
           "day": 1,
           "open": "1700"
          },
          {
           "close": "1400",
           "day": 2,
           "open": "1200"
          },
          {
           "close": "2200",
           "day": 2,
           "open": "1700"
          },
          {
           "close": "1400",
           "day": 3,
           "open": "1200"
          },
          {
           "close": "2200",
           "day": 3,
           "open": "1700"
          },
          {
           "close": "1500",
           "day": 4,
           "open": "1400"
          },
          {
           "close": "2300",
           "day": 4,
           "open": "1700"
          },
          {
           "close": "1400",
           "day": 5,
           "open": "1200"
          },
          {
           "close": "2200",
           "day": 5,
           "open": "1700"
          },
          {
           "close": "2200",
           "day": 6,
           "open": "1200"
          },
          {
           "close": "1400",
           "day": 7,
           "open": "1200"
          },
          {
           "close": "2200",
           "day": 7,
           "open": "1700"
          }
         ],
         "name": "Zou Zou's",
         "popularity": 0.9933250510122881,
         "rating": 8.8
        },
        {
         "categories": [
          {
           "icon": {
            "prefix": "https://ss3.4sqi.net/img/categories_v2/food/middleeastern_",
            "suffix": ".png"
           },
           "id": 13309,
           "name": "Middle Eastern Restaurant"
          }
         ],
         "distance": 290,
         "features": {
          "food_and_drink": {
           "meals": {
            "brunch": true,
            "dinner": true,
            "lunch": true
           }
          },
          "services": {
           "delivery": true
          }
         },
         "fsq_id": "5fb80600729b9556c3575237",
         "geocodes": {
          "main": {
           "latitude": 40.753499,
           "longitude": -74.001157
          },
          "roof": {
           "latitude": 40.753499,
           "longitude": -74.001157
          }
         },
         "hours_popular": [
          {
           "close": "1500",
           "day": 1,
           "open": "1200"
          },
          {
           "close": "2000",
           "day": 1,
           "open": "1800"
          },
          {
           "close": "1400",
           "day": 2,
           "open": "1200"
          },
          {
           "close": "2100",
           "day": 2,
           "open": "1800"
          },
          {
           "close": "1500",
           "day": 3,
           "open": "1200"
          },
          {
           "close": "1900",
           "day": 3,
           "open": "1800"
          },
          {
           "close": "1900",
           "day": 4,
           "open": "1200"
          },
          {
           "close": "2000",
           "day": 5,
           "open": "1100"
          },
          {
           "close": "2000",
           "day": 6,
           "open": "1100"
          },
          {
           "close": "1900",
           "day": 7,
           "open": "1100"
          }
         ],
         "name": "Miznon",
         "popularity": 0.9697489411535547,
         "rating": 6.8
        },
        {
         "categories": [
          {
           "icon": {
            "prefix": "https://ss3.4sqi.net/img/categories_v2/food/deli_",
            "suffix": ".png"
           },
           "id": 13039,
           "name": "Deli"
          },
          {
           "icon": {
            "prefix": "https://ss3.4sqi.net/img/categories_v2/food/default_",
            "suffix": ".png"
           },
           "id": 13068,
           "name": "American Restaurant"
          }
         ],
         "distance": 347,
         "features": {
          "amenities": {
           "outdoor_seating": false
          },
          "payment": {
           "credit_cards": {
            "accepts_credit_cards": true
           }
          },
          "services": {
           "delivery": true
          }
         },
         "fsq_id": "5919eba7e4c459609293034c",
         "geocodes": {
          "main": {
           "latitude": 40.753001,
           "longitude": -74.003583
          },
          "roof": {
           "latitude": 40.753001,
           "longitude": -74.003583
          }
         },
         "hours_popular": [
          {
           "close": "1500",
           "day": 1,
           "open": "1200"
          },
          {
           "close": "0900",
           "day": 2,
           "open": "0800"
          },
          {
           "close": "1600",
           "day": 2,
           "open": "1200"
          },
          {
           "close": "1900",
           "day": 2,
           "open": "1800"
          },
          {
           "close": "1500",
           "day": 3,
           "open": "0900"
          },
          {
           "close": "2100",
           "day": 3,
           "open": "1800"
          },
          {
           "close": "1600",
           "day": 4,
           "open": "1200"
          },
          {
           "close": "0600",
           "day": 5,
           "open": "0500"
          },
          {
           "close": "1000",
           "day": 5,
           "open": "0900"
          },
          {
           "close": "1900",
           "day": 5,
           "open": "1200"
          },
          {
           "close": "0600",
           "day": 6,
           "open": "0400"
          },
          {
           "close": "1900",
           "day": 6,
           "open": "1100"
          },
          {
           "close": "2200",
           "day": 6,
           "open": "2100"
          },
          {
           "close": "1800",
           "day": 7,
           "open": "1100"
          },
          {
           "close": "2300",
           "day": 7,
           "open": "2200"
          }
         ],
         "name": "Hudson Food Caters",
         "popularity": 0.9902417471738361,
         "rating": 7.2
        },
        {
         "categories": [
          {
           "icon": {
            "prefix": "https://ss3.4sqi.net/img/categories_v2/nightlife/pub_",
            "suffix": ".png"
           },
           "id": 13003,
           "name": "Bar"
          },
          {
           "icon": {
            "prefix": "https://ss3.4sqi.net/img/categories_v2/food/mexican_",
            "suffix": ".png"
           },
           "id": 13303,
           "name": "Mexican Restaurant"
          }
         ],
         "distance": 440,
         "features": {
          "food_and_drink": {
           "meals": {
            "brunch": true,
            "dinner": true,
            "lunch": true
           }
          },
          "services": {
           "delivery": true
          }
         },
         "fsq_id": "5f161e6f978e663e91ab7155",
         "geocodes": {
          "main": {
           "latitude": 40.752784,
           "longitude": -73.999643
          },
          "roof": {
           "latitude": 40.752784,
           "longitude": -73.999643
          }
         },
         "name": "Jajaja Plantas Mexicana",
         "popularity": 0.9897975423835507,
         "rating": 8
        },
        {
         "categories": [
          {
           "icon": {
            "prefix": "https://ss3.4sqi.net/img/categories_v2/food/bagels_",
            "suffix": ".png"
           },
           "id": 13001,
           "name": "Bagel Shop"
          },
          {
           "icon": {
            "prefix": "https://ss3.4sqi.net/img/categories_v2/food/coffeeshop_",
            "suffix": ".png"
           },
           "id": 13035,
           "name": "Coffee Shop"
          },
          {
           "icon": {
            "prefix": "https://ss3.4sqi.net/img/categories_v2/food/deli_",
            "suffix": ".png"
           },
           "id": 13334,
           "name": "Sandwich Restaurant"
          }
         ],
         "distance": 359,
         "features": {
          "food_and_drink": {
           "meals": {
            "breakfast": true,
            "brunch": true,
            "lunch": true
           }
          },
          "services": {
           "delivery": true
          }
         },
         "fsq_id": "5c9686fa95d986002c8df4e9",
         "geocodes": {
          "main": {
           "latitude": 40.756224,
           "longitude": -73.998163
          },
          "roof": {
           "latitude": 40.756224,
           "longitude": -73.998163
          }
         },
         "hours_popular": [
          {
           "close": "1400",
           "day": 1,
           "open": "0800"
          },
          {
           "close": "1200",
           "day": 2,
           "open": "0800"
          },
          {
           "close": "1400",
           "day": 3,
           "open": "0700"
          },
          {
           "close": "1400",
           "day": 4,
           "open": "0700"
          },
          {
           "close": "1500",
           "day": 5,
           "open": "0800"
          },
          {
           "close": "1500",
           "day": 6,
           "open": "0700"
          },
          {
           "close": "1400",
           "day": 7,
           "open": "0800"
          }
         ],
         "name": "Finn’s Bagels",
         "popularity": 0.9979595084767101,
         "rating": 7.2
        },
        {
         "categories": [
          {
           "icon": {
            "prefix": "https://ss3.4sqi.net/img/categories_v2/food/mexican_",
            "suffix": ".png"
           },
           "id": 13303,
           "name": "Mexican Restaurant"
          }
         ],
         "distance": 402,
         "features": {
          "amenities": {
           "private_room": true,
           "restroom": true,
           "wheelchair_accessible": true
          },
          "food_and_drink": {
           "meals": {
            "dinner": true
           }
          },
          "payment": {
           "credit_cards": {
            "accepts_credit_cards": true
           }
          },
          "services": {
           "dine_in": {
            "reservations": true
           }
          }
         },
         "fsq_id": "5b245aa64a7aae002c414ae9",
         "geocodes": {
          "main": {
           "latitude": 40.75216,
           "longitude": -74.002764
          },
          "roof": {
           "latitude": 40.75216,
           "longitude": -74.002764
          }
         },
         "hours_popular": [
          {
           "close": "1900",
           "day": 1,
           "open": "1700"
          },
          {
           "close": "2100",
           "day": 2,
           "open": "1800"
          },
          {
           "close": "2200",
           "day": 3,
           "open": "1700"
          },
          {
           "close": "1300",
           "day": 4,
           "open": "1200"
          },
          {
           "close": "2300",
           "day": 4,
           "open": "1700"
          },
          {
           "close": "2300",
           "day": 5,
           "open": "1800"
          },
          {
           "close": "+0000",
           "day": 6,
           "open": "1200"
          },
          {
           "close": "1300",
           "day": 7,
           "open": "1200"
          },
          {
           "close": "2200",
           "day": 7,
           "open": "1700"
          }
         ],
         "name": "Kahlo",
         "popularity": 0.9828589210336907,
         "rating": 7.5
        },
        {
         "categories": [
          {
           "icon": {
            "prefix": "https://ss3.4sqi.net/img/categories_v2/food/default_",
            "suffix": ".png"
           },
           "id": 13068,
           "name": "American Restaurant"
          },
          {
           "icon": {
            "prefix": "https://ss3.4sqi.net/img/categories_v2/food/japanese_",
            "suffix": ".png"
           },
           "id": 13263,
           "name": "Japanese Restaurant"
          },
          {
           "icon": {
            "prefix": "https://ss3.4sqi.net/img/categories_v2/food/seafood_",
            "suffix": ".png"
           },
           "id": 13338,
           "name": "Seafood Restaurant"
          }
         ],
         "distance": 484,
         "features": {
          "food_and_drink": {
           "meals": {
            "dinner": true
           }
          },
          "payment": {
           "credit_cards": {
            "accepts_credit_cards": true
           }
          },
          "services": {
           "dine_in": {
            "reservations": true
           }
          }
         },
         "fsq_id": "5854cfc203cf255eb3b9c8cb",
         "geocodes": {
          "main": {
           "latitude": 40.756113,
           "longitude": -73.99628
          },
          "roof": {
           "latitude": 40.756113,
           "longitude": -73.99628
          }
         },
         "hours_popular": [
          {
           "close": "2000",
           "day": 1,
           "open": "1800"
          },
          {
           "close": "2100",
           "day": 2,
           "open": "1700"
          },
          {
           "close": "2100",
           "day": 3,
           "open": "1700"
          },
          {
           "close": "2300",
           "day": 4,
           "open": "1700"
          },
          {
           "close": "+0000",
           "day": 5,
           "open": "1700"
          },
          {
           "close": "+0000",
           "day": 6,
           "open": "1600"
          }
         ],
         "name": "Chef's Table At Brooklyn Fare",
         "popularity": 0.9838233442682142,
         "rating": 8.5
        },
        {
         "categories": [
          {
           "icon": {
            "prefix": "https://ss3.4sqi.net/img/categories_v2/food/spanish_",
            "suffix": ".png"
           },
           "id": 13345,
           "name": "Spanish Restaurant"
          }
         ],
         "distance": 392,
         "features": {
          "amenities": {
           "outdoor_seating": false
          },
          "food_and_drink": {
           "meals": {
            "brunch": true,
            "dinner": true,
            "lunch": true
           }
          }
         },
         "fsq_id": "5c98f037db1d81002ca94beb",
         "geocodes": {
          "main": {
           "latitude": 40.752521,
           "longitude": -74.00138
          },
          "roof": {
           "latitude": 40.752521,
           "longitude": -74.00138
          }
         },
         "hours_popular": [
          {
           "close": "2000",
           "day": 1,
           "open": "1200"
          },
          {
           "close": "1400",
           "day": 2,
           "open": "1200"
          },
          {
           "close": "2100",
           "day": 2,
           "open": "1700"
          },
          {
           "close": "1400",
           "day": 3,
           "open": "1200"
          },
          {
           "close": "2100",
           "day": 3,
           "open": "1700"
          },
          {
           "close": "2200",
           "day": 4,
           "open": "1200"
          },
          {
           "close": "1500",
           "day": 5,
           "open": "1200"
          },
          {
           "close": "2100",
           "day": 5,
           "open": "1700"
          },
          {
           "close": "2100",
           "day": 6,
           "open": "1000"
          },
          {
           "close": "2100",
           "day": 7,
           "open": "1000"
          }
         ],
         "name": "Spanish Diner",
         "popularity": 0.9958121227525494,
         "rating": 7.4
        },
        {
         "categories": [
          {
           "icon": {
            "prefix": "https://ss3.4sqi.net/img/categories_v2/food/bakery_",
            "suffix": ".png"
           },
           "id": 13002,
           "name": "Bakery"
          },
          {
           "icon": {
            "prefix": "https://ss3.4sqi.net/img/categories_v2/food/cafe_",
            "suffix": ".png"
           },
           "id": 13034,
           "name": "Café"
          },
          {
           "icon": {
            "prefix": "https://ss3.4sqi.net/img/categories_v2/food/deli_",
            "suffix": ".png"
           },
           "id": 13334,
           "name": "Sandwich Restaurant"
          }
         ],
         "distance": 463,
         "features": {
          "amenities": {
           "outdoor_seating": true,
           "restroom": true
          },
          "food_and_drink": {
           "meals": {
            "breakfast": true,
            "brunch": true,
            "lunch": true
           }
          },
          "payment": {
           "credit_cards": {
            "accepts_credit_cards": true
           }
          }
         },
         "fsq_id": "61562554fee2fe2373970d05",
         "geocodes": {
          "main": {
           "latitude": 40.752601,
           "longitude": -73.998828
          }
         },
         "hours_popular": [
          {
           "close": "1400",
           "day": 1,
           "open": "0800"
          },
          {
           "close": "1000",
           "day": 2,
           "open": "0800"
          },
          {
           "close": "1700",
           "day": 2,
           "open": "1200"
          },
          {
           "close": "1700",
           "day": 3,
           "open": "0700"
          },
          {
           "close": "1800",
           "day": 4,
           "open": "0800"
          },
          {
           "close": "1500",
           "day": 5,
           "open": "0800"
          },
          {
           "close": "1500",
           "day": 6,
           "open": "0800"
          },
          {
           "close": "1800",
           "day": 6,
           "open": "1700"
          },
          {
           "close": "1800",
           "day": 7,
           "open": "0800"
          }
         ],
         "name": "Daily Provisions",
         "popularity": 0.990362893934823,
         "rating": 8
        },
        {
         "categories": [
          {
           "icon": {
            "prefix": "https://ss3.4sqi.net/img/categories_v2/food/burger_",
            "suffix": ".png"
           },
           "id": 13031,
           "name": "Burger Joint"
          }
         ],
         "distance": 359,
         "features": {
          "food_and_drink": {
           "alcohol": {
            "full_bar": true
           },
           "meals": {
            "dessert": true,
            "dinner": true,
            "lunch": true
           }
          },
          "payment": {
           "credit_cards": {
            "accepts_credit_cards": true
           },
           "digital_wallet": {
            "accepts_nfc": true
           }
          },
          "services": {
           "takeout": true
          }
         },
         "fsq_id": "622a55646c13f82231d9f011",
         "geocodes": {
          "main": {
           "latitude": 40.753219,
           "longitude": -73.999678
          }
         },
         "name": "Umami Burger",
         "popularity": 0.9103015129092563,
         "rating": 7
        },
        {
         "categories": [
          {
           "icon": {
            "prefix": "https://ss3.4sqi.net/img/categories_v2/food/spanish_",
            "suffix": ".png"
           },
           "id": 13345,
           "name": "Spanish Restaurant"
          }
         ],
         "distance": 360,
         "features": {},
         "fsq_id": "5c98f0398afbe0002db91491",
         "geocodes": {
          "main": {
           "latitude": 40.752948,
           "longitude": -74.001572
          },
          "roof": {
           "latitude": 40.752948,
           "longitude": -74.001572
          }
         },
         "name": "Mar",
         "popularity": 0.7758499870539246,
         "rating": 7
        },
        {
         "categories": [
          {
           "icon": {
            "prefix": "https://ss3.4sqi.net/img/categories_v2/food/burger_",
            "suffix": ".png"
           },
           "id": 13031,
           "name": "Burger Joint"
          },
          {
           "icon": {
            "prefix": "https://ss3.4sqi.net/img/categories_v2/food/default_",
            "suffix": ".png"
           },
           "id": 13068,
           "name": "American Restaurant"
          }
         ],
         "distance": 469,
         "features": {
          "amenities": {
           "outdoor_seating": false,
           "restroom": true
          },
          "food_and_drink": {
           "alcohol": {
            "beer": true
           },
           "meals": {
            "brunch": true,
            "dinner": true,
            "lunch": true
           }
          },
          "payment": {
           "credit_cards": {
            "accepts_credit_cards": true
           }
          },
          "services": {
           "delivery": true,
           "dine_in": {
            "reservations": true
           }
          }
         },
         "fsq_id": "589109465289300929500c61",
         "geocodes": {
          "main": {
           "latitude": 40.751872,
           "longitude": -74.001442
          },
          "roof": {
           "latitude": 40.751872,
           "longitude": -74.001442
          }
         },
         "hours_popular": [
          {
           "close": "1400",
           "day": 1,
           "open": "1200"
          },
          {
           "close": "2000",
           "day": 1,
           "open": "1800"
          },
          {
           "close": "2100",
           "day": 2,
           "open": "1200"
          },
          {
           "close": "1500",
           "day": 3,
           "open": "1200"
          },
          {
           "close": "2200",
           "day": 3,
           "open": "1700"
          },
          {
           "close": "1500",
           "day": 4,
           "open": "1200"
          },
          {
           "close": "2200",
           "day": 4,
           "open": "1700"
          },
          {
           "close": "2300",
           "day": 5,
           "open": "1200"
          },
          {
           "close": "2200",
           "day": 6,
           "open": "1200"
          },
          {
           "close": "2000",
           "day": 7,
           "open": "1200"
          }
         ],
         "name": "Whitmans",
         "popularity": 0.9952990305883694,
         "rating": 7.7
        },
        {
         "categories": [
          {
           "icon": {
            "prefix": "https://ss3.4sqi.net/img/categories_v2/food/pizza_",
            "suffix": ".png"
           },
           "id": 13064,
           "name": "Pizzeria"
          },
          {
           "icon": {
            "prefix": "https://ss3.4sqi.net/img/categories_v2/food/italian_",
            "suffix": ".png"
           },
           "id": 13236,
           "name": "Italian Restaurant"
          }
         ],
         "distance": 594,
         "features": {
          "food_and_drink": {
           "meals": {
            "dinner": true,
            "lunch": true
           }
          },
          "services": {
           "delivery": true
          }
         },
         "fsq_id": "5d77f4e809608a000734bf2a",
         "geocodes": {
          "main": {
           "latitude": 40.754412,
           "longitude": -73.995339
          },
          "roof": {
           "latitude": 40.754412,
           "longitude": -73.995339
          }
         },
         "hours_popular": [
          {
           "close": "2200",
           "day": 1,
           "open": "1200"
          },
          {
           "close": "1600",
           "day": 2,
           "open": "1200"
          },
          {
           "close": "2300",
           "day": 2,
           "open": "1800"
          },
          {
           "close": "2300",
           "day": 3,
           "open": "1200"
          },
          {
           "close": "2300",
           "day": 4,
           "open": "1200"
          },
          {
           "close": "1300",
           "day": 5,
           "open": "1200"
          },
          {
           "close": "2300",
           "day": 5,
           "open": "1500"
          },
          {
           "close": "+0000",
           "day": 6,
           "open": "1200"
          },
          {
           "close": "1300",
           "day": 7,
           "open": "1200"
          },
          {
           "close": "2200",
           "day": 7,
           "open": "1500"
          }
         ],
         "name": "Vitos Slices And Ices",
         "popularity": 0.992408136311485,
         "rating": 8.6
        },
        {
         "categories": [
          {
           "icon": {
            "prefix": "https://ss3.4sqi.net/img/categories_v2/food/default_",
            "suffix": ".png"
           },
           "id": 13065,
           "name": "Restaurant"
          }
         ],
         "distance": 589,
         "features": {
          "amenities": {
           "live_music": false,
           "outdoor_seating": false,
           "parking": {
            "parking": true,
            "street_parking": true
           },
           "private_room": false,
           "restroom": true,
           "smoking": false,
           "tvs": false
          },
          "food_and_drink": {
           "alcohol": {
            "beer": true,
            "cocktails": false,
            "full_bar": false,
            "wine": true
           },
           "meals": {
            "brunch": true,
            "happy_hour": false,
            "lunch": true
           }
          },
          "payment": {
           "credit_cards": {
            "accepts_credit_cards": true
           },
           "digital_wallet": {
            "accepts_nfc": false
           }
          },
          "services": {
           "delivery": true,
           "dine_in": {
            "groups_only_reservations": false,
            "reservations": false
           }
          }
         },
         "fsq_id": "4dcae1b18877502200c95822",
         "geocodes": {
          "main": {
           "latitude": 40.754357,
           "longitude": -73.995381
          },
          "roof": {
           "latitude": 40.754357,
           "longitude": -73.995381
          }
         },
         "hours_popular": [
          {
           "close": "1500",
           "day": 1,
           "open": "1100"
          },
          {
           "close": "1500",
           "day": 2,
           "open": "1200"
          },
          {
           "close": "1900",
           "day": 2,
           "open": "1800"
          },
          {
           "close": "1600",
           "day": 3,
           "open": "1100"
          },
          {
           "close": "1600",
           "day": 4,
           "open": "1100"
          },
          {
           "close": "1900",
           "day": 4,
           "open": "1800"
          },
          {
           "close": "1600",
           "day": 5,
           "open": "1100"
          },
          {
           "close": "1900",
           "day": 5,
           "open": "1800"
          },
          {
           "close": "1600",
           "day": 6,
           "open": "1100"
          },
          {
           "close": "1700",
           "day": 7,
           "open": "1200"
          }
         ],
         "name": "Sergimmo Salumeria",
         "popularity": 0.9682880537416534,
         "rating": 8.5
        },
        {
         "categories": [
          {
           "icon": {
            "prefix": "https://ss3.4sqi.net/img/categories_v2/food/deli_",
            "suffix": ".png"
           },
           "id": 13039,
           "name": "Deli"
          }
         ],
         "distance": 576,
         "features": {
          "food_and_drink": {
           "meals": {
            "breakfast": true,
            "lunch": true
           }
          },
          "services": {
           "delivery": true
          }
         },
         "fsq_id": "5853f7e27220e62803f7b4eb",
         "geocodes": {
          "main": {
           "latitude": 40.754081,
           "longitude": -73.995588
          },
          "roof": {
           "latitude": 40.754081,
           "longitude": -73.995588
          }
         },
         "hours_popular": [
          {
           "close": "1900",
           "day": 1,
           "open": "0800"
          },
          {
           "close": "1500",
           "day": 2,
           "open": "0800"
          },
          {
           "close": "1900",
           "day": 2,
           "open": "1800"
          },
          {
           "close": "1900",
           "day": 3,
           "open": "0900"
          },
          {
           "close": "1700",
           "day": 4,
           "open": "0800"
          },
          {
           "close": "1500",
           "day": 5,
           "open": "0800"
          },
          {
           "close": "1500",
           "day": 6,
           "open": "1400"
          },
          {
           "close": "1000",
           "day": 7,
           "open": "0900"
          },
          {
           "close": "1800",
           "day": 7,
           "open": "1400"
          }
         ],
         "name": "H-Yard Gourmet Deli",
         "popularity": 0.9899329417046537,
         "rating": 7.8
        },
        {
         "categories": [
          {
           "icon": {
            "prefix": "https://ss3.4sqi.net/img/categories_v2/food/middleeastern_",
            "suffix": ".png"
           },
           "id": 13288,
           "name": "Kebab Restaurant"
          }
         ],
         "distance": 630,
         "features": {
          "amenities": {
           "outdoor_seating": true,
           "restroom": true
          },
          "food_and_drink": {
           "alcohol": {
            "beer": true,
            "wine": true
           },
           "meals": {
            "brunch": true,
            "dinner": true
           }
          },
          "payment": {
           "credit_cards": {
            "accepts_credit_cards": true
           }
          },
          "services": {
           "delivery": true,
           "dine_in": {
            "reservations": true
           },
           "takeout": true
          }
         },
         "fsq_id": "5b2d2f56911fc4002cd86b15",
         "geocodes": {
          "main": {
           "latitude": 40.755569,
           "longitude": -73.994467
          },
          "roof": {
           "latitude": 40.755569,
           "longitude": -73.994467
          }
         },
         "hours_popular": [
          {
           "close": "2000",
           "day": 1,
           "open": "1800"
          },
          {
           "close": "1400",
           "day": 2,
           "open": "1200"
          },
          {
           "close": "2200",
           "day": 2,
           "open": "1700"
          },
          {
           "close": "2200",
           "day": 3,
           "open": "1200"
          },
          {
           "close": "1400",
           "day": 4,
           "open": "1200"
          },
          {
           "close": "2300",
           "day": 4,
           "open": "1800"
          },
          {
           "close": "1400",
           "day": 5,
           "open": "1200"
          },
          {
           "close": "2300",
           "day": 5,
           "open": "1600"
          },
          {
           "close": "2300",
           "day": 6,
           "open": "1300"
          },
          {
           "close": "1500",
           "day": 7,
           "open": "1200"
          },
          {
           "close": "2200",
           "day": 7,
           "open": "1700"
          }
         ],
         "name": "Farida",
         "popularity": 0.9755354805606957,
         "rating": 8.5
        },
        {
         "categories": [
          {
           "icon": {
            "prefix": "https://ss3.4sqi.net/img/categories_v2/food/pizza_",
            "suffix": ".png"
           },
           "id": 13064,
           "name": "Pizzeria"
          },
          {
           "icon": {
            "prefix": "https://ss3.4sqi.net/img/categories_v2/food/italian_",
            "suffix": ".png"
           },
           "id": 13236,
           "name": "Italian Restaurant"
          },
          {
           "icon": {
            "prefix": "https://ss3.4sqi.net/img/categories_v2/food/seafood_",
            "suffix": ".png"
           },
           "id": 13338,
           "name": "Seafood Restaurant"
          }
         ],
         "distance": 620,
         "features": {
          "amenities": {
           "live_music": false,
           "outdoor_seating": false
          },
          "food_and_drink": {
           "alcohol": {
            "beer": true,
            "cocktails": true,
            "full_bar": false,
            "wine": true
           },
           "meals": {
            "brunch": false,
            "dinner": true,
            "happy_hour": true,
            "lunch": true
           }
          },
          "payment": {
           "credit_cards": {
            "accepts_credit_cards": true
           }
          },
          "services": {
           "delivery": true,
           "dine_in": {
            "online_reservations": true,
            "reservations": true
           }
          }
         },
         "fsq_id": "505b7061e4b0571999fb3da8",
         "geocodes": {
          "main": {
           "latitude": 40.755348,
           "longitude": -73.994633
          },
          "roof": {
           "latitude": 40.755348,
           "longitude": -73.994633
          }
         },
         "hours_popular": [
          {
           "close": "1400",
           "day": 1,
           "open": "1200"
          },
          {
           "close": "2200",
           "day": 1,
           "open": "1700"
          },
          {
           "close": "1400",
           "day": 2,
           "open": "1200"
          },
          {
           "close": "2200",
           "day": 2,
           "open": "1800"
          },
          {
           "close": "1400",
           "day": 3,
           "open": "1200"
          },
          {
           "close": "2200",
           "day": 3,
           "open": "1700"
          },
          {
           "close": "1500",
           "day": 4,
           "open": "1200"
          },
          {
           "close": "2300",
           "day": 4,
           "open": "1700"
          },
          {
           "close": "1500",
           "day": 5,
           "open": "1200"
          },
          {
           "close": "2300",
           "day": 5,
           "open": "1700"
          },
          {
           "close": "2300",
           "day": 6,
           "open": "1400"
          },
          {
           "close": "2200",
           "day": 7,
           "open": "1500"
          }
         ],
         "name": "Tavola",
         "popularity": 0.9887428529349584,
         "rating": 8.3
        },
        {
         "categories": [
          {
           "icon": {
            "prefix": "https://ss3.4sqi.net/img/categories_v2/food/argentinian_",
            "suffix": ".png"
           },
           "id": 13070,
           "name": "Argentinian Restaurant"
          },
          {
           "icon": {
            "prefix": "https://ss3.4sqi.net/img/categories_v2/food/latinamerican_",
            "suffix": ".png"
           },
           "id": 13297,
           "name": "Latin American Restaurant"
          }
         ],
         "distance": 611,
         "features": {
          "amenities": {
           "live_music": false,
           "outdoor_seating": false
          },
          "food_and_drink": {
           "alcohol": {
            "cocktails": true,
            "full_bar": true,
            "wine": true
           },
           "meals": {
            "brunch": true,
            "dinner": true,
            "happy_hour": false,
            "lunch": true
           }
          },
          "payment": {
           "credit_cards": {
            "accepts_credit_cards": true
           }
          },
          "services": {
           "delivery": false,
           "dine_in": {
            "online_reservations": true,
            "reservations": true
           }
          }
         },
         "fsq_id": "4ee17c11490152e4bc508413",
         "geocodes": {
          "main": {
           "latitude": 40.750442,
           "longitude": -74.002434
          },
          "roof": {
           "latitude": 40.750442,
           "longitude": -74.002434
          }
         },
         "hours_popular": [
          {
           "close": "1400",
           "day": 1,
           "open": "1200"
          },
          {
           "close": "2200",
           "day": 1,
           "open": "1800"
          },
          {
           "close": "1400",
           "day": 2,
           "open": "1200"
          },
          {
           "close": "2200",
           "day": 2,
           "open": "1800"
          },
          {
           "close": "1400",
           "day": 3,
           "open": "1200"
          },
          {
           "close": "2300",
           "day": 3,
           "open": "1800"
          },
          {
           "close": "1400",
           "day": 4,
           "open": "1200"
          },
          {
           "close": "2300",
           "day": 4,
           "open": "1800"
          },
          {
           "close": "1500",
           "day": 5,
           "open": "1200"
          },
          {
           "close": "+0000",
           "day": 5,
           "open": "1700"
          },
          {
           "close": "+0000",
           "day": 6,
           "open": "1700"
          },
          {
           "close": "2200",
           "day": 7,
           "open": "1700"
          }
         ],
         "name": "Porteno Restaurant",
         "popularity": 0.9779512895003765,
         "rating": 8.2
        },
        {
         "categories": [
          {
           "icon": {
            "prefix": "https://ss3.4sqi.net/img/categories_v2/food/cafe_",
            "suffix": ".png"
           },
           "id": 13034,
           "name": "Café"
          },
          {
           "icon": {
            "prefix": "https://ss3.4sqi.net/img/categories_v2/food/italian_",
            "suffix": ".png"
           },
           "id": 13236,
           "name": "Italian Restaurant"
          }
         ],
         "distance": 557,
         "features": {
          "food_and_drink": {
           "meals": {
            "breakfast": true,
            "brunch": true,
            "dinner": true,
            "lunch": true
           }
          },
          "services": {
           "delivery": true
          }
         },
         "fsq_id": "5bdc771c57a5370039b1eeee",
         "geocodes": {
          "main": {
           "latitude": 40.750929,
           "longitude": -74.002409
          },
          "roof": {
           "latitude": 40.750929,
           "longitude": -74.002409
          }
         },
         "hours_popular": [
          {
           "close": "1400",
           "day": 1,
           "open": "0900"
          },
          {
           "close": "1900",
           "day": 1,
           "open": "1800"
          },
          {
           "close": "1900",
           "day": 2,
           "open": "0900"
          },
          {
           "close": "1000",
           "day": 3,
           "open": "0900"
          },
          {
           "close": "2100",
           "day": 3,
           "open": "1200"
          },
          {
           "close": "1300",
           "day": 4,
           "open": "0800"
          },
          {
           "close": "2000",
           "day": 4,
           "open": "1600"
          },
          {
           "close": "1600",
           "day": 5,
           "open": "0800"
          },
          {
           "close": "2100",
           "day": 5,
           "open": "2000"
          },
          {
           "close": "1800",
           "day": 6,
           "open": "0900"
          },
          {
           "close": "1900",
           "day": 7,
           "open": "0900"
          }
         ],
         "name": "Il Piccolo Ristoro",
         "popularity": 0.9765592894623697,
         "rating": 7.6
        },
        {
         "categories": [
          {
           "icon": {
            "prefix": "https://ss3.4sqi.net/img/categories_v2/food/default_",
            "suffix": ".png"
           },
           "id": 13065,
           "name": "Restaurant"
          }
         ],
         "distance": 574,
         "features": {
          "amenities": {
           "live_music": false,
           "outdoor_seating": false
          },
          "food_and_drink": {
           "alcohol": {
            "cocktails": true,
            "full_bar": true,
            "wine": true
           },
           "meals": {
            "brunch": true,
            "dinner": true,
            "happy_hour": true,
            "lunch": true
           }
          },
          "payment": {
           "credit_cards": {
            "accepts_credit_cards": true
           }
          },
          "services": {
           "delivery": true,
           "dine_in": {
            "online_reservations": true,
            "reservations": true
           }
          }
         },
         "fsq_id": "43cdefe7f964a520d72d1fe3",
         "geocodes": {
          "main": {
           "latitude": 40.753698,
           "longitude": -73.995792
          },
          "roof": {
           "latitude": 40.753698,
           "longitude": -73.995792
          }
         },
         "hours_popular": [
          {
           "close": "1400",
           "day": 1,
           "open": "1300"
          },
          {
           "close": "2200",
           "day": 1,
           "open": "1700"
          },
          {
           "close": "1500",
           "day": 2,
           "open": "1200"
          },
          {
           "close": "2200",
           "day": 2,
           "open": "1700"
          },
          {
           "close": "1500",
           "day": 3,
           "open": "1200"
          },
          {
           "close": "2300",
           "day": 3,
           "open": "1700"
          },
          {
           "close": "1400",
           "day": 4,
           "open": "1200"
          },
          {
           "close": "2300",
           "day": 4,
           "open": "1700"
          },
          {
           "close": "1400",
           "day": 5,
           "open": "1200"
          },
          {
           "close": "2300",
           "day": 5,
           "open": "1700"
          },
          {
           "close": "2200",
           "day": 6,
           "open": "1600"
          },
          {
           "close": "1400",
           "day": 7,
           "open": "1300"
          },
          {
           "close": "2100",
           "day": 7,
           "open": "1600"
          }
         ],
         "name": "Uncle Jack's Steakhouse - Westside",
         "popularity": 0.9776899925649145,
         "rating": 7.7
        },
        {
         "categories": [
          {
           "icon": {
            "prefix": "https://ss3.4sqi.net/img/categories_v2/food/thai_",
            "suffix": ".png"
           },
           "id": 13352,
           "name": "Thai Restaurant"
          }
         ],
         "distance": 573,
         "features": {
          "amenities": {
           "jukebox": true,
           "live_music": false,
           "music": true,
           "outdoor_seating": false,
           "restroom": true,
           "tvs": true,
           "wheelchair_accessible": true
          },
          "food_and_drink": {
           "alcohol": {
            "beer": true,
            "cocktails": true,
            "full_bar": true,
            "wine": true
           },
           "meals": {
            "brunch": true,
            "dinner": true,
            "happy_hour": true,
            "lunch": true
           }
          },
          "payment": {
           "credit_cards": {
            "accepts_credit_cards": true
           }
          },
          "services": {
           "delivery": true
          }
         },
         "fsq_id": "4f47d688e4b0d125f5871461",
         "geocodes": {
          "main": {
           "latitude": 40.754467,
           "longitude": -73.995298
          },
          "roof": {
           "latitude": 40.754467,
           "longitude": -73.995298
          }
         },
         "hours_popular": [
          {
           "close": "1500",
           "day": 1,
           "open": "1200"
          },
          {
           "close": "2100",
           "day": 1,
           "open": "1800"
          },
          {
           "close": "1500",
           "day": 2,
           "open": "1200"
          },
          {
           "close": "2100",
           "day": 2,
           "open": "1800"
          },
          {
           "close": "1500",
           "day": 3,
           "open": "1200"
          },
          {
           "close": "2200",
           "day": 3,
           "open": "1800"
          },
          {
           "close": "1500",
           "day": 4,
           "open": "1200"
          },
          {
           "close": "2200",
           "day": 4,
           "open": "1800"
          },
          {
           "close": "2200",
           "day": 5,
           "open": "1200"
          },
          {
           "close": "2200",
           "day": 6,
           "open": "1200"
          },
          {
           "close": "2200",
           "day": 7,
           "open": "1200"
          }
         ],
         "name": "Zoob Zib",
         "popularity": 0.9831320951025828,
         "rating": 7.6
        },
        {
         "categories": [
          {
           "icon": {
            "prefix": "https://ss3.4sqi.net/img/categories_v2/food/asian_",
            "suffix": ".png"
           },
           "id": 13072,
           "name": "Asian Restaurant"
          },
          {
           "icon": {
            "prefix": "https://ss3.4sqi.net/img/categories_v2/food/thai_",
            "suffix": ".png"
           },
           "id": 13352,
           "name": "Thai Restaurant"
          }
         ],
         "distance": 627,
         "features": {
          "food_and_drink": {
           "meals": {
            "dinner": true,
            "lunch": true
           }
          },
          "services": {
           "delivery": true
          }
         },
         "fsq_id": "5cd74b086bdee6002c046407",
         "geocodes": {
          "main": {
           "latitude": 40.755018,
           "longitude": -73.994883
          },
          "roof": {
           "latitude": 40.755018,
           "longitude": -73.994883
          }
         },
         "name": "Aiyara Thai",
         "popularity": 0.9686942517049625,
         "rating": 7.7
        },
        {
         "categories": [
          {
           "icon": {
            "prefix": "https://ss3.4sqi.net/img/categories_v2/food/italian_",
            "suffix": ".png"
           },
           "id": 13236,
           "name": "Italian Restaurant"
          }
         ],
         "distance": 633,
         "features": {
          "amenities": {
           "coat_check": true,
           "live_music": false,
           "outdoor_seating": false
          },
          "food_and_drink": {
           "alcohol": {
            "beer": true,
            "cocktails": true,
            "full_bar": true,
            "wine": true
           },
           "meals": {
            "brunch": true,
            "dessert": true,
            "dinner": true,
            "happy_hour": true,
            "lunch": true
           }
          },
          "payment": {
           "credit_cards": {
            "accepts_credit_cards": true
           }
          },
          "services": {
           "delivery": true,
           "dine_in": {
            "online_reservations": true,
            "reservations": true
           }
          }
         },
         "fsq_id": "4abad7b8f964a520208320e3",
         "geocodes": {
          "main": {
           "latitude": 40.756105,
           "longitude": -73.994576
          },
          "roof": {
           "latitude": 40.756105,
           "longitude": -73.994576
          }
         },
         "hours_popular": [
          {
           "close": "1400",
           "day": 1,
           "open": "1200"
          },
          {
           "close": "2200",
           "day": 1,
           "open": "1800"
          },
          {
           "close": "1400",
           "day": 2,
           "open": "1200"
          },
          {
           "close": "2200",
           "day": 2,
           "open": "1700"
          },
          {
           "close": "1300",
           "day": 3,
           "open": "1200"
          },
          {
           "close": "2200",
           "day": 3,
           "open": "1700"
          },
          {
           "close": "1400",
           "day": 4,
           "open": "1200"
          },
          {
           "close": "2200",
           "day": 4,
           "open": "1800"
          },
          {
           "close": "1500",
           "day": 5,
           "open": "1200"
          },
          {
           "close": "2200",
           "day": 5,
           "open": "1800"
          },
          {
           "close": "1400",
           "day": 6,
           "open": "1200"
          },
          {
           "close": "2200",
           "day": 6,
           "open": "1600"
          },
          {
           "close": "1500",
           "day": 7,
           "open": "1200"
          },
          {
           "close": "2100",
           "day": 7,
           "open": "1700"
          }
         ],
         "name": "Il Punto Ristorante",
         "popularity": 0.9844148255130328,
         "rating": 7.7
        },
        {
         "categories": [
          {
           "icon": {
            "prefix": "https://ss3.4sqi.net/img/categories_v2/food/default_",
            "suffix": ".png"
           },
           "id": 13065,
           "name": "Restaurant"
          }
         ],
         "distance": 525,
         "features": {
          "food_and_drink": {
           "meals": {
            "lunch": true
           }
          },
          "services": {
           "delivery": true
          }
         },
         "fsq_id": "5afda30cdec1d600393acd8e",
         "geocodes": {
          "main": {
           "latitude": 40.75177,
           "longitude": -74.005194
          },
          "roof": {
           "latitude": 40.75177,
           "longitude": -74.005194
          }
         },
         "hours_popular": [
          {
           "close": "1500",
           "day": 1,
           "open": "1200"
          },
          {
           "close": "1500",
           "day": 2,
           "open": "0900"
          },
          {
           "close": "1500",
           "day": 3,
           "open": "0900"
          },
          {
           "close": "1400",
           "day": 4,
           "open": "1000"
          },
          {
           "close": "1600",
           "day": 5,
           "open": "1000"
          },
          {
           "close": "1500",
           "day": 6,
           "open": "1100"
          },
          {
           "close": "1500",
           "day": 7,
           "open": "1300"
          }
         ],
         "name": "Avocaderia",
         "popularity": 0.9446216776688513,
         "rating": 6.9
        },
        {
         "categories": [
          {
           "icon": {
            "prefix": "https://ss3.4sqi.net/img/categories_v2/nightlife/beergarden_",
            "suffix": ".png"
           },
           "id": 13007,
           "name": "Beer Garden"
          },
          {
           "icon": {
            "prefix": "https://ss3.4sqi.net/img/categories_v2/food/default_",
            "suffix": ".png"
           },
           "id": 13068,
           "name": "American Restaurant"
          },
          {
           "icon": {
            "prefix": "https://ss3.4sqi.net/img/categories_v2/food/greek_",
            "suffix": ".png"
           },
           "id": 13177,
           "name": "Greek Restaurant"
          }
         ],
         "distance": 533,
         "features": {
          "amenities": {
           "live_music": false,
           "outdoor_seating": true
          },
          "food_and_drink": {
           "alcohol": {
            "beer": true,
            "cocktails": true,
            "full_bar": true
           },
           "meals": {
            "brunch": true,
            "dinner": true,
            "happy_hour": true,
            "lunch": true
           }
          },
          "payment": {
           "credit_cards": {
            "accepts_credit_cards": true
           }
          },
          "services": {
           "dine_in": {
            "reservations": true
           }
          }
         },
         "fsq_id": "5457902f498e05a0fd836e27",
         "geocodes": {
          "main": {
           "latitude": 40.751099,
           "longitude": -74.00211
          },
          "roof": {
           "latitude": 40.751099,
           "longitude": -74.00211
          }
         },
         "hours_popular": [
          {
           "close": "1300",
           "day": 1,
           "open": "1200"
          },
          {
           "close": "2100",
           "day": 1,
           "open": "1700"
          },
          {
           "close": "1400",
           "day": 2,
           "open": "1200"
          },
          {
           "close": "2100",
           "day": 2,
           "open": "1700"
          },
          {
           "close": "1400",
           "day": 3,
           "open": "1200"
          },
          {
           "close": "2200",
           "day": 3,
           "open": "1600"
          },
          {
           "close": "1400",
           "day": 4,
           "open": "1200"
          },
          {
           "close": "2200",
           "day": 4,
           "open": "1700"
          },
          {
           "close": "2300",
           "day": 5,
           "open": "1200"
          },
          {
           "close": "2200",
           "day": 6,
           "open": "1200"
          },
          {
           "close": "2000",
           "day": 7,
           "open": "1200"
          }
         ],
         "name": "Death Ave",
         "popularity": 0.9947099247702369,
         "rating": 6.8
        },
        {
         "categories": [
          {
           "icon": {
            "prefix": "https://ss3.4sqi.net/img/categories_v2/food/diner_",
            "suffix": ".png"
           },
           "id": 13049,
           "name": "Diner"
          }
         ],
         "distance": 530,
         "features": {
          "amenities": {
           "live_music": false,
           "outdoor_seating": false
          },
          "food_and_drink": {
           "alcohol": {
            "beer": true,
            "cocktails": true,
            "full_bar": false
           },
           "meals": {
            "breakfast": true,
            "brunch": true,
            "dinner": true,
            "happy_hour": false,
            "lunch": true
           }
          },
          "payment": {
           "credit_cards": {
            "accepts_credit_cards": true
           }
          },
          "services": {
           "delivery": true,
           "dine_in": {
            "groups_only_reservations": false,
            "reservations": false
           }
          }
         },
         "fsq_id": "3fd66200f964a520b4e31ee3",
         "geocodes": {
          "main": {
           "latitude": 40.753296,
           "longitude": -73.996693
          },
          "roof": {
           "latitude": 40.753296,
           "longitude": -73.996693
          }
         },
         "hours_popular": [
          {
           "close": "1400",
           "day": 1,
           "open": "1000"
          },
          {
           "close": "1400",
           "day": 2,
           "open": "1200"
          },
          {
           "close": "1900",
           "day": 2,
           "open": "1800"
          },
          {
           "close": "1400",
           "day": 3,
           "open": "1200"
          },
          {
           "close": "1000",
           "day": 4,
           "open": "0900"
          },
          {
           "close": "1500",
           "day": 4,
           "open": "1200"
          },
          {
           "close": "1500",
           "day": 5,
           "open": "0800"
          },
          {
           "close": "+0000",
           "day": 5,
           "open": "1700"
          },
          {
           "close": "2100",
           "day": 6,
           "open": "0800"
          },
          {
           "close": "1900",
           "day": 7,
           "open": "0800"
          }
         ],
         "name": "Skylight Diner",
         "popularity": 0.9959498975003385,
         "rating": 6.8
        },
        {
         "categories": [
          {
           "icon": {
            "prefix": "https://ss3.4sqi.net/img/categories_v2/food/indian_",
            "suffix": ".png"
           },
           "id": 13199,
           "name": "Indian Restaurant"
          }
         ],
         "distance": 579,
         "features": {
          "amenities": {
           "live_music": false,
           "outdoor_seating": false
          },
          "food_and_drink": {
           "alcohol": {
            "cocktails": false,
            "full_bar": false
           },
           "meals": {
            "brunch": false,
            "dinner": true,
            "happy_hour": false,
            "lunch": true
           }
          },
          "payment": {
           "credit_cards": {
            "accepts_credit_cards": true
           }
          },
          "services": {
           "delivery": true,
           "dine_in": {
            "groups_only_reservations": false,
            "reservations": false
           }
          }
         },
         "fsq_id": "5186c69c498ea0e23253df02",
         "geocodes": {
          "main": {
           "latitude": 40.753372,
           "longitude": -73.995866
          },
          "roof": {
           "latitude": 40.753372,
           "longitude": -73.995866
          }
         },
         "hours_popular": [
          {
           "close": "1500",
           "day": 1,
           "open": "1100"
          },
          {
           "close": "1900",
           "day": 1,
           "open": "1800"
          },
          {
           "close": "2200",
           "day": 1,
           "open": "2100"
          },
          {
           "close": "1400",
           "day": 2,
           "open": "1100"
          },
          {
           "close": "2100",
           "day": 2,
           "open": "1700"
          },
          {
           "close": "1500",
           "day": 3,
           "open": "1100"
          },
          {
           "close": "2100",
           "day": 3,
           "open": "1800"
          },
          {
           "close": "1600",
           "day": 4,
           "open": "1100"
          },
          {
           "close": "2100",
           "day": 4,
           "open": "1800"
          },
          {
           "close": "1500",
           "day": 5,
           "open": "1100"
          },
          {
           "close": "2100",
           "day": 5,
           "open": "1800"
          },
          {
           "close": "1400",
           "day": 6,
           "open": "1300"
          },
          {
           "close": "1700",
           "day": 6,
           "open": "1600"
          },
          {
           "close": "2100",
           "day": 6,
           "open": "1900"
          },
          {
           "close": "1400",
           "day": 7,
           "open": "1200"
          },
          {
           "close": "2100",
           "day": 7,
           "open": "1600"
          }
         ],
         "name": "Patiala",
         "popularity": 0.9932395356515914,
         "rating": 7
        },
        {
         "categories": [
          {
           "icon": {
            "prefix": "https://ss3.4sqi.net/img/categories_v2/food/indian_",
            "suffix": ".png"
           },
           "id": 13199,
           "name": "Indian Restaurant"
          },
          {
           "icon": {
            "prefix": "https://ss3.4sqi.net/img/categories_v2/food/middleeastern_",
            "suffix": ".png"
           },
           "id": 13309,
           "name": "Middle Eastern Restaurant"
          },
          {
           "icon": {
            "prefix": "https://ss3.4sqi.net/img/categories_v2/food/default_",
            "suffix": ".png"
           },
           "id": 13316,
           "name": "Pakistani Restaurant"
          }
         ],
         "distance": 601,
         "features": {
          "amenities": {
           "outdoor_seating": false
          },
          "food_and_drink": {
           "alcohol": {
            "cocktails": false,
            "full_bar": false
           }
          },
          "payment": {
           "credit_cards": {
            "accepts_credit_cards": true
           }
          },
          "services": {
           "delivery": true,
           "dine_in": {
            "groups_only_reservations": false,
            "reservations": false
           },
           "takeout": true
          }
         },
         "fsq_id": "4a81c3c9f964a52081f71fe3",
         "geocodes": {
          "main": {
           "latitude": 40.754963,
           "longitude": -73.994924
          },
          "roof": {
           "latitude": 40.754963,
           "longitude": -73.994924
          }
         },
         "hours_popular": [
          {
           "close": "1500",
           "day": 1,
           "open": "1200"
          },
          {
           "close": "2000",
           "day": 1,
           "open": "1800"
          },
          {
           "close": "2300",
           "day": 1,
           "open": "2200"
          },
          {
           "close": "1500",
           "day": 2,
           "open": "1200"
          },
          {
           "close": "+0000",
           "day": 2,
           "open": "1800"
          },
          {
           "close": "1600",
           "day": 3,
           "open": "1200"
          },
          {
           "close": "2300",
           "day": 3,
           "open": "1800"
          },
          {
           "close": "1600",
           "day": 4,
           "open": "1200"
          },
          {
           "close": "2300",
           "day": 4,
           "open": "1800"
          },
          {
           "close": "1500",
           "day": 5,
           "open": "1200"
          },
          {
           "close": "+0200",
           "day": 5,
           "open": "1800"
          },
          {
           "close": "1500",
           "day": 6,
           "open": "1300"
          },
          {
           "close": "+0300",
           "day": 6,
           "open": "1700"
          },
          {
           "close": "1400",
           "day": 7,
           "open": "1300"
          },
          {
           "close": "2300",
           "day": 7,
           "open": "1600"
          }
         ],
         "name": "Kashmir 9",
         "popularity": 0.9404908106618651,
         "rating": 7.2
        },
        {
         "categories": [
          {
           "icon": {
            "prefix": "https://ss3.4sqi.net/img/categories_v2/food/default_",
            "suffix": ".png"
           },
           "id": 13065,
           "name": "Restaurant"
          }
         ],
         "distance": 683,
         "features": {
          "amenities": {
           "atm": false,
           "live_music": true,
           "music": true,
           "outdoor_seating": true,
           "parking": {
            "parking": true,
            "private_lot": true,
            "public_lot": false,
            "street_parking": false,
            "valet_parking": false
           },
           "private_room": false,
           "restroom": true,
           "tvs": false
          },
          "food_and_drink": {
           "alcohol": {
            "beer": true,
            "cocktails": true,
            "full_bar": true,
            "wine": true
           },
           "meals": {
            "brunch": false,
            "dinner": true,
            "happy_hour": true,
            "lunch": true
           }
          },
          "payment": {
           "credit_cards": {
            "accepts_credit_cards": true
           }
          },
          "services": {
           "delivery": false,
           "dine_in": {
            "groups_only_reservations": false,
            "online_reservations": true,
            "reservations": true
           },
           "drive_through": false
          }
         },
         "fsq_id": "5373bfdb498e2d36852f06b4",
         "geocodes": {
          "main": {
           "latitude": 40.761824,
           "longitude": -74.002578
          },
          "roof": {
           "latitude": 40.761824,
           "longitude": -74.002578
          }
         },
         "hours_popular": [
          {
           "close": "1500",
           "day": 1,
           "open": "1400"
          },
          {
           "close": "2100",
           "day": 1,
           "open": "1700"
          },
          {
           "close": "2000",
           "day": 2,
           "open": "1700"
          },
          {
           "close": "2100",
           "day": 3,
           "open": "1600"
          },
          {
           "close": "2100",
           "day": 4,
           "open": "1400"
          },
          {
           "close": "2100",
           "day": 5,
           "open": "1200"
          },
          {
           "close": "2100",
           "day": 6,
           "open": "1200"
          },
          {
           "close": "2000",
           "day": 7,
           "open": "1200"
          }
         ],
         "name": "North River Lobster Company",
         "popularity": 0.9814004090484754,
         "rating": 7.5
        },
        {
         "categories": [
          {
           "icon": {
            "prefix": "https://ss3.4sqi.net/img/categories_v2/food/latinamerican_",
            "suffix": ".png"
           },
           "id": 13297,
           "name": "Latin American Restaurant"
          },
          {
           "icon": {
            "prefix": "https://ss3.4sqi.net/img/categories_v2/food/mexican_",
            "suffix": ".png"
           },
           "id": 13303,
           "name": "Mexican Restaurant"
          },
          {
           "icon": {
            "prefix": "https://ss3.4sqi.net/img/categories_v2/food/peruvian_",
            "suffix": ".png"
           },
           "id": 13322,
           "name": "Peruvian Restaurant"
          }
         ],
         "distance": 812,
         "features": {
          "amenities": {
           "atm": false,
           "jukebox": false,
           "live_music": false,
           "music": true,
           "outdoor_seating": false,
           "parking": {
            "parking": true,
            "private_lot": false,
            "public_lot": false,
            "street_parking": true,
            "valet_parking": false
           },
           "private_room": false,
           "restroom": true,
           "smoking": false,
           "tvs": true,
           "wheelchair_accessible": true
          },
          "food_and_drink": {
           "alcohol": {
            "beer": true,
            "byo": false,
            "cocktails": true,
            "full_bar": true,
            "wine": true
           },
           "meals": {
            "brunch": true,
            "dessert": true,
            "dinner": true,
            "happy_hour": true,
            "lunch": true
           }
          },
          "payment": {
           "credit_cards": {
            "accepts_credit_cards": true
           }
          },
          "services": {
           "delivery": true,
           "dine_in": {
            "reservations": true
           },
           "drive_through": false,
           "takeout": true
          }
         },
         "fsq_id": "4b1b1f52f964a52074f823e3",
         "geocodes": {
          "main": {
           "latitude": 40.760587,
           "longitude": -73.994531
          }
         },
         "hours_popular": [
          {
           "close": "2200",
           "day": 1,
           "open": "1800"
          },
          {
           "close": "2200",
           "day": 2,
           "open": "1800"
          },
          {
           "close": "2300",
           "day": 3,
           "open": "1800"
          },
          {
           "close": "1300",
           "day": 4,
           "open": "1200"
          },
          {
           "close": "2300",
           "day": 4,
           "open": "1800"
          },
          {
           "close": "1400",
           "day": 5,
           "open": "1200"
          },
          {
           "close": "+0000",
           "day": 5,
           "open": "1700"
          },
          {
           "close": "2300",
           "day": 6,
           "open": "1400"
          },
          {
           "close": "2200",
           "day": 7,
           "open": "1600"
          }
         ],
         "name": "Pio Pio",
         "popularity": 0.9931373923040926,
         "rating": 8.9
        },
        {
         "categories": [
          {
           "icon": {
            "prefix": "https://ss3.4sqi.net/img/categories_v2/food/bagels_",
            "suffix": ".png"
           },
           "id": 13001,
           "name": "Bagel Shop"
          },
          {
           "icon": {
            "prefix": "https://ss3.4sqi.net/img/categories_v2/food/default_",
            "suffix": ".png"
           },
           "id": 13065,
           "name": "Restaurant"
          }
         ],
         "distance": 604,
         "features": {
          "food_and_drink": {
           "meals": {
            "breakfast": true,
            "brunch": true,
            "lunch": true
           }
          },
          "services": {
           "delivery": true
          }
         },
         "fsq_id": "5be86b911cf2e1002cf58410",
         "geocodes": {
          "main": {
           "latitude": 40.753425,
           "longitude": -73.995912
          },
          "roof": {
           "latitude": 40.753425,
           "longitude": -73.995912
          }
         },
         "name": "Bagels & More",
         "popularity": 0.9896122591020412,
         "rating": 6.9
        },
        {
         "categories": [
          {
           "icon": {
            "prefix": "https://ss3.4sqi.net/img/categories_v2/food/thai_",
            "suffix": ".png"
           },
           "id": 13352,
           "name": "Thai Restaurant"
          }
         ],
         "distance": 564,
         "features": {
          "amenities": {
           "outdoor_seating": false
          },
          "food_and_drink": {
           "meals": {
            "brunch": true,
            "dinner": true,
            "lunch": true
           }
          },
          "payment": {
           "credit_cards": {
            "accepts_credit_cards": true
           }
          },
          "services": {
           "delivery": true
          }
         },
         "fsq_id": "49d64e2ff964a520b55c1fe3",
         "geocodes": {
          "main": {
           "latitude": 40.754467,
           "longitude": -73.995298
          },
          "roof": {
           "latitude": 40.754467,
           "longitude": -73.995298
          }
         },
         "hours_popular": [
          {
           "close": "2100",
           "day": 1,
           "open": "1200"
          },
          {
           "close": "2100",
           "day": 2,
           "open": "1200"
          },
          {
           "close": "1500",
           "day": 3,
           "open": "1200"
          },
          {
           "close": "2100",
           "day": 3,
           "open": "1800"
          },
          {
           "close": "1500",
           "day": 4,
           "open": "1200"
          },
          {
           "close": "2200",
           "day": 4,
           "open": "1800"
          },
          {
           "close": "+0000",
           "day": 5,
           "open": "1200"
          },
          {
           "close": "1500",
           "day": 6,
           "open": "1400"
          },
          {
           "close": "2200",
           "day": 6,
           "open": "1700"
          },
          {
           "close": "2100",
           "day": 7,
           "open": "1100"
          }
         ],
         "name": "Aura Thai",
         "popularity": 0.03181171417915943,
         "rating": 6.6
        },
        {
         "categories": [
          {
           "icon": {
            "prefix": "https://ss3.4sqi.net/img/categories_v2/food/italian_",
            "suffix": ".png"
           },
           "id": 13236,
           "name": "Italian Restaurant"
          }
         ],
         "distance": 725,
         "features": {
          "amenities": {
           "live_music": false,
           "outdoor_seating": false,
           "restroom": true
          },
          "food_and_drink": {
           "alcohol": {
            "cocktails": true,
            "full_bar": true,
            "wine": true
           },
           "meals": {
            "brunch": false,
            "dinner": true,
            "happy_hour": false
           }
          },
          "payment": {
           "credit_cards": {
            "accepts_credit_cards": true
           }
          },
          "services": {
           "delivery": true,
           "dine_in": {
            "reservations": true
           }
          }
         },
         "fsq_id": "4bbb9caaafe1b7139a6b2f4b",
         "geocodes": {
          "main": {
           "latitude": 40.756189,
           "longitude": -73.993487
          },
          "roof": {
           "latitude": 40.756189,
           "longitude": -73.993487
          }
         },
         "hours_popular": [
          {
           "close": "1400",
           "day": 1,
           "open": "1200"
          },
          {
           "close": "2300",
           "day": 1,
           "open": "1700"
          },
          {
           "close": "1400",
           "day": 2,
           "open": "1200"
          },
          {
           "close": "2300",
           "day": 2,
           "open": "1800"
          },
          {
           "close": "1400",
           "day": 3,
           "open": "1200"
          },
          {
           "close": "2300",
           "day": 3,
           "open": "1700"
          },
          {
           "close": "1500",
           "day": 4,
           "open": "1200"
          },
          {
           "close": "2300",
           "day": 4,
           "open": "1700"
          },
          {
           "close": "1500",
           "day": 5,
           "open": "1200"
          },
          {
           "close": "2300",
           "day": 5,
           "open": "1700"
          },
          {
           "close": "+0000",
           "day": 6,
           "open": "1600"
          },
          {
           "close": "2200",
           "day": 7,
           "open": "1700"
          }
         ],
         "name": "Mercato",
         "popularity": 0.9798017468887849,
         "rating": 7.7
        },
        {
         "categories": [
          {
           "icon": {
            "prefix": "https://ss3.4sqi.net/img/categories_v2/food/french_",
            "suffix": ".png"
           },
           "id": 13148,
           "name": "French Restaurant"
          }
         ],
         "distance": 770,
         "features": {
          "amenities": {
           "live_music": true,
           "music": true,
           "outdoor_seating": false
          },
          "food_and_drink": {
           "alcohol": {
            "cocktails": true,
            "full_bar": true,
            "wine": true
           },
           "meals": {
            "brunch": true,
            "dinner": true
           }
          },
          "payment": {
           "credit_cards": {
            "accepts_credit_cards": true
           }
          },
          "services": {
           "delivery": true,
           "dine_in": {
            "online_reservations": true,
            "reservations": true
           }
          }
         },
         "fsq_id": "3fd66200f964a5208de91ee3",
         "geocodes": {
          "main": {
           "latitude": 40.758513,
           "longitude": -73.99336
          },
          "roof": {
           "latitude": 40.758513,
           "longitude": -73.99336
          }
         },
         "hours_popular": [
          {
           "close": "2300",
           "day": 2,
           "open": "1700"
          },
          {
           "close": "2300",
           "day": 3,
           "open": "1700"
          },
          {
           "close": "+0000",
           "day": 4,
           "open": "1700"
          },
          {
           "close": "+0100",
           "day": 5,
           "open": "1700"
          },
          {
           "close": "1300",
           "day": 6,
           "open": "1200"
          },
          {
           "close": "+0000",
           "day": 6,
           "open": "1700"
          },
          {
           "close": "2200",
           "day": 7,
           "open": "1200"
          }
         ],
         "name": "Chez Josephine",
         "popularity": 0.9795713305002411,
         "rating": 7.9
        },
        {
         "categories": [
          {
           "icon": {
            "prefix": "https://ss3.4sqi.net/img/categories_v2/food/mediterranean_",
            "suffix": ".png"
           },
           "id": 13302,
           "name": "Mediterranean Restaurant"
          }
         ],
         "distance": 839,
         "features": {
          "amenities": {
           "live_music": false,
           "outdoor_seating": false
          },
          "food_and_drink": {
           "alcohol": {
            "cocktails": true,
            "full_bar": true
           },
           "meals": {
            "brunch": true,
            "dinner": true,
            "happy_hour": false,
            "lunch": true
           }
          },
          "payment": {
           "credit_cards": {
            "accepts_credit_cards": true
           }
          },
          "services": {
           "dine_in": {
            "online_reservations": true,
            "reservations": true
           }
          }
         },
         "fsq_id": "56aff9ef498e60c01f7b2a21",
         "geocodes": {
          "main": {
           "latitude": 40.760902,
           "longitude": -73.994808
          },
          "roof": {
           "latitude": 40.760902,
           "longitude": -73.994808
          }
         },
         "hours_popular": [
          {
           "close": "1400",
           "day": 1,
           "open": "1200"
          },
          {
           "close": "2100",
           "day": 1,
           "open": "1800"
          },
          {
           "close": "1400",
           "day": 2,
           "open": "1200"
          },
          {
           "close": "2100",
           "day": 2,
           "open": "1800"
          },
          {
           "close": "1300",
           "day": 3,
           "open": "1200"
          },
          {
           "close": "2100",
           "day": 3,
           "open": "1800"
          },
          {
           "close": "1400",
           "day": 4,
           "open": "1300"
          },
          {
           "close": "2200",
           "day": 4,
           "open": "1700"
          },
          {
           "close": "1400",
           "day": 5,
           "open": "1200"
          },
          {
           "close": "2300",
           "day": 5,
           "open": "1800"
          },
          {
           "close": "2200",
           "day": 6,
           "open": "1100"
          },
          {
           "close": "1500",
           "day": 7,
           "open": "1000"
          },
          {
           "close": "2100",
           "day": 7,
           "open": "1800"
          }
         ],
         "name": "Mémé Mediterranean",
         "popularity": 0.983806716281412,
         "rating": 8.7
        },
        {
         "categories": [
          {
           "icon": {
            "prefix": "https://ss3.4sqi.net/img/categories_v2/food/default_",
            "suffix": ".png"
           },
           "id": 13065,
           "name": "Restaurant"
          }
         ],
         "distance": 704,
         "features": {},
         "fsq_id": "59b45de1be70782b659f2bf2",
         "geocodes": {
          "main": {
           "latitude": 40.756726,
           "longitude": -73.993596
          },
          "roof": {
           "latitude": 40.756726,
           "longitude": -73.993596
          }
         },
         "hours_popular": [
          {
           "close": "1400",
           "day": 1,
           "open": "1200"
          },
          {
           "close": "2100",
           "day": 1,
           "open": "1900"
          },
          {
           "close": "1500",
           "day": 2,
           "open": "1200"
          },
          {
           "close": "2200",
           "day": 2,
           "open": "1700"
          },
          {
           "close": "1400",
           "day": 3,
           "open": "1200"
          },
          {
           "close": "2100",
           "day": 3,
           "open": "1800"
          },
          {
           "close": "1400",
           "day": 4,
           "open": "1200"
          },
          {
           "close": "2100",
           "day": 4,
           "open": "1700"
          },
          {
           "close": "1500",
           "day": 5,
           "open": "1200"
          },
          {
           "close": "2300",
           "day": 5,
           "open": "1700"
          },
          {
           "close": "2300",
           "day": 6,
           "open": "1200"
          },
          {
           "close": "2000",
           "day": 7,
           "open": "1400"
          },
          {
           "close": "2300",
           "day": 7,
           "open": "2200"
          }
         ],
         "name": "Unidentified Flying Chicken Hell's Kitchen",
         "popularity": 0.9255066191264606,
         "rating": 7.3
        },
        {
         "categories": [
          {
           "icon": {
            "prefix": "https://ss3.4sqi.net/img/categories_v2/food/bbqalt_",
            "suffix": ".png"
           },
           "id": 13026,
           "name": "BBQ Joint"
          },
          {
           "icon": {
            "prefix": "https://ss3.4sqi.net/img/categories_v2/food/diner_",
            "suffix": ".png"
           },
           "id": 13049,
           "name": "Diner"
          },
          {
           "icon": {
            "prefix": "https://ss3.4sqi.net/img/categories_v2/food/default_",
            "suffix": ".png"
           },
           "id": 13068,
           "name": "American Restaurant"
          }
         ],
         "distance": 630,
         "features": {
          "amenities": {
           "live_music": false
          },
          "food_and_drink": {
           "alcohol": {
            "cocktails": false,
            "full_bar": false
           },
           "meals": {
            "happy_hour": false
           }
          },
          "services": {
           "dine_in": {
            "groups_only_reservations": false,
            "online_reservations": true,
            "reservations": true
           }
          }
         },
         "fsq_id": "569942a4498e7fca04145fe3",
         "geocodes": {
          "main": {
           "latitude": 40.755569,
           "longitude": -73.994467
          },
          "roof": {
           "latitude": 40.755569,
           "longitude": -73.994467
          }
         },
         "name": "Siblings NYC",
         "popularity": 0.563779018806253,
         "rating": 6.8
        },
        {
         "categories": [
          {
           "icon": {
            "prefix": "https://ss3.4sqi.net/img/categories_v2/food/bakery_",
            "suffix": ".png"
           },
           "id": 13002,
           "name": "Bakery"
          },
          {
           "icon": {
            "prefix": "https://ss3.4sqi.net/img/categories_v2/food/default_",
            "suffix": ".png"
           },
           "id": 13068,
           "name": "American Restaurant"
          }
         ],
         "distance": 848,
         "features": {
          "amenities": {
           "live_music": false,
           "outdoor_seating": true
          },
          "food_and_drink": {
           "alcohol": {
            "cocktails": false,
            "full_bar": false
           },
           "meals": {
            "brunch": false,
            "dessert": true,
            "happy_hour": false
           }
          },
          "payment": {
           "credit_cards": {
            "accepts_credit_cards": true
           }
          },
          "services": {
           "delivery": true,
           "dine_in": {
            "groups_only_reservations": false,
            "reservations": false
           }
          }
         },
         "fsq_id": "4a5d112bf964a52021bd1fe3",
         "geocodes": {
          "main": {
           "latitude": 40.759377,
           "longitude": -73.993307
          },
          "roof": {
           "latitude": 40.759377,
           "longitude": -73.993307
          }
         },
         "hours_popular": [
          {
           "close": "2000",
           "day": 1,
           "open": "1200"
          },
          {
           "close": "2000",
           "day": 2,
           "open": "1200"
          },
          {
           "close": "2000",
           "day": 3,
           "open": "1200"
          },
          {
           "close": "2000",
           "day": 4,
           "open": "1200"
          },
          {
           "close": "2000",
           "day": 5,
           "open": "1300"
          },
          {
           "close": "2000",
           "day": 6,
           "open": "1200"
          },
          {
           "close": "1800",
           "day": 7,
           "open": "1100"
          }
         ],
         "name": "Little Pie Company",
         "popularity": 0.9898046686636087,
         "rating": 8.6
        }
       ]
      },
      "text/plain": [
       "<IPython.core.display.JSON object>"
      ]
     },
     "execution_count": 100,
     "metadata": {
      "application/json": {
       "expanded": false,
       "root": "root"
      }
     },
     "output_type": "execute_result"
    }
   ],
   "source": [
    "JSON(location_data)"
   ]
  },
  {
   "cell_type": "markdown",
   "metadata": {},
   "source": [
    "Parse through the response to get the POI (such as restaurants, bars, etc) details you want (ratings, name, location, etc)"
   ]
  },
  {
   "cell_type": "code",
   "execution_count": 132,
   "metadata": {
    "tags": []
   },
   "outputs": [],
   "source": [
    "poi_list = location_data['results']\n",
    "poi_data = []\n",
    "for poi in poi_list:\n",
    "    name = poi[\"name\"]\n",
    "    distance = poi['distance']\n",
    "    latitude = poi[\"geocodes\"][\"main\"][\"latitude\"]\n",
    "    longitude = poi[\"geocodes\"][\"main\"][\"longitude\"]\n",
    "    rating = poi[\"rating\"]\n",
    "    popularity = poi[\"popularity\"]\n",
    "    poi_data.append({'name':name,'f_latitude':latitude,'f_longitude':longitude,'distance': distance, 'rating': rating, 'popularity': popularity})\n",
    "restaurant_data = pd.DataFrame(poi_data)"
   ]
  },
  {
   "cell_type": "code",
   "execution_count": 131,
   "metadata": {},
   "outputs": [],
   "source": [
    "meal_features =  {\"break_fast\":[],\"brunch\":[],\"lunch\": [],\"dinner\":[],\"happy_hour\":[]}\n",
    "\n",
    "for i in range(len(location_data['results'])):\n",
    "    try:\n",
    "        data_feature = location_data['results'][i]['features']['food_and_drink']['meals']\n",
    "        feature_keys = data_feature.keys()\n",
    "        if \"breakfast\" in feature_keys:\n",
    "            meal_features['break_fast'].append(data_feature['breakfast'])\n",
    "        else:\n",
    "            meal_features['break_fast'].append(None)\n",
    "        if \"brunch\" in feature_keys:\n",
    "            meal_features['brunch'].append(data_feature['brunch'])\n",
    "        else:\n",
    "            meal_features['brunch'].append(None)\n",
    "        if \"lunch\" in feature_keys:\n",
    "            meal_features['lunch'].append(data_feature['lunch'])\n",
    "        else:\n",
    "            meal_features['lunch'].append(None)\n",
    "        if \"dinner\" in feature_keys:\n",
    "            meal_features['dinner'].append(data_feature['dinner'])\n",
    "        else:\n",
    "            meal_features['dinner'].append(None)\n",
    "        if \"happy_hour\" in feature_keys:\n",
    "            meal_features['happy_hour'].append(data_feature['happy_hour'])\n",
    "        else:\n",
    "            meal_features['happy_hour'].append(None)\n",
    "    except:\n",
    "        meal_features['break_fast'].append(None)\n",
    "        meal_features['brunch'].append(None)\n",
    "        meal_features['lunch'].append(None)\n",
    "        meal_features['dinner'].append(None)\n",
    "        meal_features['happy_hour'].append(None)\n",
    "meal_features = pd.DataFrame(meal_features)"
   ]
  },
  {
   "cell_type": "markdown",
   "metadata": {},
   "source": [
    "Put your parsed results into a DataFrame"
   ]
  },
  {
   "cell_type": "code",
   "execution_count": 103,
   "metadata": {
    "collapsed": true,
    "jupyter": {
     "outputs_hidden": true
    },
    "tags": []
   },
   "outputs": [
    {
     "data": {
      "text/html": [
       "<div>\n",
       "<style scoped>\n",
       "    .dataframe tbody tr th:only-of-type {\n",
       "        vertical-align: middle;\n",
       "    }\n",
       "\n",
       "    .dataframe tbody tr th {\n",
       "        vertical-align: top;\n",
       "    }\n",
       "\n",
       "    .dataframe thead th {\n",
       "        text-align: right;\n",
       "    }\n",
       "</style>\n",
       "<table border=\"1\" class=\"dataframe\">\n",
       "  <thead>\n",
       "    <tr style=\"text-align: right;\">\n",
       "      <th></th>\n",
       "      <th>name</th>\n",
       "      <th>f_latitude</th>\n",
       "      <th>f_longitude</th>\n",
       "      <th>distance</th>\n",
       "      <th>rating</th>\n",
       "      <th>popularity</th>\n",
       "    </tr>\n",
       "  </thead>\n",
       "  <tbody>\n",
       "    <tr>\n",
       "      <th>0</th>\n",
       "      <td>Electric Lemon</td>\n",
       "      <td>40.754711</td>\n",
       "      <td>-74.002209</td>\n",
       "      <td>146</td>\n",
       "      <td>7.3</td>\n",
       "      <td>0.996228</td>\n",
       "    </tr>\n",
       "    <tr>\n",
       "      <th>1</th>\n",
       "      <td>Peak NYC</td>\n",
       "      <td>40.754047</td>\n",
       "      <td>-74.000829</td>\n",
       "      <td>239</td>\n",
       "      <td>8.7</td>\n",
       "      <td>0.988624</td>\n",
       "    </tr>\n",
       "    <tr>\n",
       "      <th>2</th>\n",
       "      <td>Friedman's</td>\n",
       "      <td>40.755299</td>\n",
       "      <td>-73.998432</td>\n",
       "      <td>312</td>\n",
       "      <td>8.5</td>\n",
       "      <td>0.995252</td>\n",
       "    </tr>\n",
       "    <tr>\n",
       "      <th>3</th>\n",
       "      <td>Estiatorio Milos</td>\n",
       "      <td>40.753499</td>\n",
       "      <td>-74.001157</td>\n",
       "      <td>258</td>\n",
       "      <td>7.5</td>\n",
       "      <td>0.993128</td>\n",
       "    </tr>\n",
       "    <tr>\n",
       "      <th>4</th>\n",
       "      <td>Shake Shack</td>\n",
       "      <td>40.753345</td>\n",
       "      <td>-74.000845</td>\n",
       "      <td>211</td>\n",
       "      <td>7.0</td>\n",
       "      <td>0.979989</td>\n",
       "    </tr>\n",
       "    <tr>\n",
       "      <th>5</th>\n",
       "      <td>Hudson Yards Grill</td>\n",
       "      <td>40.753355</td>\n",
       "      <td>-74.000496</td>\n",
       "      <td>246</td>\n",
       "      <td>7.2</td>\n",
       "      <td>0.981187</td>\n",
       "    </tr>\n",
       "    <tr>\n",
       "      <th>6</th>\n",
       "      <td>Sweetgreen</td>\n",
       "      <td>40.752639</td>\n",
       "      <td>-74.001035</td>\n",
       "      <td>369</td>\n",
       "      <td>8.5</td>\n",
       "      <td>0.997052</td>\n",
       "    </tr>\n",
       "    <tr>\n",
       "      <th>7</th>\n",
       "      <td>Mercado Little Spain</td>\n",
       "      <td>40.752627</td>\n",
       "      <td>-74.001472</td>\n",
       "      <td>356</td>\n",
       "      <td>8.1</td>\n",
       "      <td>0.999178</td>\n",
       "    </tr>\n",
       "    <tr>\n",
       "      <th>8</th>\n",
       "      <td>La Barra</td>\n",
       "      <td>40.752893</td>\n",
       "      <td>-74.001613</td>\n",
       "      <td>345</td>\n",
       "      <td>7.8</td>\n",
       "      <td>0.989534</td>\n",
       "    </tr>\n",
       "    <tr>\n",
       "      <th>9</th>\n",
       "      <td>Bluestone Lane</td>\n",
       "      <td>40.753394</td>\n",
       "      <td>-74.000776</td>\n",
       "      <td>296</td>\n",
       "      <td>7.2</td>\n",
       "      <td>0.980106</td>\n",
       "    </tr>\n",
       "    <tr>\n",
       "      <th>10</th>\n",
       "      <td>Kyma Hudson</td>\n",
       "      <td>40.754749</td>\n",
       "      <td>-73.997349</td>\n",
       "      <td>341</td>\n",
       "      <td>7.6</td>\n",
       "      <td>0.995948</td>\n",
       "    </tr>\n",
       "    <tr>\n",
       "      <th>11</th>\n",
       "      <td>Via Trenta Pizzoteca</td>\n",
       "      <td>40.752852</td>\n",
       "      <td>-74.003097</td>\n",
       "      <td>332</td>\n",
       "      <td>7.3</td>\n",
       "      <td>0.941586</td>\n",
       "    </tr>\n",
       "    <tr>\n",
       "      <th>12</th>\n",
       "      <td>Zou Zou's</td>\n",
       "      <td>40.752902</td>\n",
       "      <td>-73.998501</td>\n",
       "      <td>452</td>\n",
       "      <td>8.8</td>\n",
       "      <td>0.993325</td>\n",
       "    </tr>\n",
       "    <tr>\n",
       "      <th>13</th>\n",
       "      <td>Miznon</td>\n",
       "      <td>40.753499</td>\n",
       "      <td>-74.001157</td>\n",
       "      <td>290</td>\n",
       "      <td>6.8</td>\n",
       "      <td>0.969749</td>\n",
       "    </tr>\n",
       "    <tr>\n",
       "      <th>14</th>\n",
       "      <td>Hudson Food Caters</td>\n",
       "      <td>40.753001</td>\n",
       "      <td>-74.003583</td>\n",
       "      <td>347</td>\n",
       "      <td>7.2</td>\n",
       "      <td>0.990242</td>\n",
       "    </tr>\n",
       "    <tr>\n",
       "      <th>15</th>\n",
       "      <td>Jajaja Plantas Mexicana</td>\n",
       "      <td>40.752784</td>\n",
       "      <td>-73.999643</td>\n",
       "      <td>440</td>\n",
       "      <td>8.0</td>\n",
       "      <td>0.989798</td>\n",
       "    </tr>\n",
       "    <tr>\n",
       "      <th>16</th>\n",
       "      <td>Finn’s Bagels</td>\n",
       "      <td>40.756224</td>\n",
       "      <td>-73.998163</td>\n",
       "      <td>359</td>\n",
       "      <td>7.2</td>\n",
       "      <td>0.997960</td>\n",
       "    </tr>\n",
       "    <tr>\n",
       "      <th>17</th>\n",
       "      <td>Kahlo</td>\n",
       "      <td>40.752160</td>\n",
       "      <td>-74.002764</td>\n",
       "      <td>402</td>\n",
       "      <td>7.5</td>\n",
       "      <td>0.982859</td>\n",
       "    </tr>\n",
       "    <tr>\n",
       "      <th>18</th>\n",
       "      <td>Chef's Table At Brooklyn Fare</td>\n",
       "      <td>40.756113</td>\n",
       "      <td>-73.996280</td>\n",
       "      <td>484</td>\n",
       "      <td>8.5</td>\n",
       "      <td>0.983823</td>\n",
       "    </tr>\n",
       "    <tr>\n",
       "      <th>19</th>\n",
       "      <td>Spanish Diner</td>\n",
       "      <td>40.752521</td>\n",
       "      <td>-74.001380</td>\n",
       "      <td>392</td>\n",
       "      <td>7.4</td>\n",
       "      <td>0.995812</td>\n",
       "    </tr>\n",
       "    <tr>\n",
       "      <th>20</th>\n",
       "      <td>Daily Provisions</td>\n",
       "      <td>40.752601</td>\n",
       "      <td>-73.998828</td>\n",
       "      <td>463</td>\n",
       "      <td>8.0</td>\n",
       "      <td>0.990363</td>\n",
       "    </tr>\n",
       "    <tr>\n",
       "      <th>21</th>\n",
       "      <td>Umami Burger</td>\n",
       "      <td>40.753219</td>\n",
       "      <td>-73.999678</td>\n",
       "      <td>359</td>\n",
       "      <td>7.0</td>\n",
       "      <td>0.910302</td>\n",
       "    </tr>\n",
       "    <tr>\n",
       "      <th>22</th>\n",
       "      <td>Mar</td>\n",
       "      <td>40.752948</td>\n",
       "      <td>-74.001572</td>\n",
       "      <td>360</td>\n",
       "      <td>7.0</td>\n",
       "      <td>0.775850</td>\n",
       "    </tr>\n",
       "    <tr>\n",
       "      <th>23</th>\n",
       "      <td>Whitmans</td>\n",
       "      <td>40.751872</td>\n",
       "      <td>-74.001442</td>\n",
       "      <td>469</td>\n",
       "      <td>7.7</td>\n",
       "      <td>0.995299</td>\n",
       "    </tr>\n",
       "    <tr>\n",
       "      <th>24</th>\n",
       "      <td>Vitos Slices And Ices</td>\n",
       "      <td>40.754412</td>\n",
       "      <td>-73.995339</td>\n",
       "      <td>594</td>\n",
       "      <td>8.6</td>\n",
       "      <td>0.992408</td>\n",
       "    </tr>\n",
       "    <tr>\n",
       "      <th>25</th>\n",
       "      <td>Sergimmo Salumeria</td>\n",
       "      <td>40.754357</td>\n",
       "      <td>-73.995381</td>\n",
       "      <td>589</td>\n",
       "      <td>8.5</td>\n",
       "      <td>0.968288</td>\n",
       "    </tr>\n",
       "    <tr>\n",
       "      <th>26</th>\n",
       "      <td>H-Yard Gourmet Deli</td>\n",
       "      <td>40.754081</td>\n",
       "      <td>-73.995588</td>\n",
       "      <td>576</td>\n",
       "      <td>7.8</td>\n",
       "      <td>0.989933</td>\n",
       "    </tr>\n",
       "    <tr>\n",
       "      <th>27</th>\n",
       "      <td>Farida</td>\n",
       "      <td>40.755569</td>\n",
       "      <td>-73.994467</td>\n",
       "      <td>630</td>\n",
       "      <td>8.5</td>\n",
       "      <td>0.975535</td>\n",
       "    </tr>\n",
       "    <tr>\n",
       "      <th>28</th>\n",
       "      <td>Tavola</td>\n",
       "      <td>40.755348</td>\n",
       "      <td>-73.994633</td>\n",
       "      <td>620</td>\n",
       "      <td>8.3</td>\n",
       "      <td>0.988743</td>\n",
       "    </tr>\n",
       "    <tr>\n",
       "      <th>29</th>\n",
       "      <td>Porteno Restaurant</td>\n",
       "      <td>40.750442</td>\n",
       "      <td>-74.002434</td>\n",
       "      <td>611</td>\n",
       "      <td>8.2</td>\n",
       "      <td>0.977951</td>\n",
       "    </tr>\n",
       "    <tr>\n",
       "      <th>30</th>\n",
       "      <td>Il Piccolo Ristoro</td>\n",
       "      <td>40.750929</td>\n",
       "      <td>-74.002409</td>\n",
       "      <td>557</td>\n",
       "      <td>7.6</td>\n",
       "      <td>0.976559</td>\n",
       "    </tr>\n",
       "    <tr>\n",
       "      <th>31</th>\n",
       "      <td>Uncle Jack's Steakhouse - Westside</td>\n",
       "      <td>40.753698</td>\n",
       "      <td>-73.995792</td>\n",
       "      <td>574</td>\n",
       "      <td>7.7</td>\n",
       "      <td>0.977690</td>\n",
       "    </tr>\n",
       "    <tr>\n",
       "      <th>32</th>\n",
       "      <td>Zoob Zib</td>\n",
       "      <td>40.754467</td>\n",
       "      <td>-73.995298</td>\n",
       "      <td>573</td>\n",
       "      <td>7.6</td>\n",
       "      <td>0.983132</td>\n",
       "    </tr>\n",
       "    <tr>\n",
       "      <th>33</th>\n",
       "      <td>Aiyara Thai</td>\n",
       "      <td>40.755018</td>\n",
       "      <td>-73.994883</td>\n",
       "      <td>627</td>\n",
       "      <td>7.7</td>\n",
       "      <td>0.968694</td>\n",
       "    </tr>\n",
       "    <tr>\n",
       "      <th>34</th>\n",
       "      <td>Il Punto Ristorante</td>\n",
       "      <td>40.756105</td>\n",
       "      <td>-73.994576</td>\n",
       "      <td>633</td>\n",
       "      <td>7.7</td>\n",
       "      <td>0.984415</td>\n",
       "    </tr>\n",
       "    <tr>\n",
       "      <th>35</th>\n",
       "      <td>Avocaderia</td>\n",
       "      <td>40.751770</td>\n",
       "      <td>-74.005194</td>\n",
       "      <td>525</td>\n",
       "      <td>6.9</td>\n",
       "      <td>0.944622</td>\n",
       "    </tr>\n",
       "    <tr>\n",
       "      <th>36</th>\n",
       "      <td>Death Ave</td>\n",
       "      <td>40.751099</td>\n",
       "      <td>-74.002110</td>\n",
       "      <td>533</td>\n",
       "      <td>6.8</td>\n",
       "      <td>0.994710</td>\n",
       "    </tr>\n",
       "    <tr>\n",
       "      <th>37</th>\n",
       "      <td>Skylight Diner</td>\n",
       "      <td>40.753296</td>\n",
       "      <td>-73.996693</td>\n",
       "      <td>530</td>\n",
       "      <td>6.8</td>\n",
       "      <td>0.995950</td>\n",
       "    </tr>\n",
       "    <tr>\n",
       "      <th>38</th>\n",
       "      <td>Patiala</td>\n",
       "      <td>40.753372</td>\n",
       "      <td>-73.995866</td>\n",
       "      <td>579</td>\n",
       "      <td>7.0</td>\n",
       "      <td>0.993240</td>\n",
       "    </tr>\n",
       "    <tr>\n",
       "      <th>39</th>\n",
       "      <td>Kashmir 9</td>\n",
       "      <td>40.754963</td>\n",
       "      <td>-73.994924</td>\n",
       "      <td>601</td>\n",
       "      <td>7.2</td>\n",
       "      <td>0.940491</td>\n",
       "    </tr>\n",
       "    <tr>\n",
       "      <th>40</th>\n",
       "      <td>North River Lobster Company</td>\n",
       "      <td>40.761824</td>\n",
       "      <td>-74.002578</td>\n",
       "      <td>683</td>\n",
       "      <td>7.5</td>\n",
       "      <td>0.981400</td>\n",
       "    </tr>\n",
       "    <tr>\n",
       "      <th>41</th>\n",
       "      <td>Pio Pio</td>\n",
       "      <td>40.760587</td>\n",
       "      <td>-73.994531</td>\n",
       "      <td>812</td>\n",
       "      <td>8.9</td>\n",
       "      <td>0.993137</td>\n",
       "    </tr>\n",
       "    <tr>\n",
       "      <th>42</th>\n",
       "      <td>Bagels &amp; More</td>\n",
       "      <td>40.753425</td>\n",
       "      <td>-73.995912</td>\n",
       "      <td>604</td>\n",
       "      <td>6.9</td>\n",
       "      <td>0.989612</td>\n",
       "    </tr>\n",
       "    <tr>\n",
       "      <th>43</th>\n",
       "      <td>Aura Thai</td>\n",
       "      <td>40.754467</td>\n",
       "      <td>-73.995298</td>\n",
       "      <td>564</td>\n",
       "      <td>6.6</td>\n",
       "      <td>0.031812</td>\n",
       "    </tr>\n",
       "    <tr>\n",
       "      <th>44</th>\n",
       "      <td>Mercato</td>\n",
       "      <td>40.756189</td>\n",
       "      <td>-73.993487</td>\n",
       "      <td>725</td>\n",
       "      <td>7.7</td>\n",
       "      <td>0.979802</td>\n",
       "    </tr>\n",
       "    <tr>\n",
       "      <th>45</th>\n",
       "      <td>Chez Josephine</td>\n",
       "      <td>40.758513</td>\n",
       "      <td>-73.993360</td>\n",
       "      <td>770</td>\n",
       "      <td>7.9</td>\n",
       "      <td>0.979571</td>\n",
       "    </tr>\n",
       "    <tr>\n",
       "      <th>46</th>\n",
       "      <td>Mémé Mediterranean</td>\n",
       "      <td>40.760902</td>\n",
       "      <td>-73.994808</td>\n",
       "      <td>839</td>\n",
       "      <td>8.7</td>\n",
       "      <td>0.983807</td>\n",
       "    </tr>\n",
       "    <tr>\n",
       "      <th>47</th>\n",
       "      <td>Unidentified Flying Chicken Hell's Kitchen</td>\n",
       "      <td>40.756726</td>\n",
       "      <td>-73.993596</td>\n",
       "      <td>704</td>\n",
       "      <td>7.3</td>\n",
       "      <td>0.925507</td>\n",
       "    </tr>\n",
       "    <tr>\n",
       "      <th>48</th>\n",
       "      <td>Siblings NYC</td>\n",
       "      <td>40.755569</td>\n",
       "      <td>-73.994467</td>\n",
       "      <td>630</td>\n",
       "      <td>6.8</td>\n",
       "      <td>0.563779</td>\n",
       "    </tr>\n",
       "    <tr>\n",
       "      <th>49</th>\n",
       "      <td>Little Pie Company</td>\n",
       "      <td>40.759377</td>\n",
       "      <td>-73.993307</td>\n",
       "      <td>848</td>\n",
       "      <td>8.6</td>\n",
       "      <td>0.989805</td>\n",
       "    </tr>\n",
       "  </tbody>\n",
       "</table>\n",
       "</div>"
      ],
      "text/plain": [
       "                                          name  f_latitude  f_longitude  \\\n",
       "0                               Electric Lemon   40.754711   -74.002209   \n",
       "1                                     Peak NYC   40.754047   -74.000829   \n",
       "2                                   Friedman's   40.755299   -73.998432   \n",
       "3                             Estiatorio Milos   40.753499   -74.001157   \n",
       "4                                  Shake Shack   40.753345   -74.000845   \n",
       "5                           Hudson Yards Grill   40.753355   -74.000496   \n",
       "6                                   Sweetgreen   40.752639   -74.001035   \n",
       "7                         Mercado Little Spain   40.752627   -74.001472   \n",
       "8                                     La Barra   40.752893   -74.001613   \n",
       "9                               Bluestone Lane   40.753394   -74.000776   \n",
       "10                                 Kyma Hudson   40.754749   -73.997349   \n",
       "11                        Via Trenta Pizzoteca   40.752852   -74.003097   \n",
       "12                                   Zou Zou's   40.752902   -73.998501   \n",
       "13                                      Miznon   40.753499   -74.001157   \n",
       "14                          Hudson Food Caters   40.753001   -74.003583   \n",
       "15                     Jajaja Plantas Mexicana   40.752784   -73.999643   \n",
       "16                               Finn’s Bagels   40.756224   -73.998163   \n",
       "17                                       Kahlo   40.752160   -74.002764   \n",
       "18               Chef's Table At Brooklyn Fare   40.756113   -73.996280   \n",
       "19                               Spanish Diner   40.752521   -74.001380   \n",
       "20                            Daily Provisions   40.752601   -73.998828   \n",
       "21                                Umami Burger   40.753219   -73.999678   \n",
       "22                                         Mar   40.752948   -74.001572   \n",
       "23                                    Whitmans   40.751872   -74.001442   \n",
       "24                       Vitos Slices And Ices   40.754412   -73.995339   \n",
       "25                          Sergimmo Salumeria   40.754357   -73.995381   \n",
       "26                         H-Yard Gourmet Deli   40.754081   -73.995588   \n",
       "27                                      Farida   40.755569   -73.994467   \n",
       "28                                      Tavola   40.755348   -73.994633   \n",
       "29                          Porteno Restaurant   40.750442   -74.002434   \n",
       "30                          Il Piccolo Ristoro   40.750929   -74.002409   \n",
       "31          Uncle Jack's Steakhouse - Westside   40.753698   -73.995792   \n",
       "32                                    Zoob Zib   40.754467   -73.995298   \n",
       "33                                 Aiyara Thai   40.755018   -73.994883   \n",
       "34                         Il Punto Ristorante   40.756105   -73.994576   \n",
       "35                                  Avocaderia   40.751770   -74.005194   \n",
       "36                                   Death Ave   40.751099   -74.002110   \n",
       "37                              Skylight Diner   40.753296   -73.996693   \n",
       "38                                     Patiala   40.753372   -73.995866   \n",
       "39                                   Kashmir 9   40.754963   -73.994924   \n",
       "40                 North River Lobster Company   40.761824   -74.002578   \n",
       "41                                     Pio Pio   40.760587   -73.994531   \n",
       "42                               Bagels & More   40.753425   -73.995912   \n",
       "43                                   Aura Thai   40.754467   -73.995298   \n",
       "44                                     Mercato   40.756189   -73.993487   \n",
       "45                              Chez Josephine   40.758513   -73.993360   \n",
       "46                          Mémé Mediterranean   40.760902   -73.994808   \n",
       "47  Unidentified Flying Chicken Hell's Kitchen   40.756726   -73.993596   \n",
       "48                                Siblings NYC   40.755569   -73.994467   \n",
       "49                          Little Pie Company   40.759377   -73.993307   \n",
       "\n",
       "    distance  rating  popularity  \n",
       "0        146     7.3    0.996228  \n",
       "1        239     8.7    0.988624  \n",
       "2        312     8.5    0.995252  \n",
       "3        258     7.5    0.993128  \n",
       "4        211     7.0    0.979989  \n",
       "5        246     7.2    0.981187  \n",
       "6        369     8.5    0.997052  \n",
       "7        356     8.1    0.999178  \n",
       "8        345     7.8    0.989534  \n",
       "9        296     7.2    0.980106  \n",
       "10       341     7.6    0.995948  \n",
       "11       332     7.3    0.941586  \n",
       "12       452     8.8    0.993325  \n",
       "13       290     6.8    0.969749  \n",
       "14       347     7.2    0.990242  \n",
       "15       440     8.0    0.989798  \n",
       "16       359     7.2    0.997960  \n",
       "17       402     7.5    0.982859  \n",
       "18       484     8.5    0.983823  \n",
       "19       392     7.4    0.995812  \n",
       "20       463     8.0    0.990363  \n",
       "21       359     7.0    0.910302  \n",
       "22       360     7.0    0.775850  \n",
       "23       469     7.7    0.995299  \n",
       "24       594     8.6    0.992408  \n",
       "25       589     8.5    0.968288  \n",
       "26       576     7.8    0.989933  \n",
       "27       630     8.5    0.975535  \n",
       "28       620     8.3    0.988743  \n",
       "29       611     8.2    0.977951  \n",
       "30       557     7.6    0.976559  \n",
       "31       574     7.7    0.977690  \n",
       "32       573     7.6    0.983132  \n",
       "33       627     7.7    0.968694  \n",
       "34       633     7.7    0.984415  \n",
       "35       525     6.9    0.944622  \n",
       "36       533     6.8    0.994710  \n",
       "37       530     6.8    0.995950  \n",
       "38       579     7.0    0.993240  \n",
       "39       601     7.2    0.940491  \n",
       "40       683     7.5    0.981400  \n",
       "41       812     8.9    0.993137  \n",
       "42       604     6.9    0.989612  \n",
       "43       564     6.6    0.031812  \n",
       "44       725     7.7    0.979802  \n",
       "45       770     7.9    0.979571  \n",
       "46       839     8.7    0.983807  \n",
       "47       704     7.3    0.925507  \n",
       "48       630     6.8    0.563779  \n",
       "49       848     8.6    0.989805  "
      ]
     },
     "execution_count": 103,
     "metadata": {},
     "output_type": "execute_result"
    }
   ],
   "source": [
    "restaurant_data"
   ]
  },
  {
   "cell_type": "code",
   "execution_count": 172,
   "metadata": {
    "tags": []
   },
   "outputs": [],
   "source": [
    "meal_features_dummies = pd.get_dummies(meal_features)"
   ]
  },
  {
   "cell_type": "code",
   "execution_count": 173,
   "metadata": {
    "tags": []
   },
   "outputs": [],
   "source": [
    "four_restaurant_data_full = pd.concat([restaurant_data,meal_features_dummies], axis = 1)"
   ]
  },
  {
   "cell_type": "code",
   "execution_count": 138,
   "metadata": {
    "tags": []
   },
   "outputs": [
    {
     "data": {
      "text/html": [
       "<div>\n",
       "<style scoped>\n",
       "    .dataframe tbody tr th:only-of-type {\n",
       "        vertical-align: middle;\n",
       "    }\n",
       "\n",
       "    .dataframe tbody tr th {\n",
       "        vertical-align: top;\n",
       "    }\n",
       "\n",
       "    .dataframe thead th {\n",
       "        text-align: right;\n",
       "    }\n",
       "</style>\n",
       "<table border=\"1\" class=\"dataframe\">\n",
       "  <thead>\n",
       "    <tr style=\"text-align: right;\">\n",
       "      <th></th>\n",
       "      <th>name</th>\n",
       "      <th>f_latitude</th>\n",
       "      <th>f_longitude</th>\n",
       "      <th>distance</th>\n",
       "      <th>rating</th>\n",
       "      <th>popularity</th>\n",
       "      <th>break_fast_True</th>\n",
       "      <th>brunch_False</th>\n",
       "      <th>brunch_True</th>\n",
       "      <th>lunch_True</th>\n",
       "      <th>dinner_False</th>\n",
       "      <th>dinner_True</th>\n",
       "      <th>happy_hour_False</th>\n",
       "      <th>happy_hour_True</th>\n",
       "    </tr>\n",
       "  </thead>\n",
       "  <tbody>\n",
       "    <tr>\n",
       "      <th>0</th>\n",
       "      <td>Electric Lemon</td>\n",
       "      <td>40.754711</td>\n",
       "      <td>-74.002209</td>\n",
       "      <td>146</td>\n",
       "      <td>7.3</td>\n",
       "      <td>0.996228</td>\n",
       "      <td>0</td>\n",
       "      <td>0</td>\n",
       "      <td>0</td>\n",
       "      <td>1</td>\n",
       "      <td>0</td>\n",
       "      <td>1</td>\n",
       "      <td>0</td>\n",
       "      <td>0</td>\n",
       "    </tr>\n",
       "    <tr>\n",
       "      <th>1</th>\n",
       "      <td>Peak NYC</td>\n",
       "      <td>40.754047</td>\n",
       "      <td>-74.000829</td>\n",
       "      <td>239</td>\n",
       "      <td>8.7</td>\n",
       "      <td>0.988624</td>\n",
       "      <td>0</td>\n",
       "      <td>0</td>\n",
       "      <td>1</td>\n",
       "      <td>1</td>\n",
       "      <td>0</td>\n",
       "      <td>1</td>\n",
       "      <td>0</td>\n",
       "      <td>0</td>\n",
       "    </tr>\n",
       "    <tr>\n",
       "      <th>2</th>\n",
       "      <td>Friedman's</td>\n",
       "      <td>40.755299</td>\n",
       "      <td>-73.998432</td>\n",
       "      <td>312</td>\n",
       "      <td>8.5</td>\n",
       "      <td>0.995252</td>\n",
       "      <td>0</td>\n",
       "      <td>0</td>\n",
       "      <td>1</td>\n",
       "      <td>1</td>\n",
       "      <td>0</td>\n",
       "      <td>1</td>\n",
       "      <td>0</td>\n",
       "      <td>1</td>\n",
       "    </tr>\n",
       "    <tr>\n",
       "      <th>3</th>\n",
       "      <td>Estiatorio Milos</td>\n",
       "      <td>40.753499</td>\n",
       "      <td>-74.001157</td>\n",
       "      <td>258</td>\n",
       "      <td>7.5</td>\n",
       "      <td>0.993128</td>\n",
       "      <td>0</td>\n",
       "      <td>0</td>\n",
       "      <td>0</td>\n",
       "      <td>1</td>\n",
       "      <td>0</td>\n",
       "      <td>1</td>\n",
       "      <td>0</td>\n",
       "      <td>0</td>\n",
       "    </tr>\n",
       "    <tr>\n",
       "      <th>4</th>\n",
       "      <td>Shake Shack</td>\n",
       "      <td>40.753345</td>\n",
       "      <td>-74.000845</td>\n",
       "      <td>211</td>\n",
       "      <td>7.0</td>\n",
       "      <td>0.979989</td>\n",
       "      <td>0</td>\n",
       "      <td>0</td>\n",
       "      <td>1</td>\n",
       "      <td>1</td>\n",
       "      <td>0</td>\n",
       "      <td>1</td>\n",
       "      <td>0</td>\n",
       "      <td>0</td>\n",
       "    </tr>\n",
       "    <tr>\n",
       "      <th>5</th>\n",
       "      <td>Hudson Yards Grill</td>\n",
       "      <td>40.753355</td>\n",
       "      <td>-74.000496</td>\n",
       "      <td>246</td>\n",
       "      <td>7.2</td>\n",
       "      <td>0.981187</td>\n",
       "      <td>0</td>\n",
       "      <td>0</td>\n",
       "      <td>1</td>\n",
       "      <td>1</td>\n",
       "      <td>0</td>\n",
       "      <td>1</td>\n",
       "      <td>0</td>\n",
       "      <td>0</td>\n",
       "    </tr>\n",
       "    <tr>\n",
       "      <th>6</th>\n",
       "      <td>Sweetgreen</td>\n",
       "      <td>40.752639</td>\n",
       "      <td>-74.001035</td>\n",
       "      <td>369</td>\n",
       "      <td>8.5</td>\n",
       "      <td>0.997052</td>\n",
       "      <td>0</td>\n",
       "      <td>0</td>\n",
       "      <td>0</td>\n",
       "      <td>1</td>\n",
       "      <td>0</td>\n",
       "      <td>0</td>\n",
       "      <td>0</td>\n",
       "      <td>0</td>\n",
       "    </tr>\n",
       "    <tr>\n",
       "      <th>7</th>\n",
       "      <td>Mercado Little Spain</td>\n",
       "      <td>40.752627</td>\n",
       "      <td>-74.001472</td>\n",
       "      <td>356</td>\n",
       "      <td>8.1</td>\n",
       "      <td>0.999178</td>\n",
       "      <td>0</td>\n",
       "      <td>0</td>\n",
       "      <td>1</td>\n",
       "      <td>1</td>\n",
       "      <td>0</td>\n",
       "      <td>1</td>\n",
       "      <td>0</td>\n",
       "      <td>0</td>\n",
       "    </tr>\n",
       "    <tr>\n",
       "      <th>8</th>\n",
       "      <td>La Barra</td>\n",
       "      <td>40.752893</td>\n",
       "      <td>-74.001613</td>\n",
       "      <td>345</td>\n",
       "      <td>7.8</td>\n",
       "      <td>0.989534</td>\n",
       "      <td>0</td>\n",
       "      <td>0</td>\n",
       "      <td>1</td>\n",
       "      <td>1</td>\n",
       "      <td>0</td>\n",
       "      <td>1</td>\n",
       "      <td>0</td>\n",
       "      <td>0</td>\n",
       "    </tr>\n",
       "    <tr>\n",
       "      <th>9</th>\n",
       "      <td>Bluestone Lane</td>\n",
       "      <td>40.753394</td>\n",
       "      <td>-74.000776</td>\n",
       "      <td>296</td>\n",
       "      <td>7.2</td>\n",
       "      <td>0.980106</td>\n",
       "      <td>0</td>\n",
       "      <td>0</td>\n",
       "      <td>1</td>\n",
       "      <td>1</td>\n",
       "      <td>0</td>\n",
       "      <td>1</td>\n",
       "      <td>0</td>\n",
       "      <td>0</td>\n",
       "    </tr>\n",
       "    <tr>\n",
       "      <th>10</th>\n",
       "      <td>Kyma Hudson</td>\n",
       "      <td>40.754749</td>\n",
       "      <td>-73.997349</td>\n",
       "      <td>341</td>\n",
       "      <td>7.6</td>\n",
       "      <td>0.995948</td>\n",
       "      <td>0</td>\n",
       "      <td>0</td>\n",
       "      <td>1</td>\n",
       "      <td>0</td>\n",
       "      <td>0</td>\n",
       "      <td>1</td>\n",
       "      <td>0</td>\n",
       "      <td>0</td>\n",
       "    </tr>\n",
       "    <tr>\n",
       "      <th>11</th>\n",
       "      <td>Via Trenta Pizzoteca</td>\n",
       "      <td>40.752852</td>\n",
       "      <td>-74.003097</td>\n",
       "      <td>332</td>\n",
       "      <td>7.3</td>\n",
       "      <td>0.941586</td>\n",
       "      <td>0</td>\n",
       "      <td>0</td>\n",
       "      <td>0</td>\n",
       "      <td>0</td>\n",
       "      <td>1</td>\n",
       "      <td>0</td>\n",
       "      <td>0</td>\n",
       "      <td>0</td>\n",
       "    </tr>\n",
       "    <tr>\n",
       "      <th>12</th>\n",
       "      <td>Zou Zou's</td>\n",
       "      <td>40.752902</td>\n",
       "      <td>-73.998501</td>\n",
       "      <td>452</td>\n",
       "      <td>8.8</td>\n",
       "      <td>0.993325</td>\n",
       "      <td>0</td>\n",
       "      <td>0</td>\n",
       "      <td>1</td>\n",
       "      <td>1</td>\n",
       "      <td>0</td>\n",
       "      <td>1</td>\n",
       "      <td>0</td>\n",
       "      <td>0</td>\n",
       "    </tr>\n",
       "    <tr>\n",
       "      <th>13</th>\n",
       "      <td>Miznon</td>\n",
       "      <td>40.753499</td>\n",
       "      <td>-74.001157</td>\n",
       "      <td>290</td>\n",
       "      <td>6.8</td>\n",
       "      <td>0.969749</td>\n",
       "      <td>0</td>\n",
       "      <td>0</td>\n",
       "      <td>1</td>\n",
       "      <td>1</td>\n",
       "      <td>0</td>\n",
       "      <td>1</td>\n",
       "      <td>0</td>\n",
       "      <td>0</td>\n",
       "    </tr>\n",
       "    <tr>\n",
       "      <th>14</th>\n",
       "      <td>Hudson Food Caters</td>\n",
       "      <td>40.753001</td>\n",
       "      <td>-74.003583</td>\n",
       "      <td>347</td>\n",
       "      <td>7.2</td>\n",
       "      <td>0.990242</td>\n",
       "      <td>0</td>\n",
       "      <td>0</td>\n",
       "      <td>0</td>\n",
       "      <td>0</td>\n",
       "      <td>0</td>\n",
       "      <td>0</td>\n",
       "      <td>0</td>\n",
       "      <td>0</td>\n",
       "    </tr>\n",
       "    <tr>\n",
       "      <th>15</th>\n",
       "      <td>Jajaja Plantas Mexicana</td>\n",
       "      <td>40.752784</td>\n",
       "      <td>-73.999643</td>\n",
       "      <td>440</td>\n",
       "      <td>8.0</td>\n",
       "      <td>0.989798</td>\n",
       "      <td>0</td>\n",
       "      <td>0</td>\n",
       "      <td>1</td>\n",
       "      <td>1</td>\n",
       "      <td>0</td>\n",
       "      <td>1</td>\n",
       "      <td>0</td>\n",
       "      <td>0</td>\n",
       "    </tr>\n",
       "    <tr>\n",
       "      <th>16</th>\n",
       "      <td>Finn’s Bagels</td>\n",
       "      <td>40.756224</td>\n",
       "      <td>-73.998163</td>\n",
       "      <td>359</td>\n",
       "      <td>7.2</td>\n",
       "      <td>0.997960</td>\n",
       "      <td>1</td>\n",
       "      <td>0</td>\n",
       "      <td>1</td>\n",
       "      <td>1</td>\n",
       "      <td>0</td>\n",
       "      <td>0</td>\n",
       "      <td>0</td>\n",
       "      <td>0</td>\n",
       "    </tr>\n",
       "    <tr>\n",
       "      <th>17</th>\n",
       "      <td>Kahlo</td>\n",
       "      <td>40.752160</td>\n",
       "      <td>-74.002764</td>\n",
       "      <td>402</td>\n",
       "      <td>7.5</td>\n",
       "      <td>0.982859</td>\n",
       "      <td>0</td>\n",
       "      <td>0</td>\n",
       "      <td>0</td>\n",
       "      <td>0</td>\n",
       "      <td>0</td>\n",
       "      <td>1</td>\n",
       "      <td>0</td>\n",
       "      <td>0</td>\n",
       "    </tr>\n",
       "    <tr>\n",
       "      <th>18</th>\n",
       "      <td>Chef's Table At Brooklyn Fare</td>\n",
       "      <td>40.756113</td>\n",
       "      <td>-73.996280</td>\n",
       "      <td>484</td>\n",
       "      <td>8.5</td>\n",
       "      <td>0.983823</td>\n",
       "      <td>0</td>\n",
       "      <td>0</td>\n",
       "      <td>0</td>\n",
       "      <td>0</td>\n",
       "      <td>0</td>\n",
       "      <td>1</td>\n",
       "      <td>0</td>\n",
       "      <td>0</td>\n",
       "    </tr>\n",
       "    <tr>\n",
       "      <th>19</th>\n",
       "      <td>Spanish Diner</td>\n",
       "      <td>40.752521</td>\n",
       "      <td>-74.001380</td>\n",
       "      <td>392</td>\n",
       "      <td>7.4</td>\n",
       "      <td>0.995812</td>\n",
       "      <td>0</td>\n",
       "      <td>0</td>\n",
       "      <td>1</td>\n",
       "      <td>1</td>\n",
       "      <td>0</td>\n",
       "      <td>1</td>\n",
       "      <td>0</td>\n",
       "      <td>0</td>\n",
       "    </tr>\n",
       "    <tr>\n",
       "      <th>20</th>\n",
       "      <td>Daily Provisions</td>\n",
       "      <td>40.752601</td>\n",
       "      <td>-73.998828</td>\n",
       "      <td>463</td>\n",
       "      <td>8.0</td>\n",
       "      <td>0.990363</td>\n",
       "      <td>1</td>\n",
       "      <td>0</td>\n",
       "      <td>1</td>\n",
       "      <td>1</td>\n",
       "      <td>0</td>\n",
       "      <td>0</td>\n",
       "      <td>0</td>\n",
       "      <td>0</td>\n",
       "    </tr>\n",
       "    <tr>\n",
       "      <th>21</th>\n",
       "      <td>Umami Burger</td>\n",
       "      <td>40.753219</td>\n",
       "      <td>-73.999678</td>\n",
       "      <td>359</td>\n",
       "      <td>7.0</td>\n",
       "      <td>0.910302</td>\n",
       "      <td>0</td>\n",
       "      <td>0</td>\n",
       "      <td>0</td>\n",
       "      <td>1</td>\n",
       "      <td>0</td>\n",
       "      <td>1</td>\n",
       "      <td>0</td>\n",
       "      <td>0</td>\n",
       "    </tr>\n",
       "    <tr>\n",
       "      <th>22</th>\n",
       "      <td>Mar</td>\n",
       "      <td>40.752948</td>\n",
       "      <td>-74.001572</td>\n",
       "      <td>360</td>\n",
       "      <td>7.0</td>\n",
       "      <td>0.775850</td>\n",
       "      <td>0</td>\n",
       "      <td>0</td>\n",
       "      <td>0</td>\n",
       "      <td>0</td>\n",
       "      <td>0</td>\n",
       "      <td>0</td>\n",
       "      <td>0</td>\n",
       "      <td>0</td>\n",
       "    </tr>\n",
       "    <tr>\n",
       "      <th>23</th>\n",
       "      <td>Whitmans</td>\n",
       "      <td>40.751872</td>\n",
       "      <td>-74.001442</td>\n",
       "      <td>469</td>\n",
       "      <td>7.7</td>\n",
       "      <td>0.995299</td>\n",
       "      <td>0</td>\n",
       "      <td>0</td>\n",
       "      <td>1</td>\n",
       "      <td>1</td>\n",
       "      <td>0</td>\n",
       "      <td>1</td>\n",
       "      <td>0</td>\n",
       "      <td>0</td>\n",
       "    </tr>\n",
       "    <tr>\n",
       "      <th>24</th>\n",
       "      <td>Vitos Slices And Ices</td>\n",
       "      <td>40.754412</td>\n",
       "      <td>-73.995339</td>\n",
       "      <td>594</td>\n",
       "      <td>8.6</td>\n",
       "      <td>0.992408</td>\n",
       "      <td>0</td>\n",
       "      <td>0</td>\n",
       "      <td>0</td>\n",
       "      <td>1</td>\n",
       "      <td>0</td>\n",
       "      <td>1</td>\n",
       "      <td>0</td>\n",
       "      <td>0</td>\n",
       "    </tr>\n",
       "    <tr>\n",
       "      <th>25</th>\n",
       "      <td>Sergimmo Salumeria</td>\n",
       "      <td>40.754357</td>\n",
       "      <td>-73.995381</td>\n",
       "      <td>589</td>\n",
       "      <td>8.5</td>\n",
       "      <td>0.968288</td>\n",
       "      <td>0</td>\n",
       "      <td>0</td>\n",
       "      <td>1</td>\n",
       "      <td>1</td>\n",
       "      <td>0</td>\n",
       "      <td>0</td>\n",
       "      <td>1</td>\n",
       "      <td>0</td>\n",
       "    </tr>\n",
       "    <tr>\n",
       "      <th>26</th>\n",
       "      <td>H-Yard Gourmet Deli</td>\n",
       "      <td>40.754081</td>\n",
       "      <td>-73.995588</td>\n",
       "      <td>576</td>\n",
       "      <td>7.8</td>\n",
       "      <td>0.989933</td>\n",
       "      <td>1</td>\n",
       "      <td>0</td>\n",
       "      <td>0</td>\n",
       "      <td>1</td>\n",
       "      <td>0</td>\n",
       "      <td>0</td>\n",
       "      <td>0</td>\n",
       "      <td>0</td>\n",
       "    </tr>\n",
       "    <tr>\n",
       "      <th>27</th>\n",
       "      <td>Farida</td>\n",
       "      <td>40.755569</td>\n",
       "      <td>-73.994467</td>\n",
       "      <td>630</td>\n",
       "      <td>8.5</td>\n",
       "      <td>0.975535</td>\n",
       "      <td>0</td>\n",
       "      <td>0</td>\n",
       "      <td>1</td>\n",
       "      <td>0</td>\n",
       "      <td>0</td>\n",
       "      <td>1</td>\n",
       "      <td>0</td>\n",
       "      <td>0</td>\n",
       "    </tr>\n",
       "    <tr>\n",
       "      <th>28</th>\n",
       "      <td>Tavola</td>\n",
       "      <td>40.755348</td>\n",
       "      <td>-73.994633</td>\n",
       "      <td>620</td>\n",
       "      <td>8.3</td>\n",
       "      <td>0.988743</td>\n",
       "      <td>0</td>\n",
       "      <td>1</td>\n",
       "      <td>0</td>\n",
       "      <td>1</td>\n",
       "      <td>0</td>\n",
       "      <td>1</td>\n",
       "      <td>0</td>\n",
       "      <td>1</td>\n",
       "    </tr>\n",
       "    <tr>\n",
       "      <th>29</th>\n",
       "      <td>Porteno Restaurant</td>\n",
       "      <td>40.750442</td>\n",
       "      <td>-74.002434</td>\n",
       "      <td>611</td>\n",
       "      <td>8.2</td>\n",
       "      <td>0.977951</td>\n",
       "      <td>0</td>\n",
       "      <td>0</td>\n",
       "      <td>1</td>\n",
       "      <td>1</td>\n",
       "      <td>0</td>\n",
       "      <td>1</td>\n",
       "      <td>1</td>\n",
       "      <td>0</td>\n",
       "    </tr>\n",
       "    <tr>\n",
       "      <th>30</th>\n",
       "      <td>Il Piccolo Ristoro</td>\n",
       "      <td>40.750929</td>\n",
       "      <td>-74.002409</td>\n",
       "      <td>557</td>\n",
       "      <td>7.6</td>\n",
       "      <td>0.976559</td>\n",
       "      <td>1</td>\n",
       "      <td>0</td>\n",
       "      <td>1</td>\n",
       "      <td>1</td>\n",
       "      <td>0</td>\n",
       "      <td>1</td>\n",
       "      <td>0</td>\n",
       "      <td>0</td>\n",
       "    </tr>\n",
       "    <tr>\n",
       "      <th>31</th>\n",
       "      <td>Uncle Jack's Steakhouse - Westside</td>\n",
       "      <td>40.753698</td>\n",
       "      <td>-73.995792</td>\n",
       "      <td>574</td>\n",
       "      <td>7.7</td>\n",
       "      <td>0.977690</td>\n",
       "      <td>0</td>\n",
       "      <td>0</td>\n",
       "      <td>1</td>\n",
       "      <td>1</td>\n",
       "      <td>0</td>\n",
       "      <td>1</td>\n",
       "      <td>0</td>\n",
       "      <td>1</td>\n",
       "    </tr>\n",
       "    <tr>\n",
       "      <th>32</th>\n",
       "      <td>Zoob Zib</td>\n",
       "      <td>40.754467</td>\n",
       "      <td>-73.995298</td>\n",
       "      <td>573</td>\n",
       "      <td>7.6</td>\n",
       "      <td>0.983132</td>\n",
       "      <td>0</td>\n",
       "      <td>0</td>\n",
       "      <td>1</td>\n",
       "      <td>1</td>\n",
       "      <td>0</td>\n",
       "      <td>1</td>\n",
       "      <td>0</td>\n",
       "      <td>1</td>\n",
       "    </tr>\n",
       "    <tr>\n",
       "      <th>33</th>\n",
       "      <td>Aiyara Thai</td>\n",
       "      <td>40.755018</td>\n",
       "      <td>-73.994883</td>\n",
       "      <td>627</td>\n",
       "      <td>7.7</td>\n",
       "      <td>0.968694</td>\n",
       "      <td>0</td>\n",
       "      <td>0</td>\n",
       "      <td>0</td>\n",
       "      <td>1</td>\n",
       "      <td>0</td>\n",
       "      <td>1</td>\n",
       "      <td>0</td>\n",
       "      <td>0</td>\n",
       "    </tr>\n",
       "    <tr>\n",
       "      <th>34</th>\n",
       "      <td>Il Punto Ristorante</td>\n",
       "      <td>40.756105</td>\n",
       "      <td>-73.994576</td>\n",
       "      <td>633</td>\n",
       "      <td>7.7</td>\n",
       "      <td>0.984415</td>\n",
       "      <td>0</td>\n",
       "      <td>0</td>\n",
       "      <td>1</td>\n",
       "      <td>1</td>\n",
       "      <td>0</td>\n",
       "      <td>1</td>\n",
       "      <td>0</td>\n",
       "      <td>1</td>\n",
       "    </tr>\n",
       "    <tr>\n",
       "      <th>35</th>\n",
       "      <td>Avocaderia</td>\n",
       "      <td>40.751770</td>\n",
       "      <td>-74.005194</td>\n",
       "      <td>525</td>\n",
       "      <td>6.9</td>\n",
       "      <td>0.944622</td>\n",
       "      <td>0</td>\n",
       "      <td>0</td>\n",
       "      <td>0</td>\n",
       "      <td>1</td>\n",
       "      <td>0</td>\n",
       "      <td>0</td>\n",
       "      <td>0</td>\n",
       "      <td>0</td>\n",
       "    </tr>\n",
       "    <tr>\n",
       "      <th>36</th>\n",
       "      <td>Death Ave</td>\n",
       "      <td>40.751099</td>\n",
       "      <td>-74.002110</td>\n",
       "      <td>533</td>\n",
       "      <td>6.8</td>\n",
       "      <td>0.994710</td>\n",
       "      <td>0</td>\n",
       "      <td>0</td>\n",
       "      <td>1</td>\n",
       "      <td>1</td>\n",
       "      <td>0</td>\n",
       "      <td>1</td>\n",
       "      <td>0</td>\n",
       "      <td>1</td>\n",
       "    </tr>\n",
       "    <tr>\n",
       "      <th>37</th>\n",
       "      <td>Skylight Diner</td>\n",
       "      <td>40.753296</td>\n",
       "      <td>-73.996693</td>\n",
       "      <td>530</td>\n",
       "      <td>6.8</td>\n",
       "      <td>0.995950</td>\n",
       "      <td>1</td>\n",
       "      <td>0</td>\n",
       "      <td>1</td>\n",
       "      <td>1</td>\n",
       "      <td>0</td>\n",
       "      <td>1</td>\n",
       "      <td>1</td>\n",
       "      <td>0</td>\n",
       "    </tr>\n",
       "    <tr>\n",
       "      <th>38</th>\n",
       "      <td>Patiala</td>\n",
       "      <td>40.753372</td>\n",
       "      <td>-73.995866</td>\n",
       "      <td>579</td>\n",
       "      <td>7.0</td>\n",
       "      <td>0.993240</td>\n",
       "      <td>0</td>\n",
       "      <td>1</td>\n",
       "      <td>0</td>\n",
       "      <td>1</td>\n",
       "      <td>0</td>\n",
       "      <td>1</td>\n",
       "      <td>1</td>\n",
       "      <td>0</td>\n",
       "    </tr>\n",
       "    <tr>\n",
       "      <th>39</th>\n",
       "      <td>Kashmir 9</td>\n",
       "      <td>40.754963</td>\n",
       "      <td>-73.994924</td>\n",
       "      <td>601</td>\n",
       "      <td>7.2</td>\n",
       "      <td>0.940491</td>\n",
       "      <td>0</td>\n",
       "      <td>0</td>\n",
       "      <td>0</td>\n",
       "      <td>0</td>\n",
       "      <td>0</td>\n",
       "      <td>0</td>\n",
       "      <td>0</td>\n",
       "      <td>0</td>\n",
       "    </tr>\n",
       "    <tr>\n",
       "      <th>40</th>\n",
       "      <td>North River Lobster Company</td>\n",
       "      <td>40.761824</td>\n",
       "      <td>-74.002578</td>\n",
       "      <td>683</td>\n",
       "      <td>7.5</td>\n",
       "      <td>0.981400</td>\n",
       "      <td>0</td>\n",
       "      <td>1</td>\n",
       "      <td>0</td>\n",
       "      <td>1</td>\n",
       "      <td>0</td>\n",
       "      <td>1</td>\n",
       "      <td>0</td>\n",
       "      <td>1</td>\n",
       "    </tr>\n",
       "    <tr>\n",
       "      <th>41</th>\n",
       "      <td>Pio Pio</td>\n",
       "      <td>40.760587</td>\n",
       "      <td>-73.994531</td>\n",
       "      <td>812</td>\n",
       "      <td>8.9</td>\n",
       "      <td>0.993137</td>\n",
       "      <td>0</td>\n",
       "      <td>0</td>\n",
       "      <td>1</td>\n",
       "      <td>1</td>\n",
       "      <td>0</td>\n",
       "      <td>1</td>\n",
       "      <td>0</td>\n",
       "      <td>1</td>\n",
       "    </tr>\n",
       "    <tr>\n",
       "      <th>42</th>\n",
       "      <td>Bagels &amp; More</td>\n",
       "      <td>40.753425</td>\n",
       "      <td>-73.995912</td>\n",
       "      <td>604</td>\n",
       "      <td>6.9</td>\n",
       "      <td>0.989612</td>\n",
       "      <td>1</td>\n",
       "      <td>0</td>\n",
       "      <td>1</td>\n",
       "      <td>1</td>\n",
       "      <td>0</td>\n",
       "      <td>0</td>\n",
       "      <td>0</td>\n",
       "      <td>0</td>\n",
       "    </tr>\n",
       "    <tr>\n",
       "      <th>43</th>\n",
       "      <td>Aura Thai</td>\n",
       "      <td>40.754467</td>\n",
       "      <td>-73.995298</td>\n",
       "      <td>564</td>\n",
       "      <td>6.6</td>\n",
       "      <td>0.031812</td>\n",
       "      <td>0</td>\n",
       "      <td>0</td>\n",
       "      <td>1</td>\n",
       "      <td>1</td>\n",
       "      <td>0</td>\n",
       "      <td>1</td>\n",
       "      <td>0</td>\n",
       "      <td>0</td>\n",
       "    </tr>\n",
       "    <tr>\n",
       "      <th>44</th>\n",
       "      <td>Mercato</td>\n",
       "      <td>40.756189</td>\n",
       "      <td>-73.993487</td>\n",
       "      <td>725</td>\n",
       "      <td>7.7</td>\n",
       "      <td>0.979802</td>\n",
       "      <td>0</td>\n",
       "      <td>1</td>\n",
       "      <td>0</td>\n",
       "      <td>0</td>\n",
       "      <td>0</td>\n",
       "      <td>1</td>\n",
       "      <td>1</td>\n",
       "      <td>0</td>\n",
       "    </tr>\n",
       "    <tr>\n",
       "      <th>45</th>\n",
       "      <td>Chez Josephine</td>\n",
       "      <td>40.758513</td>\n",
       "      <td>-73.993360</td>\n",
       "      <td>770</td>\n",
       "      <td>7.9</td>\n",
       "      <td>0.979571</td>\n",
       "      <td>0</td>\n",
       "      <td>0</td>\n",
       "      <td>1</td>\n",
       "      <td>0</td>\n",
       "      <td>0</td>\n",
       "      <td>1</td>\n",
       "      <td>0</td>\n",
       "      <td>0</td>\n",
       "    </tr>\n",
       "    <tr>\n",
       "      <th>46</th>\n",
       "      <td>Mémé Mediterranean</td>\n",
       "      <td>40.760902</td>\n",
       "      <td>-73.994808</td>\n",
       "      <td>839</td>\n",
       "      <td>8.7</td>\n",
       "      <td>0.983807</td>\n",
       "      <td>0</td>\n",
       "      <td>0</td>\n",
       "      <td>1</td>\n",
       "      <td>1</td>\n",
       "      <td>0</td>\n",
       "      <td>1</td>\n",
       "      <td>1</td>\n",
       "      <td>0</td>\n",
       "    </tr>\n",
       "    <tr>\n",
       "      <th>47</th>\n",
       "      <td>Unidentified Flying Chicken Hell's Kitchen</td>\n",
       "      <td>40.756726</td>\n",
       "      <td>-73.993596</td>\n",
       "      <td>704</td>\n",
       "      <td>7.3</td>\n",
       "      <td>0.925507</td>\n",
       "      <td>0</td>\n",
       "      <td>0</td>\n",
       "      <td>0</td>\n",
       "      <td>0</td>\n",
       "      <td>0</td>\n",
       "      <td>0</td>\n",
       "      <td>0</td>\n",
       "      <td>0</td>\n",
       "    </tr>\n",
       "    <tr>\n",
       "      <th>48</th>\n",
       "      <td>Siblings NYC</td>\n",
       "      <td>40.755569</td>\n",
       "      <td>-73.994467</td>\n",
       "      <td>630</td>\n",
       "      <td>6.8</td>\n",
       "      <td>0.563779</td>\n",
       "      <td>0</td>\n",
       "      <td>0</td>\n",
       "      <td>0</td>\n",
       "      <td>0</td>\n",
       "      <td>0</td>\n",
       "      <td>0</td>\n",
       "      <td>1</td>\n",
       "      <td>0</td>\n",
       "    </tr>\n",
       "    <tr>\n",
       "      <th>49</th>\n",
       "      <td>Little Pie Company</td>\n",
       "      <td>40.759377</td>\n",
       "      <td>-73.993307</td>\n",
       "      <td>848</td>\n",
       "      <td>8.6</td>\n",
       "      <td>0.989805</td>\n",
       "      <td>0</td>\n",
       "      <td>1</td>\n",
       "      <td>0</td>\n",
       "      <td>0</td>\n",
       "      <td>0</td>\n",
       "      <td>0</td>\n",
       "      <td>1</td>\n",
       "      <td>0</td>\n",
       "    </tr>\n",
       "  </tbody>\n",
       "</table>\n",
       "</div>"
      ],
      "text/plain": [
       "                                          name  f_latitude  f_longitude  \\\n",
       "0                               Electric Lemon   40.754711   -74.002209   \n",
       "1                                     Peak NYC   40.754047   -74.000829   \n",
       "2                                   Friedman's   40.755299   -73.998432   \n",
       "3                             Estiatorio Milos   40.753499   -74.001157   \n",
       "4                                  Shake Shack   40.753345   -74.000845   \n",
       "5                           Hudson Yards Grill   40.753355   -74.000496   \n",
       "6                                   Sweetgreen   40.752639   -74.001035   \n",
       "7                         Mercado Little Spain   40.752627   -74.001472   \n",
       "8                                     La Barra   40.752893   -74.001613   \n",
       "9                               Bluestone Lane   40.753394   -74.000776   \n",
       "10                                 Kyma Hudson   40.754749   -73.997349   \n",
       "11                        Via Trenta Pizzoteca   40.752852   -74.003097   \n",
       "12                                   Zou Zou's   40.752902   -73.998501   \n",
       "13                                      Miznon   40.753499   -74.001157   \n",
       "14                          Hudson Food Caters   40.753001   -74.003583   \n",
       "15                     Jajaja Plantas Mexicana   40.752784   -73.999643   \n",
       "16                               Finn’s Bagels   40.756224   -73.998163   \n",
       "17                                       Kahlo   40.752160   -74.002764   \n",
       "18               Chef's Table At Brooklyn Fare   40.756113   -73.996280   \n",
       "19                               Spanish Diner   40.752521   -74.001380   \n",
       "20                            Daily Provisions   40.752601   -73.998828   \n",
       "21                                Umami Burger   40.753219   -73.999678   \n",
       "22                                         Mar   40.752948   -74.001572   \n",
       "23                                    Whitmans   40.751872   -74.001442   \n",
       "24                       Vitos Slices And Ices   40.754412   -73.995339   \n",
       "25                          Sergimmo Salumeria   40.754357   -73.995381   \n",
       "26                         H-Yard Gourmet Deli   40.754081   -73.995588   \n",
       "27                                      Farida   40.755569   -73.994467   \n",
       "28                                      Tavola   40.755348   -73.994633   \n",
       "29                          Porteno Restaurant   40.750442   -74.002434   \n",
       "30                          Il Piccolo Ristoro   40.750929   -74.002409   \n",
       "31          Uncle Jack's Steakhouse - Westside   40.753698   -73.995792   \n",
       "32                                    Zoob Zib   40.754467   -73.995298   \n",
       "33                                 Aiyara Thai   40.755018   -73.994883   \n",
       "34                         Il Punto Ristorante   40.756105   -73.994576   \n",
       "35                                  Avocaderia   40.751770   -74.005194   \n",
       "36                                   Death Ave   40.751099   -74.002110   \n",
       "37                              Skylight Diner   40.753296   -73.996693   \n",
       "38                                     Patiala   40.753372   -73.995866   \n",
       "39                                   Kashmir 9   40.754963   -73.994924   \n",
       "40                 North River Lobster Company   40.761824   -74.002578   \n",
       "41                                     Pio Pio   40.760587   -73.994531   \n",
       "42                               Bagels & More   40.753425   -73.995912   \n",
       "43                                   Aura Thai   40.754467   -73.995298   \n",
       "44                                     Mercato   40.756189   -73.993487   \n",
       "45                              Chez Josephine   40.758513   -73.993360   \n",
       "46                          Mémé Mediterranean   40.760902   -73.994808   \n",
       "47  Unidentified Flying Chicken Hell's Kitchen   40.756726   -73.993596   \n",
       "48                                Siblings NYC   40.755569   -73.994467   \n",
       "49                          Little Pie Company   40.759377   -73.993307   \n",
       "\n",
       "    distance  rating  popularity  break_fast_True  brunch_False  brunch_True  \\\n",
       "0        146     7.3    0.996228                0             0            0   \n",
       "1        239     8.7    0.988624                0             0            1   \n",
       "2        312     8.5    0.995252                0             0            1   \n",
       "3        258     7.5    0.993128                0             0            0   \n",
       "4        211     7.0    0.979989                0             0            1   \n",
       "5        246     7.2    0.981187                0             0            1   \n",
       "6        369     8.5    0.997052                0             0            0   \n",
       "7        356     8.1    0.999178                0             0            1   \n",
       "8        345     7.8    0.989534                0             0            1   \n",
       "9        296     7.2    0.980106                0             0            1   \n",
       "10       341     7.6    0.995948                0             0            1   \n",
       "11       332     7.3    0.941586                0             0            0   \n",
       "12       452     8.8    0.993325                0             0            1   \n",
       "13       290     6.8    0.969749                0             0            1   \n",
       "14       347     7.2    0.990242                0             0            0   \n",
       "15       440     8.0    0.989798                0             0            1   \n",
       "16       359     7.2    0.997960                1             0            1   \n",
       "17       402     7.5    0.982859                0             0            0   \n",
       "18       484     8.5    0.983823                0             0            0   \n",
       "19       392     7.4    0.995812                0             0            1   \n",
       "20       463     8.0    0.990363                1             0            1   \n",
       "21       359     7.0    0.910302                0             0            0   \n",
       "22       360     7.0    0.775850                0             0            0   \n",
       "23       469     7.7    0.995299                0             0            1   \n",
       "24       594     8.6    0.992408                0             0            0   \n",
       "25       589     8.5    0.968288                0             0            1   \n",
       "26       576     7.8    0.989933                1             0            0   \n",
       "27       630     8.5    0.975535                0             0            1   \n",
       "28       620     8.3    0.988743                0             1            0   \n",
       "29       611     8.2    0.977951                0             0            1   \n",
       "30       557     7.6    0.976559                1             0            1   \n",
       "31       574     7.7    0.977690                0             0            1   \n",
       "32       573     7.6    0.983132                0             0            1   \n",
       "33       627     7.7    0.968694                0             0            0   \n",
       "34       633     7.7    0.984415                0             0            1   \n",
       "35       525     6.9    0.944622                0             0            0   \n",
       "36       533     6.8    0.994710                0             0            1   \n",
       "37       530     6.8    0.995950                1             0            1   \n",
       "38       579     7.0    0.993240                0             1            0   \n",
       "39       601     7.2    0.940491                0             0            0   \n",
       "40       683     7.5    0.981400                0             1            0   \n",
       "41       812     8.9    0.993137                0             0            1   \n",
       "42       604     6.9    0.989612                1             0            1   \n",
       "43       564     6.6    0.031812                0             0            1   \n",
       "44       725     7.7    0.979802                0             1            0   \n",
       "45       770     7.9    0.979571                0             0            1   \n",
       "46       839     8.7    0.983807                0             0            1   \n",
       "47       704     7.3    0.925507                0             0            0   \n",
       "48       630     6.8    0.563779                0             0            0   \n",
       "49       848     8.6    0.989805                0             1            0   \n",
       "\n",
       "    lunch_True  dinner_False  dinner_True  happy_hour_False  happy_hour_True  \n",
       "0            1             0            1                 0                0  \n",
       "1            1             0            1                 0                0  \n",
       "2            1             0            1                 0                1  \n",
       "3            1             0            1                 0                0  \n",
       "4            1             0            1                 0                0  \n",
       "5            1             0            1                 0                0  \n",
       "6            1             0            0                 0                0  \n",
       "7            1             0            1                 0                0  \n",
       "8            1             0            1                 0                0  \n",
       "9            1             0            1                 0                0  \n",
       "10           0             0            1                 0                0  \n",
       "11           0             1            0                 0                0  \n",
       "12           1             0            1                 0                0  \n",
       "13           1             0            1                 0                0  \n",
       "14           0             0            0                 0                0  \n",
       "15           1             0            1                 0                0  \n",
       "16           1             0            0                 0                0  \n",
       "17           0             0            1                 0                0  \n",
       "18           0             0            1                 0                0  \n",
       "19           1             0            1                 0                0  \n",
       "20           1             0            0                 0                0  \n",
       "21           1             0            1                 0                0  \n",
       "22           0             0            0                 0                0  \n",
       "23           1             0            1                 0                0  \n",
       "24           1             0            1                 0                0  \n",
       "25           1             0            0                 1                0  \n",
       "26           1             0            0                 0                0  \n",
       "27           0             0            1                 0                0  \n",
       "28           1             0            1                 0                1  \n",
       "29           1             0            1                 1                0  \n",
       "30           1             0            1                 0                0  \n",
       "31           1             0            1                 0                1  \n",
       "32           1             0            1                 0                1  \n",
       "33           1             0            1                 0                0  \n",
       "34           1             0            1                 0                1  \n",
       "35           1             0            0                 0                0  \n",
       "36           1             0            1                 0                1  \n",
       "37           1             0            1                 1                0  \n",
       "38           1             0            1                 1                0  \n",
       "39           0             0            0                 0                0  \n",
       "40           1             0            1                 0                1  \n",
       "41           1             0            1                 0                1  \n",
       "42           1             0            0                 0                0  \n",
       "43           1             0            1                 0                0  \n",
       "44           0             0            1                 1                0  \n",
       "45           0             0            1                 0                0  \n",
       "46           1             0            1                 1                0  \n",
       "47           0             0            0                 0                0  \n",
       "48           0             0            0                 1                0  \n",
       "49           0             0            0                 1                0  "
      ]
     },
     "execution_count": 138,
     "metadata": {},
     "output_type": "execute_result"
    }
   ],
   "source": [
    "four_restaurant_data_full"
   ]
  },
  {
   "cell_type": "code",
   "execution_count": 171,
   "metadata": {},
   "outputs": [],
   "source": [
    "four_restaurant_data_full.to_csv(\"four_square_data.csv\")"
   ]
  },
  {
   "cell_type": "markdown",
   "metadata": {},
   "source": [
    "# Yelp"
   ]
  },
  {
   "cell_type": "markdown",
   "metadata": {},
   "source": [
    "Send a request to Yelp with a small radius (1000m) for all the bike stations in your city of choice. "
   ]
  },
  {
   "cell_type": "code",
   "execution_count": 7,
   "metadata": {
    "tags": []
   },
   "outputs": [],
   "source": [
    "with open('Yelp.txt') as content:\n",
    "    yelp_key = content.read()"
   ]
  },
  {
   "cell_type": "code",
   "execution_count": 18,
   "metadata": {},
   "outputs": [],
   "source": [
    "fields = 'yelp_id,name,geocodes,categories,distance,rating,hours_popular,popularity,features'\n",
    "url = f\"https://api.yelp.com/v3/businesses/search?latitude={nyc_lat[data]}&longitude={nyc_long[data]}&radius=1000&fields={fields}&sort_by=best_match&limit=50\"\n",
    "yelp_location_data = {}\n",
    "for data in range(len(nyc_lat)):\n",
    "    headers = {\n",
    "        \"accept\": \"application/json\",\n",
    "        \"Authorization\": yelp_key\n",
    "        }\n",
    "\n",
    "    yelp_response = requests.get(url, headers=headers).json()\n",
    "yelp_location_data = yelp_response"
   ]
  },
  {
   "cell_type": "code",
   "execution_count": 20,
   "metadata": {},
   "outputs": [
    {
     "data": {
      "application/json": {
       "businesses": [
        {
         "alias": "best-bagel-and-coffee-new-york",
         "categories": [
          {
           "alias": "bagels",
           "title": "Bagels"
          },
          {
           "alias": "coffee",
           "title": "Coffee & Tea"
          },
          {
           "alias": "breakfast_brunch",
           "title": "Breakfast & Brunch"
          }
         ],
         "coordinates": {
          "latitude": 40.7522683,
          "longitude": -73.9910861
         },
         "display_phone": "(212) 564-4409",
         "distance": 1014.9151994111043,
         "id": "j1S3NUrkB3BVT49n_e76NQ",
         "image_url": "https://s3-media2.fl.yelpcdn.com/bphoto/Cp9antpXYQMxLur0oi6tPw/o.jpg",
         "is_closed": false,
         "location": {
          "address1": "225 W 35th St",
          "address2": "",
          "address3": "",
          "city": "New York",
          "country": "US",
          "display_address": [
           "225 W 35th St",
           "New York, NY 10001"
          ],
          "state": "NY",
          "zip_code": "10001"
         },
         "name": "Best Bagel & Coffee",
         "phone": "+12125644409",
         "price": "$",
         "rating": 4.5,
         "review_count": 4324,
         "transactions": [
          "pickup",
          "delivery"
         ],
         "url": "https://www.yelp.com/biz/best-bagel-and-coffee-new-york?adjust_creative=sYvNGSgQOz8PvjGkZfe_2A&utm_campaign=yelp_api_v3&utm_medium=api_v3_business_search&utm_source=sYvNGSgQOz8PvjGkZfe_2A"
        },
        {
         "alias": "ny-pizza-suprema-new-york",
         "categories": [
          {
           "alias": "pizza",
           "title": "Pizza"
          }
         ],
         "coordinates": {
          "latitude": 40.7502059936523,
          "longitude": -73.9953231811523
         },
         "display_phone": "(212) 594-8939",
         "distance": 857.0421778271289,
         "id": "-9NO2IDCJMyNGZMAQ1-VQw",
         "image_url": "https://s3-media4.fl.yelpcdn.com/bphoto/EqbDXneMuQP6pw6GemVdQA/o.jpg",
         "is_closed": false,
         "location": {
          "address1": "413 8th Ave",
          "address2": "",
          "address3": "",
          "city": "New York",
          "country": "US",
          "display_address": [
           "413 8th Ave",
           "New York, NY 10001"
          ],
          "state": "NY",
          "zip_code": "10001"
         },
         "name": "NY Pizza Suprema",
         "phone": "+12125948939",
         "price": "$",
         "rating": 4,
         "review_count": 2401,
         "transactions": [
          "pickup",
          "delivery"
         ],
         "url": "https://www.yelp.com/biz/ny-pizza-suprema-new-york?adjust_creative=sYvNGSgQOz8PvjGkZfe_2A&utm_campaign=yelp_api_v3&utm_medium=api_v3_business_search&utm_source=sYvNGSgQOz8PvjGkZfe_2A"
        },
        {
         "alias": "bea-new-york",
         "categories": [
          {
           "alias": "newamerican",
           "title": "American (New)"
          },
          {
           "alias": "cocktailbars",
           "title": "Cocktail Bars"
          }
         ],
         "coordinates": {
          "latitude": 40.7591968,
          "longitude": -73.9923361
         },
         "display_phone": "(212) 602-1910",
         "distance": 899.7797064556833,
         "id": "Rc1lxc5lSKJYd162JHNMfQ",
         "image_url": "https://s3-media2.fl.yelpcdn.com/bphoto/m2d14AiiBqqly1gpMyU2RQ/o.jpg",
         "is_closed": false,
         "location": {
          "address1": "403 W 43rd St",
          "address2": "",
          "address3": "",
          "city": "New York",
          "country": "US",
          "display_address": [
           "403 W 43rd St",
           "New York, NY 10036"
          ],
          "state": "NY",
          "zip_code": "10036"
         },
         "name": "Bea",
         "phone": "+12126021910",
         "price": "$$",
         "rating": 4,
         "review_count": 2798,
         "transactions": [
          "restaurant_reservation",
          "delivery"
         ],
         "url": "https://www.yelp.com/biz/bea-new-york?adjust_creative=sYvNGSgQOz8PvjGkZfe_2A&utm_campaign=yelp_api_v3&utm_medium=api_v3_business_search&utm_source=sYvNGSgQOz8PvjGkZfe_2A"
        },
        {
         "alias": "vessel-new-york-3",
         "categories": [
          {
           "alias": "landmarks",
           "title": "Landmarks & Historical Buildings"
          }
         ],
         "coordinates": {
          "latitude": 40.7538184587518,
          "longitude": -74.00215228911576
         },
         "display_phone": "(646) 954-3100",
         "distance": 236.10062314444235,
         "id": "BHlxwBMBIHX0ftiok_OMOQ",
         "image_url": "https://s3-media2.fl.yelpcdn.com/bphoto/awp4A5JIFJ0Pal-ShVN4gQ/o.jpg",
         "is_closed": false,
         "location": {
          "address1": "20 Hudson Yards",
          "address2": "",
          "address3": null,
          "city": "New York",
          "country": "US",
          "display_address": [
           "20 Hudson Yards",
           "New York, NY 10001"
          ],
          "state": "NY",
          "zip_code": "10001"
         },
         "name": "Vessel",
         "phone": "+16469543100",
         "rating": 4.5,
         "review_count": 473,
         "transactions": [],
         "url": "https://www.yelp.com/biz/vessel-new-york-3?adjust_creative=sYvNGSgQOz8PvjGkZfe_2A&utm_campaign=yelp_api_v3&utm_medium=api_v3_business_search&utm_source=sYvNGSgQOz8PvjGkZfe_2A"
        },
        {
         "alias": "scotts-pizza-tours-new-york",
         "categories": [
          {
           "alias": "pizza",
           "title": "Pizza"
          },
          {
           "alias": "foodtours",
           "title": "Food Tours"
          },
          {
           "alias": "walkingtours",
           "title": "Walking Tours"
          }
         ],
         "coordinates": {
          "latitude": 40.750244140625,
          "longitude": -73.9970245361328
         },
         "display_phone": "",
         "distance": 353.2580715813084,
         "id": "VP3-iMnKK_TaHDuy6mxTzA",
         "image_url": "https://s3-media3.fl.yelpcdn.com/bphoto/nhfA9SXPjeX9H4KfjTcn9w/o.jpg",
         "is_closed": false,
         "location": {
          "address1": "",
          "address2": "",
          "address3": "",
          "city": "New York",
          "country": "US",
          "display_address": [
           "New York, NY 10001"
          ],
          "state": "NY",
          "zip_code": "10001"
         },
         "name": "Scott's Pizza Tours",
         "phone": "",
         "price": "$$",
         "rating": 5,
         "review_count": 365,
         "transactions": [],
         "url": "https://www.yelp.com/biz/scotts-pizza-tours-new-york?adjust_creative=sYvNGSgQOz8PvjGkZfe_2A&utm_campaign=yelp_api_v3&utm_medium=api_v3_business_search&utm_source=sYvNGSgQOz8PvjGkZfe_2A"
        },
        {
         "alias": "pio-pio-8-new-york-5",
         "categories": [
          {
           "alias": "latin",
           "title": "Latin American"
          },
          {
           "alias": "peruvian",
           "title": "Peruvian"
          }
         ],
         "coordinates": {
          "latitude": 40.760506289326,
          "longitude": -73.994564488901
         },
         "display_phone": "(212) 459-2929",
         "distance": 813.7612496693247,
         "id": "OwV-MtDBC2H08rVcBqP2mA",
         "image_url": "https://s3-media1.fl.yelpcdn.com/bphoto/HezN3FXL21Ru-UGkqyEMaA/o.jpg",
         "is_closed": false,
         "location": {
          "address1": "604 10th Ave",
          "address2": "",
          "address3": "",
          "city": "New York",
          "country": "US",
          "display_address": [
           "604 10th Ave",
           "New York, NY 10036"
          ],
          "state": "NY",
          "zip_code": "10036"
         },
         "name": "Pio Pio 8",
         "phone": "+12124592929",
         "price": "$$$",
         "rating": 4,
         "review_count": 2539,
         "transactions": [
          "delivery"
         ],
         "url": "https://www.yelp.com/biz/pio-pio-8-new-york-5?adjust_creative=sYvNGSgQOz8PvjGkZfe_2A&utm_campaign=yelp_api_v3&utm_medium=api_v3_business_search&utm_source=sYvNGSgQOz8PvjGkZfe_2A"
        },
        {
         "alias": "chefs-table-at-brooklyn-fare-new-york",
         "categories": [
          {
           "alias": "japanese",
           "title": "Japanese"
          },
          {
           "alias": "seafood",
           "title": "Seafood"
          }
         ],
         "coordinates": {
          "latitude": 40.7561930774282,
          "longitude": -73.9966090932068
         },
         "display_phone": "(212) 216-9700",
         "distance": 464.71197465180876,
         "id": "diCW3Pj1PTVRSyol_d7cZw",
         "image_url": "https://s3-media1.fl.yelpcdn.com/bphoto/aYXXNWaSyP8temktj1MvXA/o.jpg",
         "is_closed": false,
         "location": {
          "address1": "431 W 37th St",
          "address2": "",
          "address3": "",
          "city": "New York",
          "country": "US",
          "display_address": [
           "431 W 37th St",
           "New York, NY 10018"
          ],
          "state": "NY",
          "zip_code": "10018"
         },
         "name": "Chef's Table at Brooklyn Fare",
         "phone": "+12122169700",
         "price": "$$$$",
         "rating": 4.5,
         "review_count": 634,
         "transactions": [],
         "url": "https://www.yelp.com/biz/chefs-table-at-brooklyn-fare-new-york?adjust_creative=sYvNGSgQOz8PvjGkZfe_2A&utm_campaign=yelp_api_v3&utm_medium=api_v3_business_search&utm_source=sYvNGSgQOz8PvjGkZfe_2A"
        },
        {
         "alias": "liberty-bagels-midtown-new-york-3",
         "categories": [
          {
           "alias": "breakfast_brunch",
           "title": "Breakfast & Brunch"
          },
          {
           "alias": "bagels",
           "title": "Bagels"
          },
          {
           "alias": "sandwiches",
           "title": "Sandwiches"
          }
         ],
         "coordinates": {
          "latitude": 40.75255,
          "longitude": -73.99249
         },
         "display_phone": "(212) 279-1124",
         "distance": 893.8945371769149,
         "id": "Ys9iYSjuFDpZj7B1X07v5g",
         "image_url": "https://s3-media4.fl.yelpcdn.com/bphoto/UfpS3nudd0Rwt_9WRqUbZg/o.jpg",
         "is_closed": false,
         "location": {
          "address1": "260 W 35th St",
          "address2": "",
          "address3": null,
          "city": "New York",
          "country": "US",
          "display_address": [
           "260 W 35th St",
           "New York, NY 10001"
          ],
          "state": "NY",
          "zip_code": "10001"
         },
         "name": "Liberty Bagels Midtown",
         "phone": "+12122791124",
         "price": "$",
         "rating": 4.5,
         "review_count": 1181,
         "transactions": [
          "pickup",
          "delivery"
         ],
         "url": "https://www.yelp.com/biz/liberty-bagels-midtown-new-york-3?adjust_creative=sYvNGSgQOz8PvjGkZfe_2A&utm_campaign=yelp_api_v3&utm_medium=api_v3_business_search&utm_source=sYvNGSgQOz8PvjGkZfe_2A"
        },
        {
         "alias": "peak-new-york-2",
         "categories": [
          {
           "alias": "newamerican",
           "title": "American (New)"
          },
          {
           "alias": "venues",
           "title": "Venues & Event Spaces"
          },
          {
           "alias": "lounges",
           "title": "Lounges"
          }
         ],
         "coordinates": {
          "latitude": 40.7541644,
          "longitude": -74.0009082
         },
         "display_phone": "(332) 204-8540",
         "distance": 222.27543946812725,
         "id": "00kdvS6FY0gTN5BV03tx5Q",
         "image_url": "https://s3-media3.fl.yelpcdn.com/bphoto/nxY4Ok_TTDT2aw8ZZ9FhSQ/o.jpg",
         "is_closed": false,
         "location": {
          "address1": "30 Hudson Yards",
          "address2": "Fl 101",
          "address3": null,
          "city": "New York",
          "country": "US",
          "display_address": [
           "30 Hudson Yards",
           "Fl 101",
           "New York, NY 10001"
          ],
          "state": "NY",
          "zip_code": "10001"
         },
         "name": "Peak",
         "phone": "+13322048540",
         "price": "$$$$",
         "rating": 4.5,
         "review_count": 347,
         "transactions": [],
         "url": "https://www.yelp.com/biz/peak-new-york-2?adjust_creative=sYvNGSgQOz8PvjGkZfe_2A&utm_campaign=yelp_api_v3&utm_medium=api_v3_business_search&utm_source=sYvNGSgQOz8PvjGkZfe_2A"
        },
        {
         "alias": "sergimmo-salumeria-new-york",
         "categories": [
          {
           "alias": "italian",
           "title": "Italian"
          },
          {
           "alias": "sandwiches",
           "title": "Sandwiches"
          }
         ],
         "coordinates": {
          "latitude": 40.754296,
          "longitude": -73.995498
         },
         "display_phone": "(212) 967-4212",
         "distance": 586.7273607410588,
         "id": "9iC39Z1YjZKbrrCANgzBXg",
         "image_url": "https://s3-media1.fl.yelpcdn.com/bphoto/5Aa0ObfAtzPcOFweJhOu8g/o.jpg",
         "is_closed": false,
         "location": {
          "address1": "456 9th Ave",
          "address2": "",
          "address3": "",
          "city": "New York",
          "country": "US",
          "display_address": [
           "456 9th Ave",
           "New York, NY 10018"
          ],
          "state": "NY",
          "zip_code": "10018"
         },
         "name": "Sergimmo Salumeria",
         "phone": "+12129674212",
         "price": "$$",
         "rating": 4,
         "review_count": 717,
         "transactions": [
          "pickup",
          "delivery"
         ],
         "url": "https://www.yelp.com/biz/sergimmo-salumeria-new-york?adjust_creative=sYvNGSgQOz8PvjGkZfe_2A&utm_campaign=yelp_api_v3&utm_medium=api_v3_business_search&utm_source=sYvNGSgQOz8PvjGkZfe_2A"
        },
        {
         "alias": "calle-dao-chelsea-new-york-3",
         "categories": [
          {
           "alias": "cuban",
           "title": "Cuban"
          },
          {
           "alias": "chinese",
           "title": "Chinese"
          },
          {
           "alias": "asianfusion",
           "title": "Asian Fusion"
          }
         ],
         "coordinates": {
          "latitude": 40.74769301,
          "longitude": -74.00350737
         },
         "display_phone": "(212) 414-4104",
         "distance": 924.6538934971935,
         "id": "pBNMZp_tKCAfRNx7-ybcHQ",
         "image_url": "https://s3-media4.fl.yelpcdn.com/bphoto/Pi8c75Kul_LBgju_na56HQ/o.jpg",
         "is_closed": false,
         "location": {
          "address1": "461 W 23rd St",
          "address2": "",
          "address3": null,
          "city": "New York",
          "country": "US",
          "display_address": [
           "461 W 23rd St",
           "New York, NY 10011"
          ],
          "state": "NY",
          "zip_code": "10011"
         },
         "name": "Calle Dao - Chelsea",
         "phone": "+12124144104",
         "price": "$$",
         "rating": 4.5,
         "review_count": 981,
         "transactions": [
          "pickup",
          "delivery"
         ],
         "url": "https://www.yelp.com/biz/calle-dao-chelsea-new-york-3?adjust_creative=sYvNGSgQOz8PvjGkZfe_2A&utm_campaign=yelp_api_v3&utm_medium=api_v3_business_search&utm_source=sYvNGSgQOz8PvjGkZfe_2A"
        },
        {
         "alias": "tavola-new-york",
         "categories": [
          {
           "alias": "italian",
           "title": "Italian"
          },
          {
           "alias": "pizza",
           "title": "Pizza"
          },
          {
           "alias": "wine_bars",
           "title": "Wine Bars"
          }
         ],
         "coordinates": {
          "latitude": 40.755403,
          "longitude": -73.994516
         },
         "display_phone": "(212) 273-1181",
         "distance": 642.9692374439503,
         "id": "V3USzFEGhuoXez4G2Rk11A",
         "image_url": "https://s3-media1.fl.yelpcdn.com/bphoto/HhhlKQchXV9dhvgGgNH1Bw/o.jpg",
         "is_closed": false,
         "location": {
          "address1": "488 9th Ave",
          "address2": "",
          "address3": "",
          "city": "New York",
          "country": "US",
          "display_address": [
           "488 9th Ave",
           "New York, NY 10018"
          ],
          "state": "NY",
          "zip_code": "10018"
         },
         "name": "Tavola",
         "phone": "+12122731181",
         "price": "$$",
         "rating": 4,
         "review_count": 1223,
         "transactions": [
          "restaurant_reservation",
          "delivery"
         ],
         "url": "https://www.yelp.com/biz/tavola-new-york?adjust_creative=sYvNGSgQOz8PvjGkZfe_2A&utm_campaign=yelp_api_v3&utm_medium=api_v3_business_search&utm_source=sYvNGSgQOz8PvjGkZfe_2A"
        },
        {
         "alias": "friedmans-new-york-70",
         "categories": [
          {
           "alias": "breakfast_brunch",
           "title": "Breakfast & Brunch"
          },
          {
           "alias": "gluten_free",
           "title": "Gluten-Free"
          },
          {
           "alias": "newamerican",
           "title": "American (New)"
          }
         ],
         "coordinates": {
          "latitude": 40.755311,
          "longitude": -73.998389
         },
         "display_phone": "(212) 268-1100",
         "distance": 321.6859673999357,
         "id": "zUv1BNm_a9-3DkxrCG3tng",
         "image_url": "https://s3-media4.fl.yelpcdn.com/bphoto/siTQQJHE4AMkYogONPK0JQ/o.jpg",
         "is_closed": false,
         "location": {
          "address1": "450 10th Ave",
          "address2": "",
          "address3": "",
          "city": "New York",
          "country": "US",
          "display_address": [
           "450 10th Ave",
           "New York, NY 10018"
          ],
          "state": "NY",
          "zip_code": "10018"
         },
         "name": "Friedmans",
         "phone": "+12122681100",
         "price": "$$",
         "rating": 4,
         "review_count": 796,
         "transactions": [
          "pickup",
          "delivery"
         ],
         "url": "https://www.yelp.com/biz/friedmans-new-york-70?adjust_creative=sYvNGSgQOz8PvjGkZfe_2A&utm_campaign=yelp_api_v3&utm_medium=api_v3_business_search&utm_source=sYvNGSgQOz8PvjGkZfe_2A"
        },
        {
         "alias": "capizzi-new-york",
         "categories": [
          {
           "alias": "pizza",
           "title": "Pizza"
          },
          {
           "alias": "desserts",
           "title": "Desserts"
          },
          {
           "alias": "beer_and_wine",
           "title": "Beer, Wine & Spirits"
          }
         ],
         "coordinates": {
          "latitude": 40.75744,
          "longitude": -73.99357
         },
         "display_phone": "(646) 476-5120",
         "distance": 733.2691469684361,
         "id": "06tnwnEQM2j9A6dC3HC_TQ",
         "image_url": "https://s3-media2.fl.yelpcdn.com/bphoto/OgdmDyVlGM2Ao_Q3VAOnmw/o.jpg",
         "is_closed": false,
         "location": {
          "address1": "547 9th Ave",
          "address2": "",
          "address3": "",
          "city": "New York",
          "country": "US",
          "display_address": [
           "547 9th Ave",
           "New York, NY 10018"
          ],
          "state": "NY",
          "zip_code": "10018"
         },
         "name": "Capizzi",
         "phone": "+16464765120",
         "price": "$$",
         "rating": 4,
         "review_count": 883,
         "transactions": [
          "pickup",
          "delivery"
         ],
         "url": "https://www.yelp.com/biz/capizzi-new-york?adjust_creative=sYvNGSgQOz8PvjGkZfe_2A&utm_campaign=yelp_api_v3&utm_medium=api_v3_business_search&utm_source=sYvNGSgQOz8PvjGkZfe_2A"
        },
        {
         "alias": "go-go-curry-new-york-32",
         "categories": [
          {
           "alias": "japacurry",
           "title": "Japanese Curry"
          },
          {
           "alias": "comfortfood",
           "title": "Comfort Food"
          }
         ],
         "coordinates": {
          "latitude": 40.7547,
          "longitude": -73.991055
         },
         "display_phone": "(212) 730-5555",
         "distance": 937.8438168493341,
         "id": "eRtceh_W_yniAfCqJni5Bg",
         "image_url": "https://s3-media1.fl.yelpcdn.com/bphoto/-nM127woscyD98kzBn1aIg/o.jpg",
         "is_closed": false,
         "location": {
          "address1": "273 W 38th St",
          "address2": "",
          "address3": "",
          "city": "New York",
          "country": "US",
          "display_address": [
           "273 W 38th St",
           "New York, NY 10018"
          ],
          "state": "NY",
          "zip_code": "10018"
         },
         "name": "Go! Go! Curry!",
         "phone": "+12127305555",
         "price": "$$",
         "rating": 4,
         "review_count": 1505,
         "transactions": [
          "pickup",
          "delivery"
         ],
         "url": "https://www.yelp.com/biz/go-go-curry-new-york-32?adjust_creative=sYvNGSgQOz8PvjGkZfe_2A&utm_campaign=yelp_api_v3&utm_medium=api_v3_business_search&utm_source=sYvNGSgQOz8PvjGkZfe_2A"
        },
        {
         "alias": "obao-new-york-3",
         "categories": [
          {
           "alias": "vietnamese",
           "title": "Vietnamese"
          },
          {
           "alias": "thai",
           "title": "Thai"
          },
          {
           "alias": "asianfusion",
           "title": "Asian Fusion"
          }
         ],
         "coordinates": {
          "latitude": 40.7606544,
          "longitude": -73.991332
         },
         "display_phone": "(212) 245-8880",
         "distance": 1048.6541476163688,
         "id": "NN3mOWF5e_pnR1ArqM2bHQ",
         "image_url": "https://s3-media4.fl.yelpcdn.com/bphoto/CpVI2XJLrvg09Fm83bfPog/o.jpg",
         "is_closed": false,
         "location": {
          "address1": "647 9th Ave",
          "address2": "",
          "address3": "",
          "city": "New York",
          "country": "US",
          "display_address": [
           "647 9th Ave",
           "New York, NY 10036"
          ],
          "state": "NY",
          "zip_code": "10036"
         },
         "name": "OBAO",
         "phone": "+12122458880",
         "price": "$$",
         "rating": 4,
         "review_count": 3749,
         "transactions": [
          "pickup",
          "delivery"
         ],
         "url": "https://www.yelp.com/biz/obao-new-york-3?adjust_creative=sYvNGSgQOz8PvjGkZfe_2A&utm_campaign=yelp_api_v3&utm_medium=api_v3_business_search&utm_source=sYvNGSgQOz8PvjGkZfe_2A"
        },
        {
         "alias": "frying-pan-new-york",
         "categories": [
          {
           "alias": "bars",
           "title": "Bars"
          }
         ],
         "coordinates": {
          "latitude": 40.7521174043978,
          "longitude": -74.0090024471283
         },
         "display_phone": "(212) 989-6363",
         "distance": 719.2086170745423,
         "id": "bEloKDe-QVkwakAwmFKbbA",
         "image_url": "https://s3-media2.fl.yelpcdn.com/bphoto/HgBT-gGv_X8Ae-d4JNvNBw/o.jpg",
         "is_closed": false,
         "location": {
          "address1": "207 12th Avenue",
          "address2": "",
          "address3": "Big Red Boat in Park",
          "city": "New York",
          "country": "US",
          "display_address": [
           "207 12th Avenue",
           "Big Red Boat in Park",
           "New York, NY 10001"
          ],
          "state": "NY",
          "zip_code": "10001"
         },
         "name": "Frying Pan",
         "phone": "+12129896363",
         "price": "$$",
         "rating": 4,
         "review_count": 1619,
         "transactions": [],
         "url": "https://www.yelp.com/biz/frying-pan-new-york?adjust_creative=sYvNGSgQOz8PvjGkZfe_2A&utm_campaign=yelp_api_v3&utm_medium=api_v3_business_search&utm_source=sYvNGSgQOz8PvjGkZfe_2A"
        },
        {
         "alias": "citizens-of-chelsea-new-york",
         "categories": [
          {
           "alias": "coffee",
           "title": "Coffee & Tea"
          },
          {
           "alias": "breakfast_brunch",
           "title": "Breakfast & Brunch"
          },
          {
           "alias": "australian",
           "title": "Australian"
          }
         ],
         "coordinates": {
          "latitude": 40.748099827409895,
          "longitude": -74.000569
         },
         "display_phone": "(347) 554-7496",
         "distance": 881.6504316785193,
         "id": "FaR-Kv-0ZzgcqFW1sCnacw",
         "image_url": "https://s3-media4.fl.yelpcdn.com/bphoto/zJphDSzG5aYRcqge_PtqJQ/o.jpg",
         "is_closed": false,
         "location": {
          "address1": "401 W 25th St",
          "address2": "",
          "address3": null,
          "city": "New York",
          "country": "US",
          "display_address": [
           "401 W 25th St",
           "New York, NY 10001"
          ],
          "state": "NY",
          "zip_code": "10001"
         },
         "name": "Citizens Of Chelsea",
         "phone": "+13475547496",
         "price": "$$",
         "rating": 4,
         "review_count": 968,
         "transactions": [
          "pickup",
          "delivery"
         ],
         "url": "https://www.yelp.com/biz/citizens-of-chelsea-new-york?adjust_creative=sYvNGSgQOz8PvjGkZfe_2A&utm_campaign=yelp_api_v3&utm_medium=api_v3_business_search&utm_source=sYvNGSgQOz8PvjGkZfe_2A"
        },
        {
         "alias": "non-solo-piada-new-york",
         "categories": [
          {
           "alias": "italian",
           "title": "Italian"
          },
          {
           "alias": "breakfast_brunch",
           "title": "Breakfast & Brunch"
          },
          {
           "alias": "piadina",
           "title": "Piadina"
          }
         ],
         "coordinates": {
          "latitude": 40.75414,
          "longitude": -73.99245
         },
         "display_phone": "(212) 216-0616",
         "distance": 828.4681078527454,
         "id": "-Td-YEPTOUq2H3LRWgRxUw",
         "image_url": "https://s3-media1.fl.yelpcdn.com/bphoto/rQX6agHxaevnvsAVZs48Og/o.jpg",
         "is_closed": false,
         "location": {
          "address1": "302 W 37th St",
          "address2": "",
          "address3": null,
          "city": "New York",
          "country": "US",
          "display_address": [
           "302 W 37th St",
           "New York, NY 10018"
          ],
          "state": "NY",
          "zip_code": "10018"
         },
         "name": "Non Solo Piada",
         "phone": "+12122160616",
         "price": "$$",
         "rating": 4.5,
         "review_count": 404,
         "transactions": [
          "pickup",
          "delivery"
         ],
         "url": "https://www.yelp.com/biz/non-solo-piada-new-york?adjust_creative=sYvNGSgQOz8PvjGkZfe_2A&utm_campaign=yelp_api_v3&utm_medium=api_v3_business_search&utm_source=sYvNGSgQOz8PvjGkZfe_2A"
        },
        {
         "alias": "schmackarys-new-york",
         "categories": [
          {
           "alias": "desserts",
           "title": "Desserts"
          },
          {
           "alias": "bakeries",
           "title": "Bakeries"
          },
          {
           "alias": "coffee",
           "title": "Coffee & Tea"
          }
         ],
         "coordinates": {
          "latitude": 40.760153883881,
          "longitude": -73.990944257291
         },
         "display_phone": "(646) 801-9866",
         "distance": 1051.1157841314575,
         "id": "jz_FnuRpCNzfwwHHQ6Nbeg",
         "image_url": "https://s3-media1.fl.yelpcdn.com/bphoto/_LX4fJtwTJWv_Rb8C0O1Gg/o.jpg",
         "is_closed": false,
         "location": {
          "address1": "362 W 45th St",
          "address2": "",
          "address3": "",
          "city": "New York",
          "country": "US",
          "display_address": [
           "362 W 45th St",
           "New York, NY 10036"
          ],
          "state": "NY",
          "zip_code": "10036"
         },
         "name": "Schmackary's",
         "phone": "+16468019866",
         "price": "$",
         "rating": 4,
         "review_count": 2187,
         "transactions": [
          "pickup",
          "delivery"
         ],
         "url": "https://www.yelp.com/biz/schmackarys-new-york?adjust_creative=sYvNGSgQOz8PvjGkZfe_2A&utm_campaign=yelp_api_v3&utm_medium=api_v3_business_search&utm_source=sYvNGSgQOz8PvjGkZfe_2A"
        },
        {
         "alias": "rudys-bar-and-grill-new-york",
         "categories": [
          {
           "alias": "divebars",
           "title": "Dive Bars"
          },
          {
           "alias": "hotdog",
           "title": "Hot Dogs"
          }
         ],
         "coordinates": {
          "latitude": 40.76003419916213,
          "longitude": -73.9917941990945
         },
         "display_phone": "(646) 707-0890",
         "distance": 981.3020171804804,
         "id": "4nohlTsGHEDdpwYkRTt-fA",
         "image_url": "https://s3-media1.fl.yelpcdn.com/bphoto/rtnb3fJoNnB50JlLZKm_Hw/o.jpg",
         "is_closed": false,
         "location": {
          "address1": "627 9th Ave",
          "address2": "",
          "address3": "",
          "city": "New York",
          "country": "US",
          "display_address": [
           "627 9th Ave",
           "New York, NY 10036"
          ],
          "state": "NY",
          "zip_code": "10036"
         },
         "name": "Rudy's Bar & Grill",
         "phone": "+16467070890",
         "price": "$",
         "rating": 4,
         "review_count": 1165,
         "transactions": [],
         "url": "https://www.yelp.com/biz/rudys-bar-and-grill-new-york?adjust_creative=sYvNGSgQOz8PvjGkZfe_2A&utm_campaign=yelp_api_v3&utm_medium=api_v3_business_search&utm_source=sYvNGSgQOz8PvjGkZfe_2A"
        },
        {
         "alias": "buena-vista-restaurant-and-bar-new-york",
         "categories": [
          {
           "alias": "latin",
           "title": "Latin American"
          },
          {
           "alias": "seafood",
           "title": "Seafood"
          },
          {
           "alias": "newamerican",
           "title": "American (New)"
          }
         ],
         "coordinates": {
          "latitude": 40.75686,
          "longitude": -73.99356
         },
         "display_phone": "(212) 388-5040",
         "distance": 733.1030506939894,
         "id": "PGpCaNkB1meojnbgRmb2gQ",
         "image_url": "https://s3-media4.fl.yelpcdn.com/bphoto/Q6EmqDNWkbNACGxxKfwsPA/o.jpg",
         "is_closed": false,
         "location": {
          "address1": "536 9th Ave",
          "address2": "",
          "address3": null,
          "city": "New York",
          "country": "US",
          "display_address": [
           "536 9th Ave",
           "New York, NY 10018"
          ],
          "state": "NY",
          "zip_code": "10018"
         },
         "name": "Buena Vista Restaurant & Bar",
         "phone": "+12123885040",
         "price": "$$$",
         "rating": 4.5,
         "review_count": 327,
         "transactions": [
          "pickup",
          "delivery",
          "restaurant_reservation"
         ],
         "url": "https://www.yelp.com/biz/buena-vista-restaurant-and-bar-new-york?adjust_creative=sYvNGSgQOz8PvjGkZfe_2A&utm_campaign=yelp_api_v3&utm_medium=api_v3_business_search&utm_source=sYvNGSgQOz8PvjGkZfe_2A"
        },
        {
         "alias": "red-poke-new-york-2",
         "categories": [
          {
           "alias": "poke",
           "title": "Poke"
          },
          {
           "alias": "korean",
           "title": "Korean"
          },
          {
           "alias": "japanese",
           "title": "Japanese"
          }
         ],
         "coordinates": {
          "latitude": 40.7588993,
          "longitude": -73.991915
         },
         "display_phone": "(212) 974-8100",
         "distance": 920.025190021546,
         "id": "SdESb_kSAV6b0WD813J4WQ",
         "image_url": "https://s3-media1.fl.yelpcdn.com/bphoto/okoCZcT7lI73sFZ1wyc84g/o.jpg",
         "is_closed": false,
         "location": {
          "address1": "600 9th Ave",
          "address2": null,
          "address3": "",
          "city": "New York",
          "country": "US",
          "display_address": [
           "600 9th Ave",
           "New York, NY 10036"
          ],
          "state": "NY",
          "zip_code": "10036"
         },
         "name": "Red Poke",
         "phone": "+12129748100",
         "price": "$$",
         "rating": 4.5,
         "review_count": 618,
         "transactions": [
          "pickup",
          "delivery"
         ],
         "url": "https://www.yelp.com/biz/red-poke-new-york-2?adjust_creative=sYvNGSgQOz8PvjGkZfe_2A&utm_campaign=yelp_api_v3&utm_medium=api_v3_business_search&utm_source=sYvNGSgQOz8PvjGkZfe_2A"
        },
        {
         "alias": "jun-men-ramen-bar-new-york",
         "categories": [
          {
           "alias": "ramen",
           "title": "Ramen"
          }
         ],
         "coordinates": {
          "latitude": 40.748209,
          "longitude": -74.00047
         },
         "display_phone": "(646) 852-6787",
         "distance": 870.9350772425215,
         "id": "xrnk8mgoV7up6fauVmugpw",
         "image_url": "https://s3-media2.fl.yelpcdn.com/bphoto/VP3pXcvgmJS9jrrXeDl7kA/o.jpg",
         "is_closed": false,
         "location": {
          "address1": "249 9th Ave",
          "address2": null,
          "address3": "",
          "city": "New York",
          "country": "US",
          "display_address": [
           "249 9th Ave",
           "New York, NY 10001"
          ],
          "state": "NY",
          "zip_code": "10001"
         },
         "name": "Jun-Men Ramen Bar",
         "phone": "+16468526787",
         "price": "$$",
         "rating": 4,
         "review_count": 697,
         "transactions": [
          "pickup",
          "delivery"
         ],
         "url": "https://www.yelp.com/biz/jun-men-ramen-bar-new-york?adjust_creative=sYvNGSgQOz8PvjGkZfe_2A&utm_campaign=yelp_api_v3&utm_medium=api_v3_business_search&utm_source=sYvNGSgQOz8PvjGkZfe_2A"
        },
        {
         "alias": "patiala-indian-grill-new-york",
         "categories": [
          {
           "alias": "indpak",
           "title": "Indian"
          }
         ],
         "coordinates": {
          "latitude": 40.7534700430117,
          "longitude": -73.99595067259492
         },
         "display_phone": "(212) 564-8255",
         "distance": 587.5719186345341,
         "id": "z2VXX7wGl8XZ6_oo9W3koA",
         "image_url": "https://s3-media2.fl.yelpcdn.com/bphoto/cFmz8IrIG6JtI6FN87ULZQ/o.jpg",
         "is_closed": false,
         "location": {
          "address1": "371 W 34th St",
          "address2": "",
          "address3": "",
          "city": "New York",
          "country": "US",
          "display_address": [
           "371 W 34th St",
           "New York, NY 10001"
          ],
          "state": "NY",
          "zip_code": "10001"
         },
         "name": "Patiala Indian Grill",
         "phone": "+12125648255",
         "price": "$$",
         "rating": 4.5,
         "review_count": 537,
         "transactions": [
          "pickup",
          "delivery"
         ],
         "url": "https://www.yelp.com/biz/patiala-indian-grill-new-york?adjust_creative=sYvNGSgQOz8PvjGkZfe_2A&utm_campaign=yelp_api_v3&utm_medium=api_v3_business_search&utm_source=sYvNGSgQOz8PvjGkZfe_2A"
        },
        {
         "alias": "la-pulperia-hells-kitchen-new-york-2",
         "categories": [
          {
           "alias": "latin",
           "title": "Latin American"
          },
          {
           "alias": "seafood",
           "title": "Seafood"
          },
          {
           "alias": "bars",
           "title": "Bars"
          }
         ],
         "coordinates": {
          "latitude": 40.7599217,
          "longitude": -73.991841
         },
         "display_phone": "(646) 669-8984",
         "distance": 972.0531529211826,
         "id": "WqjqHMozyW42XLTtLnKGag",
         "image_url": "https://s3-media3.fl.yelpcdn.com/bphoto/n1pMony1m8z_3rzeiFjXMA/o.jpg",
         "is_closed": false,
         "location": {
          "address1": "623 9th Ave",
          "address2": null,
          "address3": "",
          "city": "New York",
          "country": "US",
          "display_address": [
           "623 9th Ave",
           "New York, NY 10036"
          ],
          "state": "NY",
          "zip_code": "10036"
         },
         "name": "La Pulperia Hell's Kitchen",
         "phone": "+16466698984",
         "price": "$$$",
         "rating": 4,
         "review_count": 866,
         "transactions": [
          "pickup",
          "delivery"
         ],
         "url": "https://www.yelp.com/biz/la-pulperia-hells-kitchen-new-york-2?adjust_creative=sYvNGSgQOz8PvjGkZfe_2A&utm_campaign=yelp_api_v3&utm_medium=api_v3_business_search&utm_source=sYvNGSgQOz8PvjGkZfe_2A"
        },
        {
         "alias": "angelina-bakery-new-york",
         "categories": [
          {
           "alias": "bakeries",
           "title": "Bakeries"
          },
          {
           "alias": "desserts",
           "title": "Desserts"
          },
          {
           "alias": "donuts",
           "title": "Donuts"
          }
         ],
         "coordinates": {
          "latitude": 40.75498,
          "longitude": -73.99166
         },
         "display_phone": "(212) 687-7100",
         "distance": 884.8304153670787,
         "id": "0tJEDmeNMLueSGLNTF0JFg",
         "image_url": "https://s3-media2.fl.yelpcdn.com/bphoto/8040_-AxajTbQjzk4cySRg/o.jpg",
         "is_closed": false,
         "location": {
          "address1": "575 8th Ave",
          "address2": null,
          "address3": "",
          "city": "New York",
          "country": "US",
          "display_address": [
           "575 8th Ave",
           "New York, NY 10018"
          ],
          "state": "NY",
          "zip_code": "10018"
         },
         "name": "Angelina Bakery",
         "phone": "+12126877100",
         "price": "$$",
         "rating": 4.5,
         "review_count": 503,
         "transactions": [
          "pickup",
          "delivery"
         ],
         "url": "https://www.yelp.com/biz/angelina-bakery-new-york?adjust_creative=sYvNGSgQOz8PvjGkZfe_2A&utm_campaign=yelp_api_v3&utm_medium=api_v3_business_search&utm_source=sYvNGSgQOz8PvjGkZfe_2A"
        },
        {
         "alias": "il-punto-ristorante-new-york-4",
         "categories": [
          {
           "alias": "italian",
           "title": "Italian"
          },
          {
           "alias": "wine_bars",
           "title": "Wine Bars"
          },
          {
           "alias": "gluten_free",
           "title": "Gluten-Free"
          }
         ],
         "coordinates": {
          "latitude": 40.75614426678582,
          "longitude": -73.9946186
         },
         "display_phone": "(212) 244-0088",
         "distance": 631.930514660983,
         "id": "UQZmhaPAMdZabid6ccvhTg",
         "image_url": "https://s3-media1.fl.yelpcdn.com/bphoto/uEE-CNM1xSPktnPqZRpAkg/o.jpg",
         "is_closed": false,
         "location": {
          "address1": "507 9th Ave",
          "address2": "",
          "address3": "",
          "city": "New York",
          "country": "US",
          "display_address": [
           "507 9th Ave",
           "New York, NY 10018"
          ],
          "state": "NY",
          "zip_code": "10018"
         },
         "name": "IL Punto Ristorante",
         "phone": "+12122440088",
         "price": "$$$",
         "rating": 4.5,
         "review_count": 442,
         "transactions": [
          "pickup",
          "delivery",
          "restaurant_reservation"
         ],
         "url": "https://www.yelp.com/biz/il-punto-ristorante-new-york-4?adjust_creative=sYvNGSgQOz8PvjGkZfe_2A&utm_campaign=yelp_api_v3&utm_medium=api_v3_business_search&utm_source=sYvNGSgQOz8PvjGkZfe_2A"
        },
        {
         "alias": "porteno-restaurant-new-york",
         "categories": [
          {
           "alias": "argentine",
           "title": "Argentine"
          }
         ],
         "coordinates": {
          "latitude": 40.75045738551275,
          "longitude": -74.00238634488645
         },
         "display_phone": "(212) 695-9694",
         "distance": 610.2391310166331,
         "id": "PbezejIP9RHrjw-k459iZA",
         "image_url": "https://s3-media4.fl.yelpcdn.com/bphoto/i5x09ip2W4AZaQdUk9tVlQ/o.jpg",
         "is_closed": false,
         "location": {
          "address1": "299 10th Ave",
          "address2": "",
          "address3": "",
          "city": "New York",
          "country": "US",
          "display_address": [
           "299 10th Ave",
           "New York, NY 10001"
          ],
          "state": "NY",
          "zip_code": "10001"
         },
         "name": "Porteno Restaurant",
         "phone": "+12126959694",
         "price": "$$$",
         "rating": 4,
         "review_count": 412,
         "transactions": [
          "delivery"
         ],
         "url": "https://www.yelp.com/biz/porteno-restaurant-new-york?adjust_creative=sYvNGSgQOz8PvjGkZfe_2A&utm_campaign=yelp_api_v3&utm_medium=api_v3_business_search&utm_source=sYvNGSgQOz8PvjGkZfe_2A"
        },
        {
         "alias": "vitos-slices-and-ices-new-york-2",
         "categories": [
          {
           "alias": "pizza",
           "title": "Pizza"
          },
          {
           "alias": "shavedice",
           "title": "Shaved Ice"
          },
          {
           "alias": "italian",
           "title": "Italian"
          }
         ],
         "coordinates": {
          "latitude": 40.7545,
          "longitude": -73.99528
         },
         "display_phone": "(212) 273-1186",
         "distance": 605.6297832615913,
         "id": "EMKsuz1fQIGqmWPp3ZEDmA",
         "image_url": "https://s3-media3.fl.yelpcdn.com/bphoto/onNDPn3psmFjEQ71tx6-dQ/o.jpg",
         "is_closed": false,
         "location": {
          "address1": "464 9th Ave",
          "address2": null,
          "address3": "",
          "city": "New York",
          "country": "US",
          "display_address": [
           "464 9th Ave",
           "New York, NY 10018"
          ],
          "state": "NY",
          "zip_code": "10018"
         },
         "name": "Vito's Slices and Ices",
         "phone": "+12122731186",
         "price": "$",
         "rating": 4.5,
         "review_count": 262,
         "transactions": [
          "pickup",
          "delivery"
         ],
         "url": "https://www.yelp.com/biz/vitos-slices-and-ices-new-york-2?adjust_creative=sYvNGSgQOz8PvjGkZfe_2A&utm_campaign=yelp_api_v3&utm_medium=api_v3_business_search&utm_source=sYvNGSgQOz8PvjGkZfe_2A"
        },
        {
         "alias": "kings-of-kobe-new-york-new-york",
         "categories": [
          {
           "alias": "hotdog",
           "title": "Hot Dogs"
          },
          {
           "alias": "burgers",
           "title": "Burgers"
          },
          {
           "alias": "bars",
           "title": "Bars"
          }
         ],
         "coordinates": {
          "latitude": 40.761172,
          "longitude": -74.000307
         },
         "display_phone": "(646) 370-5121",
         "distance": 601.2279514473529,
         "id": "H26qMBb0OFNn2xmSTM1Phw",
         "image_url": "https://s3-media1.fl.yelpcdn.com/bphoto/E09YECuHcoVEE1AKdJbtZg/o.jpg",
         "is_closed": false,
         "location": {
          "address1": "650 W 42nd St",
          "address2": null,
          "address3": "",
          "city": "New York",
          "country": "US",
          "display_address": [
           "650 W 42nd St",
           "New York, NY 10036"
          ],
          "state": "NY",
          "zip_code": "10036"
         },
         "name": "Kings of Kobe",
         "phone": "+16463705121",
         "price": "$$",
         "rating": 4.5,
         "review_count": 404,
         "transactions": [
          "pickup",
          "delivery"
         ],
         "url": "https://www.yelp.com/biz/kings-of-kobe-new-york-new-york?adjust_creative=sYvNGSgQOz8PvjGkZfe_2A&utm_campaign=yelp_api_v3&utm_medium=api_v3_business_search&utm_source=sYvNGSgQOz8PvjGkZfe_2A"
        },
        {
         "alias": "gallow-green-new-york",
         "categories": [
          {
           "alias": "cocktailbars",
           "title": "Cocktail Bars"
          },
          {
           "alias": "newamerican",
           "title": "American (New)"
          },
          {
           "alias": "breakfast_brunch",
           "title": "Breakfast & Brunch"
          }
         ],
         "coordinates": {
          "latitude": 40.7508871,
          "longitude": -74.0041249
         },
         "display_phone": "(212) 904-1880",
         "distance": 586.9467482901274,
         "id": "YMHxv6VFriKz1KevVXl0Cw",
         "image_url": "https://s3-media1.fl.yelpcdn.com/bphoto/X8TGZk73BUoo7x6hUhgwug/o.jpg",
         "is_closed": false,
         "location": {
          "address1": "542 W 27th St",
          "address2": "",
          "address3": "",
          "city": "New York",
          "country": "US",
          "display_address": [
           "542 W 27th St",
           "New York, NY 10001"
          ],
          "state": "NY",
          "zip_code": "10001"
         },
         "name": "Gallow Green",
         "phone": "+12129041880",
         "price": "$$$",
         "rating": 3.5,
         "review_count": 905,
         "transactions": [
          "delivery"
         ],
         "url": "https://www.yelp.com/biz/gallow-green-new-york?adjust_creative=sYvNGSgQOz8PvjGkZfe_2A&utm_campaign=yelp_api_v3&utm_medium=api_v3_business_search&utm_source=sYvNGSgQOz8PvjGkZfe_2A"
        },
        {
         "alias": "old-country-coffee-new-york",
         "categories": [
          {
           "alias": "coffee",
           "title": "Coffee & Tea"
          },
          {
           "alias": "bagels",
           "title": "Bagels"
          },
          {
           "alias": "sandwiches",
           "title": "Sandwiches"
          }
         ],
         "coordinates": {
          "latitude": 40.7544507270095,
          "longitude": -73.9984663948417
         },
         "display_phone": "(646) 861-2171",
         "distance": 349.2813677456053,
         "id": "1UOo0w-JNKASCMvSWnle0w",
         "image_url": "https://s3-media2.fl.yelpcdn.com/bphoto/Ziym5ZHDsElePA1WVueAyw/o.jpg",
         "is_closed": false,
         "location": {
          "address1": "455 W 34th St",
          "address2": "",
          "address3": null,
          "city": "New York",
          "country": "US",
          "display_address": [
           "455 W 34th St",
           "New York, NY 10001"
          ],
          "state": "NY",
          "zip_code": "10001"
         },
         "name": "Old Country Coffee",
         "phone": "+16468612171",
         "price": "$",
         "rating": 4.5,
         "review_count": 259,
         "transactions": [
          "pickup",
          "delivery"
         ],
         "url": "https://www.yelp.com/biz/old-country-coffee-new-york?adjust_creative=sYvNGSgQOz8PvjGkZfe_2A&utm_campaign=yelp_api_v3&utm_medium=api_v3_business_search&utm_source=sYvNGSgQOz8PvjGkZfe_2A"
        },
        {
         "alias": "mercato-new-york",
         "categories": [
          {
           "alias": "italian",
           "title": "Italian"
          },
          {
           "alias": "cocktailbars",
           "title": "Cocktail Bars"
          },
          {
           "alias": "desserts",
           "title": "Desserts"
          }
         ],
         "coordinates": {
          "latitude": 40.75619,
          "longitude": -73.9937
         },
         "display_phone": "(212) 643-2000",
         "distance": 711.4184428010543,
         "id": "Ve6GVzzJpR5QIIPdcn6ViQ",
         "image_url": "https://s3-media3.fl.yelpcdn.com/bphoto/LTDeQgRvclFWi5cfXOr3qg/o.jpg",
         "is_closed": false,
         "location": {
          "address1": "352 W 39th St",
          "address2": "",
          "address3": "",
          "city": "New York",
          "country": "US",
          "display_address": [
           "352 W 39th St",
           "New York, NY 10018"
          ],
          "state": "NY",
          "zip_code": "10018"
         },
         "name": "Mercato",
         "phone": "+12126432000",
         "price": "$$",
         "rating": 4,
         "review_count": 1026,
         "transactions": [
          "pickup",
          "delivery"
         ],
         "url": "https://www.yelp.com/biz/mercato-new-york?adjust_creative=sYvNGSgQOz8PvjGkZfe_2A&utm_campaign=yelp_api_v3&utm_medium=api_v3_business_search&utm_source=sYvNGSgQOz8PvjGkZfe_2A"
        },
        {
         "alias": "hudson-river-park-new-york",
         "categories": [
          {
           "alias": "parks",
           "title": "Parks"
          }
         ],
         "coordinates": {
          "latitude": 40.7535722166564,
          "longitude": -74.0076291561127
         },
         "display_phone": "(212) 627-2020",
         "distance": 533.8891625334364,
         "id": "RbnzkH8VYOKdkg_HXcIYkw",
         "image_url": "https://s3-media2.fl.yelpcdn.com/bphoto/c_ZbPdmduRSvD0j__GzWtA/o.jpg",
         "is_closed": false,
         "location": {
          "address1": "59TH St",
          "address2": "",
          "address3": "West Side Hwy",
          "city": "New York",
          "country": "US",
          "display_address": [
           "59TH St",
           "West Side Hwy",
           "New York, NY 10001"
          ],
          "state": "NY",
          "zip_code": "10001"
         },
         "name": "Hudson River Park",
         "phone": "+12126272020",
         "rating": 4.5,
         "review_count": 180,
         "transactions": [],
         "url": "https://www.yelp.com/biz/hudson-river-park-new-york?adjust_creative=sYvNGSgQOz8PvjGkZfe_2A&utm_campaign=yelp_api_v3&utm_medium=api_v3_business_search&utm_source=sYvNGSgQOz8PvjGkZfe_2A"
        },
        {
         "alias": "little-pie-company-new-york",
         "categories": [
          {
           "alias": "bakeries",
           "title": "Bakeries"
          },
          {
           "alias": "desserts",
           "title": "Desserts"
          }
         ],
         "coordinates": {
          "latitude": 40.75949,
          "longitude": -73.99332
         },
         "display_phone": "(212) 736-4780",
         "distance": 836.7624014363084,
         "id": "VzHdgvEv9bx9RVrNbhsmQw",
         "image_url": "https://s3-media3.fl.yelpcdn.com/bphoto/JoFmxJW6t6jIO1DsJ41lfQ/o.jpg",
         "is_closed": false,
         "location": {
          "address1": "424 W 43rd St",
          "address2": null,
          "address3": "",
          "city": "New York",
          "country": "US",
          "display_address": [
           "424 W 43rd St",
           "New York, NY 10036"
          ],
          "state": "NY",
          "zip_code": "10036"
         },
         "name": "Little Pie Company",
         "phone": "+12127364780",
         "price": "$$",
         "rating": 4,
         "review_count": 787,
         "transactions": [
          "pickup",
          "delivery"
         ],
         "url": "https://www.yelp.com/biz/little-pie-company-new-york?adjust_creative=sYvNGSgQOz8PvjGkZfe_2A&utm_campaign=yelp_api_v3&utm_medium=api_v3_business_search&utm_source=sYvNGSgQOz8PvjGkZfe_2A"
        },
        {
         "alias": "kochi-new-york",
         "categories": [
          {
           "alias": "korean",
           "title": "Korean"
          },
          {
           "alias": "venues",
           "title": "Venues & Event Spaces"
          },
          {
           "alias": "wine_bars",
           "title": "Wine Bars"
          }
         ],
         "coordinates": {
          "latitude": 40.76201,
          "longitude": -73.99351
         },
         "display_phone": "(646) 478-7308",
         "distance": 993.0616628092088,
         "id": "Au1AcsukhrbUfn6oit8tZw",
         "image_url": "https://s3-media1.fl.yelpcdn.com/bphoto/5TN_divbz8tA74cUtYgBeQ/o.jpg",
         "is_closed": false,
         "location": {
          "address1": "652 10th Ave",
          "address2": null,
          "address3": "",
          "city": "New York",
          "country": "US",
          "display_address": [
           "652 10th Ave",
           "New York, NY 10036"
          ],
          "state": "NY",
          "zip_code": "10036"
         },
         "name": "Kochi",
         "phone": "+16464787308",
         "price": "$$$$",
         "rating": 4.5,
         "review_count": 351,
         "transactions": [
          "delivery"
         ],
         "url": "https://www.yelp.com/biz/kochi-new-york?adjust_creative=sYvNGSgQOz8PvjGkZfe_2A&utm_campaign=yelp_api_v3&utm_medium=api_v3_business_search&utm_source=sYvNGSgQOz8PvjGkZfe_2A"
        },
        {
         "alias": "friedmans-new-york-71",
         "categories": [
          {
           "alias": "newamerican",
           "title": "American (New)"
          },
          {
           "alias": "breakfast_brunch",
           "title": "Breakfast & Brunch"
          },
          {
           "alias": "wine_bars",
           "title": "Wine Bars"
          }
         ],
         "coordinates": {
          "latitude": 40.74839,
          "longitude": -73.99062
         },
         "display_phone": "(212) 971-9400",
         "distance": 1282.6567989600128,
         "id": "cCesIqo-LQt0cRlZAnrAZQ",
         "image_url": "https://s3-media3.fl.yelpcdn.com/bphoto/JbaqPlimXZu-Lis5oB3u9w/o.jpg",
         "is_closed": false,
         "location": {
          "address1": "132 W 31st St",
          "address2": "",
          "address3": "",
          "city": "New York",
          "country": "US",
          "display_address": [
           "132 W 31st St",
           "New York, NY 10001"
          ],
          "state": "NY",
          "zip_code": "10001"
         },
         "name": "Friedman's",
         "phone": "+12129719400",
         "price": "$$",
         "rating": 4,
         "review_count": 2794,
         "transactions": [
          "pickup",
          "delivery"
         ],
         "url": "https://www.yelp.com/biz/friedmans-new-york-71?adjust_creative=sYvNGSgQOz8PvjGkZfe_2A&utm_campaign=yelp_api_v3&utm_medium=api_v3_business_search&utm_source=sYvNGSgQOz8PvjGkZfe_2A"
        },
        {
         "alias": "ovest-pizzoteca-by-luzzos-new-york",
         "categories": [
          {
           "alias": "italian",
           "title": "Italian"
          },
          {
           "alias": "bars",
           "title": "Bars"
          },
          {
           "alias": "breakfast_brunch",
           "title": "Breakfast & Brunch"
          }
         ],
         "coordinates": {
          "latitude": 40.7507476806641,
          "longitude": -74.0030212402344
         },
         "display_phone": "(212) 967-4392",
         "distance": 579.3240110350613,
         "id": "n_NIY1KTi-R5DPkduEUKIw",
         "image_url": "https://s3-media1.fl.yelpcdn.com/bphoto/3H9ZJaxgWbaWdqhpq3nqQA/o.jpg",
         "is_closed": false,
         "location": {
          "address1": "513 W 27th St",
          "address2": "",
          "address3": "",
          "city": "New York",
          "country": "US",
          "display_address": [
           "513 W 27th St",
           "New York, NY 10001"
          ],
          "state": "NY",
          "zip_code": "10001"
         },
         "name": "Ovest Pizzoteca by Luzzo's",
         "phone": "+12129674392",
         "price": "$$",
         "rating": 4,
         "review_count": 591,
         "transactions": [
          "pickup",
          "delivery"
         ],
         "url": "https://www.yelp.com/biz/ovest-pizzoteca-by-luzzos-new-york?adjust_creative=sYvNGSgQOz8PvjGkZfe_2A&utm_campaign=yelp_api_v3&utm_medium=api_v3_business_search&utm_source=sYvNGSgQOz8PvjGkZfe_2A"
        },
        {
         "alias": "the-marshal-new-york",
         "categories": [
          {
           "alias": "breakfast_brunch",
           "title": "Breakfast & Brunch"
          },
          {
           "alias": "tradamerican",
           "title": "American (Traditional)"
          },
          {
           "alias": "pizza",
           "title": "Pizza"
          }
         ],
         "coordinates": {
          "latitude": 40.76122,
          "longitude": -73.99396
         },
         "display_phone": "(212) 582-6300",
         "distance": 905.7454646537909,
         "id": "u-MUL83NUy2gsbV80WZnAA",
         "image_url": "https://s3-media2.fl.yelpcdn.com/bphoto/sf7WIf2p5OAWEnAqwmGJqQ/o.jpg",
         "is_closed": false,
         "location": {
          "address1": "628 10th Ave",
          "address2": null,
          "address3": "",
          "city": "New York",
          "country": "US",
          "display_address": [
           "628 10th Ave",
           "New York, NY 10036"
          ],
          "state": "NY",
          "zip_code": "10036"
         },
         "name": "The Marshal",
         "phone": "+12125826300",
         "price": "$$$",
         "rating": 4,
         "review_count": 827,
         "transactions": [
          "pickup",
          "delivery"
         ],
         "url": "https://www.yelp.com/biz/the-marshal-new-york?adjust_creative=sYvNGSgQOz8PvjGkZfe_2A&utm_campaign=yelp_api_v3&utm_medium=api_v3_business_search&utm_source=sYvNGSgQOz8PvjGkZfe_2A"
        },
        {
         "alias": "ci-siamo-new-york-5",
         "categories": [
          {
           "alias": "italian",
           "title": "Italian"
          },
          {
           "alias": "bars",
           "title": "Bars"
          },
          {
           "alias": "pizza",
           "title": "Pizza"
          }
         ],
         "coordinates": {
          "latitude": 40.75240549384363,
          "longitude": -73.9982864846782
         },
         "display_phone": "(212) 219-6559",
         "distance": 508.5950900980447,
         "id": "LkV96_buOU_n0br4SBO57w",
         "image_url": "https://s3-media3.fl.yelpcdn.com/bphoto/Sc2AdduIiIcN7U36j_wstQ/o.jpg",
         "is_closed": false,
         "location": {
          "address1": "440 West 33rd St",
          "address2": "Ste 100",
          "address3": "",
          "city": "New York",
          "country": "US",
          "display_address": [
           "440 West 33rd St",
           "Ste 100",
           "New York, NY 10001"
          ],
          "state": "NY",
          "zip_code": "10001"
         },
         "name": "Ci Siamo",
         "phone": "+12122196559",
         "price": "$$$",
         "rating": 4.5,
         "review_count": 227,
         "transactions": [],
         "url": "https://www.yelp.com/biz/ci-siamo-new-york-5?adjust_creative=sYvNGSgQOz8PvjGkZfe_2A&utm_campaign=yelp_api_v3&utm_medium=api_v3_business_search&utm_source=sYvNGSgQOz8PvjGkZfe_2A"
        },
        {
         "alias": "farida-central-asian-cuisine-and-grill-midtown-new-york-3",
         "categories": [
          {
           "alias": "uzbek",
           "title": "Uzbek"
          },
          {
           "alias": "halal",
           "title": "Halal"
          },
          {
           "alias": "ukrainian",
           "title": "Ukrainian"
          }
         ],
         "coordinates": {
          "latitude": 40.75568479045403,
          "longitude": -73.99444701949656
         },
         "display_phone": "(646) 863-2020",
         "distance": 646.6137234019003,
         "id": "tXZOJhUUknjTRRo9j4ckZg",
         "image_url": "https://s3-media2.fl.yelpcdn.com/bphoto/UE1pHQP5Gx6lXzwxaej3_w/o.jpg",
         "is_closed": false,
         "location": {
          "address1": "498 9th Ave",
          "address2": null,
          "address3": "",
          "city": "New York",
          "country": "US",
          "display_address": [
           "498 9th Ave",
           "New York, NY 10018"
          ],
          "state": "NY",
          "zip_code": "10018"
         },
         "name": "Farida Central Asian Cuisine & Grill - Midtown",
         "phone": "+16468632020",
         "price": "$$",
         "rating": 4,
         "review_count": 453,
         "transactions": [
          "pickup",
          "delivery"
         ],
         "url": "https://www.yelp.com/biz/farida-central-asian-cuisine-and-grill-midtown-new-york-3?adjust_creative=sYvNGSgQOz8PvjGkZfe_2A&utm_campaign=yelp_api_v3&utm_medium=api_v3_business_search&utm_source=sYvNGSgQOz8PvjGkZfe_2A"
        },
        {
         "alias": "district-tap-house-new-york",
         "categories": [
          {
           "alias": "sportsbars",
           "title": "Sports Bars"
          },
          {
           "alias": "pubs",
           "title": "Pubs"
          },
          {
           "alias": "newamerican",
           "title": "American (New)"
          }
         ],
         "coordinates": {
          "latitude": 40.75409,
          "longitude": -73.99039
         },
         "display_phone": "(212) 221-1822",
         "distance": 1014.9968149406867,
         "id": "Z65cd3Z7JvwK8TnSVg-cfA",
         "image_url": "https://s3-media4.fl.yelpcdn.com/bphoto/lR0mvsFEyC9bip6ujSxBTQ/o.jpg",
         "is_closed": false,
         "location": {
          "address1": "246 W 38th St",
          "address2": "",
          "address3": "",
          "city": "New York",
          "country": "US",
          "display_address": [
           "246 W 38th St",
           "New York, NY 10018"
          ],
          "state": "NY",
          "zip_code": "10018"
         },
         "name": "District Tap House",
         "phone": "+12122211822",
         "price": "$$",
         "rating": 4,
         "review_count": 868,
         "transactions": [
          "pickup",
          "delivery"
         ],
         "url": "https://www.yelp.com/biz/district-tap-house-new-york?adjust_creative=sYvNGSgQOz8PvjGkZfe_2A&utm_campaign=yelp_api_v3&utm_medium=api_v3_business_search&utm_source=sYvNGSgQOz8PvjGkZfe_2A"
        },
        {
         "alias": "tia-pol-new-york",
         "categories": [
          {
           "alias": "tapas",
           "title": "Tapas Bars"
          },
          {
           "alias": "spanish",
           "title": "Spanish"
          }
         ],
         "coordinates": {
          "latitude": 40.74726,
          "longitude": -74.0047
         },
         "display_phone": "(212) 675-8805",
         "distance": 996.7211602479146,
         "id": "fUxRTikmfHnURZ26lD2y4Q",
         "image_url": "https://s3-media2.fl.yelpcdn.com/bphoto/jJ641tPiJ5y05O_9cHwwpA/o.jpg",
         "is_closed": false,
         "location": {
          "address1": "205 10th Ave",
          "address2": null,
          "address3": "",
          "city": "New York",
          "country": "US",
          "display_address": [
           "205 10th Ave",
           "New York, NY 10011"
          ],
          "state": "NY",
          "zip_code": "10011"
         },
         "name": "Tia Pol",
         "phone": "+12126758805",
         "price": "$$",
         "rating": 4,
         "review_count": 733,
         "transactions": [
          "pickup",
          "delivery"
         ],
         "url": "https://www.yelp.com/biz/tia-pol-new-york?adjust_creative=sYvNGSgQOz8PvjGkZfe_2A&utm_campaign=yelp_api_v3&utm_medium=api_v3_business_search&utm_source=sYvNGSgQOz8PvjGkZfe_2A"
        },
        {
         "alias": "hold-fast-kitchen-and-spirits-new-york",
         "categories": [
          {
           "alias": "newamerican",
           "title": "American (New)"
          },
          {
           "alias": "cocktailbars",
           "title": "Cocktail Bars"
          },
          {
           "alias": "breakfast_brunch",
           "title": "Breakfast & Brunch"
          }
         ],
         "coordinates": {
          "latitude": 40.76064,
          "longitude": -73.99023
         },
         "display_phone": "(917) 261-6691",
         "distance": 1123.6578996187422,
         "id": "VLGmFHE4s0Sfu0piMVQa1Q",
         "image_url": "https://s3-media4.fl.yelpcdn.com/bphoto/2a8BP3w4_pgEn8Y0E6TBow/o.jpg",
         "is_closed": false,
         "location": {
          "address1": "364 W 46th St",
          "address2": null,
          "address3": "",
          "city": "New York",
          "country": "US",
          "display_address": [
           "364 W 46th St",
           "New York, NY 10036"
          ],
          "state": "NY",
          "zip_code": "10036"
         },
         "name": "Hold Fast Kitchen & Spirits",
         "phone": "+19172616691",
         "price": "$$",
         "rating": 4.5,
         "review_count": 567,
         "transactions": [
          "pickup",
          "delivery"
         ],
         "url": "https://www.yelp.com/biz/hold-fast-kitchen-and-spirits-new-york?adjust_creative=sYvNGSgQOz8PvjGkZfe_2A&utm_campaign=yelp_api_v3&utm_medium=api_v3_business_search&utm_source=sYvNGSgQOz8PvjGkZfe_2A"
        },
        {
         "alias": "sullivan-street-bakery-new-york-3",
         "categories": [
          {
           "alias": "bakeries",
           "title": "Bakeries"
          }
         ],
         "coordinates": {
          "latitude": 40.7473222,
          "longitude": -74.0004691
         },
         "display_phone": "(212) 265-5580",
         "distance": 968.4228885145866,
         "id": "4GBqDgTYsV7owGzNMyAFKA",
         "image_url": "https://s3-media1.fl.yelpcdn.com/bphoto/9IqTUcD62P3ziCRpCel3dA/o.jpg",
         "is_closed": false,
         "location": {
          "address1": "533 W 47th St",
          "address2": null,
          "address3": null,
          "city": "New York",
          "country": "US",
          "display_address": [
           "533 W 47th St",
           "New York, NY 10036"
          ],
          "state": "NY",
          "zip_code": "10036"
         },
         "name": "Sullivan Street Bakery",
         "phone": "+12122655580",
         "price": "$$",
         "rating": 4,
         "review_count": 544,
         "transactions": [
          "pickup",
          "delivery"
         ],
         "url": "https://www.yelp.com/biz/sullivan-street-bakery-new-york-3?adjust_creative=sYvNGSgQOz8PvjGkZfe_2A&utm_campaign=yelp_api_v3&utm_medium=api_v3_business_search&utm_source=sYvNGSgQOz8PvjGkZfe_2A"
        },
        {
         "alias": "district-social-new-york",
         "categories": [
          {
           "alias": "bars",
           "title": "Bars"
          },
          {
           "alias": "newamerican",
           "title": "American (New)"
          }
         ],
         "coordinates": {
          "latitude": 40.7535743713379,
          "longitude": -73.9914321899414
         },
         "display_phone": "(212) 994-9599",
         "distance": 932.7912790226441,
         "id": "eTR6nfHvQzvKX7Dcd6JrfA",
         "image_url": "https://s3-media2.fl.yelpcdn.com/bphoto/Tx1suSKAhe_Vs926oZ_Ykg/o.jpg",
         "is_closed": false,
         "location": {
          "address1": "252 W 37th St",
          "address2": null,
          "address3": "",
          "city": "New York",
          "country": "US",
          "display_address": [
           "252 W 37th St",
           "New York, NY 10018"
          ],
          "state": "NY",
          "zip_code": "10018"
         },
         "name": "District Social",
         "phone": "+12129949599",
         "price": "$$",
         "rating": 4,
         "review_count": 726,
         "transactions": [],
         "url": "https://www.yelp.com/biz/district-social-new-york?adjust_creative=sYvNGSgQOz8PvjGkZfe_2A&utm_campaign=yelp_api_v3&utm_medium=api_v3_business_search&utm_source=sYvNGSgQOz8PvjGkZfe_2A"
        },
        {
         "alias": "death-ave-new-york-5",
         "categories": [
          {
           "alias": "greek",
           "title": "Greek"
          },
          {
           "alias": "newamerican",
           "title": "American (New)"
          },
          {
           "alias": "gastropubs",
           "title": "Gastropubs"
          }
         ],
         "coordinates": {
          "latitude": 40.75105092190377,
          "longitude": -74.00194808204913
         },
         "display_phone": "(212) 695-8080",
         "distance": 544.0014429288481,
         "id": "PHSsvGDW6Rh2pGWEDTrDew",
         "image_url": "https://s3-media3.fl.yelpcdn.com/bphoto/_qybQRGk9_NxNGf164VKnA/o.jpg",
         "is_closed": false,
         "location": {
          "address1": "315 10th Ave",
          "address2": "",
          "address3": "",
          "city": "New York",
          "country": "US",
          "display_address": [
           "315 10th Ave",
           "New York, NY 10001"
          ],
          "state": "NY",
          "zip_code": "10001"
         },
         "name": "Death Ave",
         "phone": "+12126958080",
         "price": "$$",
         "rating": 4,
         "review_count": 651,
         "transactions": [
          "pickup",
          "delivery"
         ],
         "url": "https://www.yelp.com/biz/death-ave-new-york-5?adjust_creative=sYvNGSgQOz8PvjGkZfe_2A&utm_campaign=yelp_api_v3&utm_medium=api_v3_business_search&utm_source=sYvNGSgQOz8PvjGkZfe_2A"
        },
        {
         "alias": "kahlo-new-york",
         "categories": [
          {
           "alias": "mexican",
           "title": "Mexican"
          }
         ],
         "coordinates": {
          "latitude": 40.752092,
          "longitude": -74.0026757
         },
         "display_phone": "(212) 256-0083",
         "distance": 430.64001029895803,
         "id": "xGNzAsakHgbbl9fwgSoiUg",
         "image_url": "https://s3-media2.fl.yelpcdn.com/bphoto/_ZKNGX4X6olFid-__Z6MQg/o.jpg",
         "is_closed": false,
         "location": {
          "address1": "525 West 29th St",
          "address2": "",
          "address3": "",
          "city": "New York",
          "country": "US",
          "display_address": [
           "525 West 29th St",
           "New York, NY 10001"
          ],
          "state": "NY",
          "zip_code": "10001"
         },
         "name": "Kahlo",
         "phone": "+12122560083",
         "price": "$$$",
         "rating": 4,
         "review_count": 222,
         "transactions": [
          "pickup",
          "delivery"
         ],
         "url": "https://www.yelp.com/biz/kahlo-new-york?adjust_creative=sYvNGSgQOz8PvjGkZfe_2A&utm_campaign=yelp_api_v3&utm_medium=api_v3_business_search&utm_source=sYvNGSgQOz8PvjGkZfe_2A"
        },
        {
         "alias": "kame-new-york-2",
         "categories": [
          {
           "alias": "ramen",
           "title": "Ramen"
          },
          {
           "alias": "noodles",
           "title": "Noodles"
          },
          {
           "alias": "salad",
           "title": "Salad"
          }
         ],
         "coordinates": {
          "latitude": 40.7474881059799,
          "longitude": -73.996648862958
         },
         "display_phone": "(917) 391-8587",
         "distance": 1046.7451702561084,
         "id": "r6r-XK_wL02FQdAgaauTxg",
         "image_url": "https://s3-media1.fl.yelpcdn.com/bphoto/QE8CzBkSpCDOTv2L9ag5MQ/o.jpg",
         "is_closed": false,
         "location": {
          "address1": "330 8th Ave",
          "address2": null,
          "address3": null,
          "city": "New York",
          "country": "US",
          "display_address": [
           "330 8th Ave",
           "New York, NY 10001"
          ],
          "state": "NY",
          "zip_code": "10001"
         },
         "name": "Kame",
         "phone": "+19173918587",
         "price": "$$",
         "rating": 4.5,
         "review_count": 702,
         "transactions": [
          "pickup",
          "delivery"
         ],
         "url": "https://www.yelp.com/biz/kame-new-york-2?adjust_creative=sYvNGSgQOz8PvjGkZfe_2A&utm_campaign=yelp_api_v3&utm_medium=api_v3_business_search&utm_source=sYvNGSgQOz8PvjGkZfe_2A"
        }
       ],
       "region": {
        "center": {
         "latitude": 40.75594159,
         "longitude": -74.0021163
        }
       },
       "total": 890
      },
      "text/plain": [
       "<IPython.core.display.JSON object>"
      ]
     },
     "execution_count": 20,
     "metadata": {
      "application/json": {
       "expanded": false,
       "root": "root"
      }
     },
     "output_type": "execute_result"
    }
   ],
   "source": [
    "JSON(yelp_response)"
   ]
  },
  {
   "cell_type": "markdown",
   "metadata": {},
   "source": [
    "Parse through the response to get the POI (such as restaurants, bars, etc) details you want (ratings, name, location, etc)"
   ]
  },
  {
   "cell_type": "code",
   "execution_count": 89,
   "metadata": {},
   "outputs": [],
   "source": [
    "yelp_list = yelp_location_data['businesses']\n",
    "yelp_data = []\n",
    "for poi in yelp_list:\n",
    "    name = poi[\"name\"]\n",
    "    distance = poi['distance']\n",
    "    latitude = poi[\"coordinates\"][\"latitude\"]\n",
    "    longitude = poi[\"coordinates\"][\"longitude\"]\n",
    "    rating = poi[\"rating\"]\n",
    "    review_count = poi[\"review_count\"]\n",
    "    yelp_data.append({'name':name,'latitude':latitude,'longitude':longitude,'distance': distance, 'rating': rating, 'review_count': review_count})\n",
    "yelp_restaurant_data = pd.DataFrame(yelp_data)"
   ]
  },
  {
   "cell_type": "code",
   "execution_count": 124,
   "metadata": {},
   "outputs": [],
   "source": [
    "yelp_price = {'price':[]}\n",
    "for i in range(len(yelp_location_data['businesses'])):\n",
    "    try:\n",
    "        yelp_price_data = yelp_location_data['businesses'][i]\n",
    "        yelp_price_key = yelp_price_data.keys()\n",
    "        if \"price\" in yelp_price_key:\n",
    "            yelp_price['price'].append(yelp_price_data['price'])\n",
    "        else:\n",
    "            yelp_price['price'].append(None)\n",
    "    except:\n",
    "        yelp_price['price'].append(None)"
   ]
  },
  {
   "cell_type": "code",
   "execution_count": 125,
   "metadata": {},
   "outputs": [],
   "source": [
    "yelp_price = pd.DataFrame(yelp_price).replace(\"$$$$\", \"$$$\")"
   ]
  },
  {
   "cell_type": "code",
   "execution_count": 121,
   "metadata": {},
   "outputs": [],
   "source": [
    "yelp_price_dummies = pd.get_dummies(yelp_price)"
   ]
  },
  {
   "cell_type": "markdown",
   "metadata": {},
   "source": [
    "Put your parsed results into a DataFrame"
   ]
  },
  {
   "cell_type": "code",
   "execution_count": null,
   "metadata": {},
   "outputs": [],
   "source": [
    "yelp_price"
   ]
  },
  {
   "cell_type": "code",
   "execution_count": 94,
   "metadata": {
    "collapsed": true,
    "jupyter": {
     "outputs_hidden": true
    },
    "tags": []
   },
   "outputs": [
    {
     "data": {
      "text/html": [
       "<div>\n",
       "<style scoped>\n",
       "    .dataframe tbody tr th:only-of-type {\n",
       "        vertical-align: middle;\n",
       "    }\n",
       "\n",
       "    .dataframe tbody tr th {\n",
       "        vertical-align: top;\n",
       "    }\n",
       "\n",
       "    .dataframe thead th {\n",
       "        text-align: right;\n",
       "    }\n",
       "</style>\n",
       "<table border=\"1\" class=\"dataframe\">\n",
       "  <thead>\n",
       "    <tr style=\"text-align: right;\">\n",
       "      <th></th>\n",
       "      <th>name</th>\n",
       "      <th>latitude</th>\n",
       "      <th>longitude</th>\n",
       "      <th>distance</th>\n",
       "      <th>rating</th>\n",
       "      <th>review_count</th>\n",
       "    </tr>\n",
       "  </thead>\n",
       "  <tbody>\n",
       "    <tr>\n",
       "      <th>0</th>\n",
       "      <td>Best Bagel &amp; Coffee</td>\n",
       "      <td>40.752268</td>\n",
       "      <td>-73.991086</td>\n",
       "      <td>1014.915199</td>\n",
       "      <td>4.5</td>\n",
       "      <td>4324</td>\n",
       "    </tr>\n",
       "    <tr>\n",
       "      <th>1</th>\n",
       "      <td>NY Pizza Suprema</td>\n",
       "      <td>40.750206</td>\n",
       "      <td>-73.995323</td>\n",
       "      <td>857.042178</td>\n",
       "      <td>4.0</td>\n",
       "      <td>2401</td>\n",
       "    </tr>\n",
       "    <tr>\n",
       "      <th>2</th>\n",
       "      <td>Bea</td>\n",
       "      <td>40.759197</td>\n",
       "      <td>-73.992336</td>\n",
       "      <td>899.779706</td>\n",
       "      <td>4.0</td>\n",
       "      <td>2798</td>\n",
       "    </tr>\n",
       "    <tr>\n",
       "      <th>3</th>\n",
       "      <td>Vessel</td>\n",
       "      <td>40.753818</td>\n",
       "      <td>-74.002152</td>\n",
       "      <td>236.100623</td>\n",
       "      <td>4.5</td>\n",
       "      <td>473</td>\n",
       "    </tr>\n",
       "    <tr>\n",
       "      <th>4</th>\n",
       "      <td>Scott's Pizza Tours</td>\n",
       "      <td>40.750244</td>\n",
       "      <td>-73.997025</td>\n",
       "      <td>353.258072</td>\n",
       "      <td>5.0</td>\n",
       "      <td>365</td>\n",
       "    </tr>\n",
       "    <tr>\n",
       "      <th>5</th>\n",
       "      <td>Pio Pio 8</td>\n",
       "      <td>40.760506</td>\n",
       "      <td>-73.994564</td>\n",
       "      <td>813.761250</td>\n",
       "      <td>4.0</td>\n",
       "      <td>2539</td>\n",
       "    </tr>\n",
       "    <tr>\n",
       "      <th>6</th>\n",
       "      <td>Chef's Table at Brooklyn Fare</td>\n",
       "      <td>40.756193</td>\n",
       "      <td>-73.996609</td>\n",
       "      <td>464.711975</td>\n",
       "      <td>4.5</td>\n",
       "      <td>634</td>\n",
       "    </tr>\n",
       "    <tr>\n",
       "      <th>7</th>\n",
       "      <td>Liberty Bagels Midtown</td>\n",
       "      <td>40.752550</td>\n",
       "      <td>-73.992490</td>\n",
       "      <td>893.894537</td>\n",
       "      <td>4.5</td>\n",
       "      <td>1181</td>\n",
       "    </tr>\n",
       "    <tr>\n",
       "      <th>8</th>\n",
       "      <td>Peak</td>\n",
       "      <td>40.754164</td>\n",
       "      <td>-74.000908</td>\n",
       "      <td>222.275439</td>\n",
       "      <td>4.5</td>\n",
       "      <td>347</td>\n",
       "    </tr>\n",
       "    <tr>\n",
       "      <th>9</th>\n",
       "      <td>Sergimmo Salumeria</td>\n",
       "      <td>40.754296</td>\n",
       "      <td>-73.995498</td>\n",
       "      <td>586.727361</td>\n",
       "      <td>4.0</td>\n",
       "      <td>717</td>\n",
       "    </tr>\n",
       "    <tr>\n",
       "      <th>10</th>\n",
       "      <td>Calle Dao - Chelsea</td>\n",
       "      <td>40.747693</td>\n",
       "      <td>-74.003507</td>\n",
       "      <td>924.653893</td>\n",
       "      <td>4.5</td>\n",
       "      <td>981</td>\n",
       "    </tr>\n",
       "    <tr>\n",
       "      <th>11</th>\n",
       "      <td>Tavola</td>\n",
       "      <td>40.755403</td>\n",
       "      <td>-73.994516</td>\n",
       "      <td>642.969237</td>\n",
       "      <td>4.0</td>\n",
       "      <td>1223</td>\n",
       "    </tr>\n",
       "    <tr>\n",
       "      <th>12</th>\n",
       "      <td>Friedmans</td>\n",
       "      <td>40.755311</td>\n",
       "      <td>-73.998389</td>\n",
       "      <td>321.685967</td>\n",
       "      <td>4.0</td>\n",
       "      <td>796</td>\n",
       "    </tr>\n",
       "    <tr>\n",
       "      <th>13</th>\n",
       "      <td>Capizzi</td>\n",
       "      <td>40.757440</td>\n",
       "      <td>-73.993570</td>\n",
       "      <td>733.269147</td>\n",
       "      <td>4.0</td>\n",
       "      <td>883</td>\n",
       "    </tr>\n",
       "    <tr>\n",
       "      <th>14</th>\n",
       "      <td>Go! Go! Curry!</td>\n",
       "      <td>40.754700</td>\n",
       "      <td>-73.991055</td>\n",
       "      <td>937.843817</td>\n",
       "      <td>4.0</td>\n",
       "      <td>1505</td>\n",
       "    </tr>\n",
       "    <tr>\n",
       "      <th>15</th>\n",
       "      <td>OBAO</td>\n",
       "      <td>40.760654</td>\n",
       "      <td>-73.991332</td>\n",
       "      <td>1048.654148</td>\n",
       "      <td>4.0</td>\n",
       "      <td>3749</td>\n",
       "    </tr>\n",
       "    <tr>\n",
       "      <th>16</th>\n",
       "      <td>Frying Pan</td>\n",
       "      <td>40.752117</td>\n",
       "      <td>-74.009002</td>\n",
       "      <td>719.208617</td>\n",
       "      <td>4.0</td>\n",
       "      <td>1619</td>\n",
       "    </tr>\n",
       "    <tr>\n",
       "      <th>17</th>\n",
       "      <td>Citizens Of Chelsea</td>\n",
       "      <td>40.748100</td>\n",
       "      <td>-74.000569</td>\n",
       "      <td>881.650432</td>\n",
       "      <td>4.0</td>\n",
       "      <td>968</td>\n",
       "    </tr>\n",
       "    <tr>\n",
       "      <th>18</th>\n",
       "      <td>Non Solo Piada</td>\n",
       "      <td>40.754140</td>\n",
       "      <td>-73.992450</td>\n",
       "      <td>828.468108</td>\n",
       "      <td>4.5</td>\n",
       "      <td>404</td>\n",
       "    </tr>\n",
       "    <tr>\n",
       "      <th>19</th>\n",
       "      <td>Schmackary's</td>\n",
       "      <td>40.760154</td>\n",
       "      <td>-73.990944</td>\n",
       "      <td>1051.115784</td>\n",
       "      <td>4.0</td>\n",
       "      <td>2187</td>\n",
       "    </tr>\n",
       "    <tr>\n",
       "      <th>20</th>\n",
       "      <td>Rudy's Bar &amp; Grill</td>\n",
       "      <td>40.760034</td>\n",
       "      <td>-73.991794</td>\n",
       "      <td>981.302017</td>\n",
       "      <td>4.0</td>\n",
       "      <td>1165</td>\n",
       "    </tr>\n",
       "    <tr>\n",
       "      <th>21</th>\n",
       "      <td>Buena Vista Restaurant &amp; Bar</td>\n",
       "      <td>40.756860</td>\n",
       "      <td>-73.993560</td>\n",
       "      <td>733.103051</td>\n",
       "      <td>4.5</td>\n",
       "      <td>327</td>\n",
       "    </tr>\n",
       "    <tr>\n",
       "      <th>22</th>\n",
       "      <td>Red Poke</td>\n",
       "      <td>40.758899</td>\n",
       "      <td>-73.991915</td>\n",
       "      <td>920.025190</td>\n",
       "      <td>4.5</td>\n",
       "      <td>618</td>\n",
       "    </tr>\n",
       "    <tr>\n",
       "      <th>23</th>\n",
       "      <td>Jun-Men Ramen Bar</td>\n",
       "      <td>40.748209</td>\n",
       "      <td>-74.000470</td>\n",
       "      <td>870.935077</td>\n",
       "      <td>4.0</td>\n",
       "      <td>697</td>\n",
       "    </tr>\n",
       "    <tr>\n",
       "      <th>24</th>\n",
       "      <td>Patiala Indian Grill</td>\n",
       "      <td>40.753470</td>\n",
       "      <td>-73.995951</td>\n",
       "      <td>587.571919</td>\n",
       "      <td>4.5</td>\n",
       "      <td>537</td>\n",
       "    </tr>\n",
       "    <tr>\n",
       "      <th>25</th>\n",
       "      <td>La Pulperia Hell's Kitchen</td>\n",
       "      <td>40.759922</td>\n",
       "      <td>-73.991841</td>\n",
       "      <td>972.053153</td>\n",
       "      <td>4.0</td>\n",
       "      <td>866</td>\n",
       "    </tr>\n",
       "    <tr>\n",
       "      <th>26</th>\n",
       "      <td>Angelina Bakery</td>\n",
       "      <td>40.754980</td>\n",
       "      <td>-73.991660</td>\n",
       "      <td>884.830415</td>\n",
       "      <td>4.5</td>\n",
       "      <td>503</td>\n",
       "    </tr>\n",
       "    <tr>\n",
       "      <th>27</th>\n",
       "      <td>IL Punto Ristorante</td>\n",
       "      <td>40.756144</td>\n",
       "      <td>-73.994619</td>\n",
       "      <td>631.930515</td>\n",
       "      <td>4.5</td>\n",
       "      <td>442</td>\n",
       "    </tr>\n",
       "    <tr>\n",
       "      <th>28</th>\n",
       "      <td>Porteno Restaurant</td>\n",
       "      <td>40.750457</td>\n",
       "      <td>-74.002386</td>\n",
       "      <td>610.239131</td>\n",
       "      <td>4.0</td>\n",
       "      <td>412</td>\n",
       "    </tr>\n",
       "    <tr>\n",
       "      <th>29</th>\n",
       "      <td>Vito's Slices and Ices</td>\n",
       "      <td>40.754500</td>\n",
       "      <td>-73.995280</td>\n",
       "      <td>605.629783</td>\n",
       "      <td>4.5</td>\n",
       "      <td>262</td>\n",
       "    </tr>\n",
       "    <tr>\n",
       "      <th>30</th>\n",
       "      <td>Kings of Kobe</td>\n",
       "      <td>40.761172</td>\n",
       "      <td>-74.000307</td>\n",
       "      <td>601.227951</td>\n",
       "      <td>4.5</td>\n",
       "      <td>404</td>\n",
       "    </tr>\n",
       "    <tr>\n",
       "      <th>31</th>\n",
       "      <td>Gallow Green</td>\n",
       "      <td>40.750887</td>\n",
       "      <td>-74.004125</td>\n",
       "      <td>586.946748</td>\n",
       "      <td>3.5</td>\n",
       "      <td>905</td>\n",
       "    </tr>\n",
       "    <tr>\n",
       "      <th>32</th>\n",
       "      <td>Old Country Coffee</td>\n",
       "      <td>40.754451</td>\n",
       "      <td>-73.998466</td>\n",
       "      <td>349.281368</td>\n",
       "      <td>4.5</td>\n",
       "      <td>259</td>\n",
       "    </tr>\n",
       "    <tr>\n",
       "      <th>33</th>\n",
       "      <td>Mercato</td>\n",
       "      <td>40.756190</td>\n",
       "      <td>-73.993700</td>\n",
       "      <td>711.418443</td>\n",
       "      <td>4.0</td>\n",
       "      <td>1026</td>\n",
       "    </tr>\n",
       "    <tr>\n",
       "      <th>34</th>\n",
       "      <td>Hudson River Park</td>\n",
       "      <td>40.753572</td>\n",
       "      <td>-74.007629</td>\n",
       "      <td>533.889163</td>\n",
       "      <td>4.5</td>\n",
       "      <td>180</td>\n",
       "    </tr>\n",
       "    <tr>\n",
       "      <th>35</th>\n",
       "      <td>Little Pie Company</td>\n",
       "      <td>40.759490</td>\n",
       "      <td>-73.993320</td>\n",
       "      <td>836.762401</td>\n",
       "      <td>4.0</td>\n",
       "      <td>787</td>\n",
       "    </tr>\n",
       "    <tr>\n",
       "      <th>36</th>\n",
       "      <td>Kochi</td>\n",
       "      <td>40.762010</td>\n",
       "      <td>-73.993510</td>\n",
       "      <td>993.061663</td>\n",
       "      <td>4.5</td>\n",
       "      <td>351</td>\n",
       "    </tr>\n",
       "    <tr>\n",
       "      <th>37</th>\n",
       "      <td>Friedman's</td>\n",
       "      <td>40.748390</td>\n",
       "      <td>-73.990620</td>\n",
       "      <td>1282.656799</td>\n",
       "      <td>4.0</td>\n",
       "      <td>2794</td>\n",
       "    </tr>\n",
       "    <tr>\n",
       "      <th>38</th>\n",
       "      <td>Ovest Pizzoteca by Luzzo's</td>\n",
       "      <td>40.750748</td>\n",
       "      <td>-74.003021</td>\n",
       "      <td>579.324011</td>\n",
       "      <td>4.0</td>\n",
       "      <td>591</td>\n",
       "    </tr>\n",
       "    <tr>\n",
       "      <th>39</th>\n",
       "      <td>The Marshal</td>\n",
       "      <td>40.761220</td>\n",
       "      <td>-73.993960</td>\n",
       "      <td>905.745465</td>\n",
       "      <td>4.0</td>\n",
       "      <td>827</td>\n",
       "    </tr>\n",
       "    <tr>\n",
       "      <th>40</th>\n",
       "      <td>Ci Siamo</td>\n",
       "      <td>40.752405</td>\n",
       "      <td>-73.998286</td>\n",
       "      <td>508.595090</td>\n",
       "      <td>4.5</td>\n",
       "      <td>227</td>\n",
       "    </tr>\n",
       "    <tr>\n",
       "      <th>41</th>\n",
       "      <td>Farida Central Asian Cuisine &amp; Grill - Midtown</td>\n",
       "      <td>40.755685</td>\n",
       "      <td>-73.994447</td>\n",
       "      <td>646.613723</td>\n",
       "      <td>4.0</td>\n",
       "      <td>453</td>\n",
       "    </tr>\n",
       "    <tr>\n",
       "      <th>42</th>\n",
       "      <td>District Tap House</td>\n",
       "      <td>40.754090</td>\n",
       "      <td>-73.990390</td>\n",
       "      <td>1014.996815</td>\n",
       "      <td>4.0</td>\n",
       "      <td>868</td>\n",
       "    </tr>\n",
       "    <tr>\n",
       "      <th>43</th>\n",
       "      <td>Tia Pol</td>\n",
       "      <td>40.747260</td>\n",
       "      <td>-74.004700</td>\n",
       "      <td>996.721160</td>\n",
       "      <td>4.0</td>\n",
       "      <td>733</td>\n",
       "    </tr>\n",
       "    <tr>\n",
       "      <th>44</th>\n",
       "      <td>Hold Fast Kitchen &amp; Spirits</td>\n",
       "      <td>40.760640</td>\n",
       "      <td>-73.990230</td>\n",
       "      <td>1123.657900</td>\n",
       "      <td>4.5</td>\n",
       "      <td>567</td>\n",
       "    </tr>\n",
       "    <tr>\n",
       "      <th>45</th>\n",
       "      <td>Sullivan Street Bakery</td>\n",
       "      <td>40.747322</td>\n",
       "      <td>-74.000469</td>\n",
       "      <td>968.422889</td>\n",
       "      <td>4.0</td>\n",
       "      <td>544</td>\n",
       "    </tr>\n",
       "    <tr>\n",
       "      <th>46</th>\n",
       "      <td>District Social</td>\n",
       "      <td>40.753574</td>\n",
       "      <td>-73.991432</td>\n",
       "      <td>932.791279</td>\n",
       "      <td>4.0</td>\n",
       "      <td>726</td>\n",
       "    </tr>\n",
       "    <tr>\n",
       "      <th>47</th>\n",
       "      <td>Death Ave</td>\n",
       "      <td>40.751051</td>\n",
       "      <td>-74.001948</td>\n",
       "      <td>544.001443</td>\n",
       "      <td>4.0</td>\n",
       "      <td>651</td>\n",
       "    </tr>\n",
       "    <tr>\n",
       "      <th>48</th>\n",
       "      <td>Kahlo</td>\n",
       "      <td>40.752092</td>\n",
       "      <td>-74.002676</td>\n",
       "      <td>430.640010</td>\n",
       "      <td>4.0</td>\n",
       "      <td>222</td>\n",
       "    </tr>\n",
       "    <tr>\n",
       "      <th>49</th>\n",
       "      <td>Kame</td>\n",
       "      <td>40.747488</td>\n",
       "      <td>-73.996649</td>\n",
       "      <td>1046.745170</td>\n",
       "      <td>4.5</td>\n",
       "      <td>702</td>\n",
       "    </tr>\n",
       "  </tbody>\n",
       "</table>\n",
       "</div>"
      ],
      "text/plain": [
       "                                              name   latitude  longitude  \\\n",
       "0                              Best Bagel & Coffee  40.752268 -73.991086   \n",
       "1                                 NY Pizza Suprema  40.750206 -73.995323   \n",
       "2                                              Bea  40.759197 -73.992336   \n",
       "3                                           Vessel  40.753818 -74.002152   \n",
       "4                              Scott's Pizza Tours  40.750244 -73.997025   \n",
       "5                                        Pio Pio 8  40.760506 -73.994564   \n",
       "6                    Chef's Table at Brooklyn Fare  40.756193 -73.996609   \n",
       "7                           Liberty Bagels Midtown  40.752550 -73.992490   \n",
       "8                                             Peak  40.754164 -74.000908   \n",
       "9                               Sergimmo Salumeria  40.754296 -73.995498   \n",
       "10                             Calle Dao - Chelsea  40.747693 -74.003507   \n",
       "11                                          Tavola  40.755403 -73.994516   \n",
       "12                                       Friedmans  40.755311 -73.998389   \n",
       "13                                         Capizzi  40.757440 -73.993570   \n",
       "14                                  Go! Go! Curry!  40.754700 -73.991055   \n",
       "15                                            OBAO  40.760654 -73.991332   \n",
       "16                                      Frying Pan  40.752117 -74.009002   \n",
       "17                             Citizens Of Chelsea  40.748100 -74.000569   \n",
       "18                                  Non Solo Piada  40.754140 -73.992450   \n",
       "19                                    Schmackary's  40.760154 -73.990944   \n",
       "20                              Rudy's Bar & Grill  40.760034 -73.991794   \n",
       "21                    Buena Vista Restaurant & Bar  40.756860 -73.993560   \n",
       "22                                        Red Poke  40.758899 -73.991915   \n",
       "23                               Jun-Men Ramen Bar  40.748209 -74.000470   \n",
       "24                            Patiala Indian Grill  40.753470 -73.995951   \n",
       "25                      La Pulperia Hell's Kitchen  40.759922 -73.991841   \n",
       "26                                 Angelina Bakery  40.754980 -73.991660   \n",
       "27                             IL Punto Ristorante  40.756144 -73.994619   \n",
       "28                              Porteno Restaurant  40.750457 -74.002386   \n",
       "29                          Vito's Slices and Ices  40.754500 -73.995280   \n",
       "30                                   Kings of Kobe  40.761172 -74.000307   \n",
       "31                                    Gallow Green  40.750887 -74.004125   \n",
       "32                              Old Country Coffee  40.754451 -73.998466   \n",
       "33                                         Mercato  40.756190 -73.993700   \n",
       "34                               Hudson River Park  40.753572 -74.007629   \n",
       "35                              Little Pie Company  40.759490 -73.993320   \n",
       "36                                           Kochi  40.762010 -73.993510   \n",
       "37                                      Friedman's  40.748390 -73.990620   \n",
       "38                      Ovest Pizzoteca by Luzzo's  40.750748 -74.003021   \n",
       "39                                     The Marshal  40.761220 -73.993960   \n",
       "40                                        Ci Siamo  40.752405 -73.998286   \n",
       "41  Farida Central Asian Cuisine & Grill - Midtown  40.755685 -73.994447   \n",
       "42                              District Tap House  40.754090 -73.990390   \n",
       "43                                         Tia Pol  40.747260 -74.004700   \n",
       "44                     Hold Fast Kitchen & Spirits  40.760640 -73.990230   \n",
       "45                          Sullivan Street Bakery  40.747322 -74.000469   \n",
       "46                                 District Social  40.753574 -73.991432   \n",
       "47                                       Death Ave  40.751051 -74.001948   \n",
       "48                                           Kahlo  40.752092 -74.002676   \n",
       "49                                            Kame  40.747488 -73.996649   \n",
       "\n",
       "       distance  rating  review_count  \n",
       "0   1014.915199     4.5          4324  \n",
       "1    857.042178     4.0          2401  \n",
       "2    899.779706     4.0          2798  \n",
       "3    236.100623     4.5           473  \n",
       "4    353.258072     5.0           365  \n",
       "5    813.761250     4.0          2539  \n",
       "6    464.711975     4.5           634  \n",
       "7    893.894537     4.5          1181  \n",
       "8    222.275439     4.5           347  \n",
       "9    586.727361     4.0           717  \n",
       "10   924.653893     4.5           981  \n",
       "11   642.969237     4.0          1223  \n",
       "12   321.685967     4.0           796  \n",
       "13   733.269147     4.0           883  \n",
       "14   937.843817     4.0          1505  \n",
       "15  1048.654148     4.0          3749  \n",
       "16   719.208617     4.0          1619  \n",
       "17   881.650432     4.0           968  \n",
       "18   828.468108     4.5           404  \n",
       "19  1051.115784     4.0          2187  \n",
       "20   981.302017     4.0          1165  \n",
       "21   733.103051     4.5           327  \n",
       "22   920.025190     4.5           618  \n",
       "23   870.935077     4.0           697  \n",
       "24   587.571919     4.5           537  \n",
       "25   972.053153     4.0           866  \n",
       "26   884.830415     4.5           503  \n",
       "27   631.930515     4.5           442  \n",
       "28   610.239131     4.0           412  \n",
       "29   605.629783     4.5           262  \n",
       "30   601.227951     4.5           404  \n",
       "31   586.946748     3.5           905  \n",
       "32   349.281368     4.5           259  \n",
       "33   711.418443     4.0          1026  \n",
       "34   533.889163     4.5           180  \n",
       "35   836.762401     4.0           787  \n",
       "36   993.061663     4.5           351  \n",
       "37  1282.656799     4.0          2794  \n",
       "38   579.324011     4.0           591  \n",
       "39   905.745465     4.0           827  \n",
       "40   508.595090     4.5           227  \n",
       "41   646.613723     4.0           453  \n",
       "42  1014.996815     4.0           868  \n",
       "43   996.721160     4.0           733  \n",
       "44  1123.657900     4.5           567  \n",
       "45   968.422889     4.0           544  \n",
       "46   932.791279     4.0           726  \n",
       "47   544.001443     4.0           651  \n",
       "48   430.640010     4.0           222  \n",
       "49  1046.745170     4.5           702  "
      ]
     },
     "execution_count": 94,
     "metadata": {},
     "output_type": "execute_result"
    }
   ],
   "source": [
    "yelp_restaurant_data"
   ]
  },
  {
   "cell_type": "code",
   "execution_count": 127,
   "metadata": {},
   "outputs": [],
   "source": [
    "yelp_restaurant_data_full = pd.concat([yelp_restaurant_data,yelp_price_dummies], axis = 1)"
   ]
  },
  {
   "cell_type": "code",
   "execution_count": 128,
   "metadata": {
    "collapsed": true,
    "jupyter": {
     "outputs_hidden": true
    },
    "tags": []
   },
   "outputs": [
    {
     "data": {
      "text/html": [
       "<div>\n",
       "<style scoped>\n",
       "    .dataframe tbody tr th:only-of-type {\n",
       "        vertical-align: middle;\n",
       "    }\n",
       "\n",
       "    .dataframe tbody tr th {\n",
       "        vertical-align: top;\n",
       "    }\n",
       "\n",
       "    .dataframe thead th {\n",
       "        text-align: right;\n",
       "    }\n",
       "</style>\n",
       "<table border=\"1\" class=\"dataframe\">\n",
       "  <thead>\n",
       "    <tr style=\"text-align: right;\">\n",
       "      <th></th>\n",
       "      <th>name</th>\n",
       "      <th>latitude</th>\n",
       "      <th>longitude</th>\n",
       "      <th>distance</th>\n",
       "      <th>rating</th>\n",
       "      <th>review_count</th>\n",
       "      <th>price_$</th>\n",
       "      <th>price_$$</th>\n",
       "      <th>price_$$$</th>\n",
       "    </tr>\n",
       "  </thead>\n",
       "  <tbody>\n",
       "    <tr>\n",
       "      <th>0</th>\n",
       "      <td>Best Bagel &amp; Coffee</td>\n",
       "      <td>40.752268</td>\n",
       "      <td>-73.991086</td>\n",
       "      <td>1014.915199</td>\n",
       "      <td>4.5</td>\n",
       "      <td>4324</td>\n",
       "      <td>1</td>\n",
       "      <td>0</td>\n",
       "      <td>0</td>\n",
       "    </tr>\n",
       "    <tr>\n",
       "      <th>1</th>\n",
       "      <td>NY Pizza Suprema</td>\n",
       "      <td>40.750206</td>\n",
       "      <td>-73.995323</td>\n",
       "      <td>857.042178</td>\n",
       "      <td>4.0</td>\n",
       "      <td>2401</td>\n",
       "      <td>1</td>\n",
       "      <td>0</td>\n",
       "      <td>0</td>\n",
       "    </tr>\n",
       "    <tr>\n",
       "      <th>2</th>\n",
       "      <td>Bea</td>\n",
       "      <td>40.759197</td>\n",
       "      <td>-73.992336</td>\n",
       "      <td>899.779706</td>\n",
       "      <td>4.0</td>\n",
       "      <td>2798</td>\n",
       "      <td>0</td>\n",
       "      <td>1</td>\n",
       "      <td>0</td>\n",
       "    </tr>\n",
       "    <tr>\n",
       "      <th>3</th>\n",
       "      <td>Vessel</td>\n",
       "      <td>40.753818</td>\n",
       "      <td>-74.002152</td>\n",
       "      <td>236.100623</td>\n",
       "      <td>4.5</td>\n",
       "      <td>473</td>\n",
       "      <td>0</td>\n",
       "      <td>0</td>\n",
       "      <td>0</td>\n",
       "    </tr>\n",
       "    <tr>\n",
       "      <th>4</th>\n",
       "      <td>Scott's Pizza Tours</td>\n",
       "      <td>40.750244</td>\n",
       "      <td>-73.997025</td>\n",
       "      <td>353.258072</td>\n",
       "      <td>5.0</td>\n",
       "      <td>365</td>\n",
       "      <td>0</td>\n",
       "      <td>1</td>\n",
       "      <td>0</td>\n",
       "    </tr>\n",
       "    <tr>\n",
       "      <th>5</th>\n",
       "      <td>Pio Pio 8</td>\n",
       "      <td>40.760506</td>\n",
       "      <td>-73.994564</td>\n",
       "      <td>813.761250</td>\n",
       "      <td>4.0</td>\n",
       "      <td>2539</td>\n",
       "      <td>0</td>\n",
       "      <td>0</td>\n",
       "      <td>1</td>\n",
       "    </tr>\n",
       "    <tr>\n",
       "      <th>6</th>\n",
       "      <td>Chef's Table at Brooklyn Fare</td>\n",
       "      <td>40.756193</td>\n",
       "      <td>-73.996609</td>\n",
       "      <td>464.711975</td>\n",
       "      <td>4.5</td>\n",
       "      <td>634</td>\n",
       "      <td>0</td>\n",
       "      <td>0</td>\n",
       "      <td>1</td>\n",
       "    </tr>\n",
       "    <tr>\n",
       "      <th>7</th>\n",
       "      <td>Liberty Bagels Midtown</td>\n",
       "      <td>40.752550</td>\n",
       "      <td>-73.992490</td>\n",
       "      <td>893.894537</td>\n",
       "      <td>4.5</td>\n",
       "      <td>1181</td>\n",
       "      <td>1</td>\n",
       "      <td>0</td>\n",
       "      <td>0</td>\n",
       "    </tr>\n",
       "    <tr>\n",
       "      <th>8</th>\n",
       "      <td>Peak</td>\n",
       "      <td>40.754164</td>\n",
       "      <td>-74.000908</td>\n",
       "      <td>222.275439</td>\n",
       "      <td>4.5</td>\n",
       "      <td>347</td>\n",
       "      <td>0</td>\n",
       "      <td>0</td>\n",
       "      <td>1</td>\n",
       "    </tr>\n",
       "    <tr>\n",
       "      <th>9</th>\n",
       "      <td>Sergimmo Salumeria</td>\n",
       "      <td>40.754296</td>\n",
       "      <td>-73.995498</td>\n",
       "      <td>586.727361</td>\n",
       "      <td>4.0</td>\n",
       "      <td>717</td>\n",
       "      <td>0</td>\n",
       "      <td>1</td>\n",
       "      <td>0</td>\n",
       "    </tr>\n",
       "    <tr>\n",
       "      <th>10</th>\n",
       "      <td>Calle Dao - Chelsea</td>\n",
       "      <td>40.747693</td>\n",
       "      <td>-74.003507</td>\n",
       "      <td>924.653893</td>\n",
       "      <td>4.5</td>\n",
       "      <td>981</td>\n",
       "      <td>0</td>\n",
       "      <td>1</td>\n",
       "      <td>0</td>\n",
       "    </tr>\n",
       "    <tr>\n",
       "      <th>11</th>\n",
       "      <td>Tavola</td>\n",
       "      <td>40.755403</td>\n",
       "      <td>-73.994516</td>\n",
       "      <td>642.969237</td>\n",
       "      <td>4.0</td>\n",
       "      <td>1223</td>\n",
       "      <td>0</td>\n",
       "      <td>1</td>\n",
       "      <td>0</td>\n",
       "    </tr>\n",
       "    <tr>\n",
       "      <th>12</th>\n",
       "      <td>Friedmans</td>\n",
       "      <td>40.755311</td>\n",
       "      <td>-73.998389</td>\n",
       "      <td>321.685967</td>\n",
       "      <td>4.0</td>\n",
       "      <td>796</td>\n",
       "      <td>0</td>\n",
       "      <td>1</td>\n",
       "      <td>0</td>\n",
       "    </tr>\n",
       "    <tr>\n",
       "      <th>13</th>\n",
       "      <td>Capizzi</td>\n",
       "      <td>40.757440</td>\n",
       "      <td>-73.993570</td>\n",
       "      <td>733.269147</td>\n",
       "      <td>4.0</td>\n",
       "      <td>883</td>\n",
       "      <td>0</td>\n",
       "      <td>1</td>\n",
       "      <td>0</td>\n",
       "    </tr>\n",
       "    <tr>\n",
       "      <th>14</th>\n",
       "      <td>Go! Go! Curry!</td>\n",
       "      <td>40.754700</td>\n",
       "      <td>-73.991055</td>\n",
       "      <td>937.843817</td>\n",
       "      <td>4.0</td>\n",
       "      <td>1505</td>\n",
       "      <td>0</td>\n",
       "      <td>1</td>\n",
       "      <td>0</td>\n",
       "    </tr>\n",
       "    <tr>\n",
       "      <th>15</th>\n",
       "      <td>OBAO</td>\n",
       "      <td>40.760654</td>\n",
       "      <td>-73.991332</td>\n",
       "      <td>1048.654148</td>\n",
       "      <td>4.0</td>\n",
       "      <td>3749</td>\n",
       "      <td>0</td>\n",
       "      <td>1</td>\n",
       "      <td>0</td>\n",
       "    </tr>\n",
       "    <tr>\n",
       "      <th>16</th>\n",
       "      <td>Frying Pan</td>\n",
       "      <td>40.752117</td>\n",
       "      <td>-74.009002</td>\n",
       "      <td>719.208617</td>\n",
       "      <td>4.0</td>\n",
       "      <td>1619</td>\n",
       "      <td>0</td>\n",
       "      <td>1</td>\n",
       "      <td>0</td>\n",
       "    </tr>\n",
       "    <tr>\n",
       "      <th>17</th>\n",
       "      <td>Citizens Of Chelsea</td>\n",
       "      <td>40.748100</td>\n",
       "      <td>-74.000569</td>\n",
       "      <td>881.650432</td>\n",
       "      <td>4.0</td>\n",
       "      <td>968</td>\n",
       "      <td>0</td>\n",
       "      <td>1</td>\n",
       "      <td>0</td>\n",
       "    </tr>\n",
       "    <tr>\n",
       "      <th>18</th>\n",
       "      <td>Non Solo Piada</td>\n",
       "      <td>40.754140</td>\n",
       "      <td>-73.992450</td>\n",
       "      <td>828.468108</td>\n",
       "      <td>4.5</td>\n",
       "      <td>404</td>\n",
       "      <td>0</td>\n",
       "      <td>1</td>\n",
       "      <td>0</td>\n",
       "    </tr>\n",
       "    <tr>\n",
       "      <th>19</th>\n",
       "      <td>Schmackary's</td>\n",
       "      <td>40.760154</td>\n",
       "      <td>-73.990944</td>\n",
       "      <td>1051.115784</td>\n",
       "      <td>4.0</td>\n",
       "      <td>2187</td>\n",
       "      <td>1</td>\n",
       "      <td>0</td>\n",
       "      <td>0</td>\n",
       "    </tr>\n",
       "    <tr>\n",
       "      <th>20</th>\n",
       "      <td>Rudy's Bar &amp; Grill</td>\n",
       "      <td>40.760034</td>\n",
       "      <td>-73.991794</td>\n",
       "      <td>981.302017</td>\n",
       "      <td>4.0</td>\n",
       "      <td>1165</td>\n",
       "      <td>1</td>\n",
       "      <td>0</td>\n",
       "      <td>0</td>\n",
       "    </tr>\n",
       "    <tr>\n",
       "      <th>21</th>\n",
       "      <td>Buena Vista Restaurant &amp; Bar</td>\n",
       "      <td>40.756860</td>\n",
       "      <td>-73.993560</td>\n",
       "      <td>733.103051</td>\n",
       "      <td>4.5</td>\n",
       "      <td>327</td>\n",
       "      <td>0</td>\n",
       "      <td>0</td>\n",
       "      <td>1</td>\n",
       "    </tr>\n",
       "    <tr>\n",
       "      <th>22</th>\n",
       "      <td>Red Poke</td>\n",
       "      <td>40.758899</td>\n",
       "      <td>-73.991915</td>\n",
       "      <td>920.025190</td>\n",
       "      <td>4.5</td>\n",
       "      <td>618</td>\n",
       "      <td>0</td>\n",
       "      <td>1</td>\n",
       "      <td>0</td>\n",
       "    </tr>\n",
       "    <tr>\n",
       "      <th>23</th>\n",
       "      <td>Jun-Men Ramen Bar</td>\n",
       "      <td>40.748209</td>\n",
       "      <td>-74.000470</td>\n",
       "      <td>870.935077</td>\n",
       "      <td>4.0</td>\n",
       "      <td>697</td>\n",
       "      <td>0</td>\n",
       "      <td>1</td>\n",
       "      <td>0</td>\n",
       "    </tr>\n",
       "    <tr>\n",
       "      <th>24</th>\n",
       "      <td>Patiala Indian Grill</td>\n",
       "      <td>40.753470</td>\n",
       "      <td>-73.995951</td>\n",
       "      <td>587.571919</td>\n",
       "      <td>4.5</td>\n",
       "      <td>537</td>\n",
       "      <td>0</td>\n",
       "      <td>1</td>\n",
       "      <td>0</td>\n",
       "    </tr>\n",
       "    <tr>\n",
       "      <th>25</th>\n",
       "      <td>La Pulperia Hell's Kitchen</td>\n",
       "      <td>40.759922</td>\n",
       "      <td>-73.991841</td>\n",
       "      <td>972.053153</td>\n",
       "      <td>4.0</td>\n",
       "      <td>866</td>\n",
       "      <td>0</td>\n",
       "      <td>0</td>\n",
       "      <td>1</td>\n",
       "    </tr>\n",
       "    <tr>\n",
       "      <th>26</th>\n",
       "      <td>Angelina Bakery</td>\n",
       "      <td>40.754980</td>\n",
       "      <td>-73.991660</td>\n",
       "      <td>884.830415</td>\n",
       "      <td>4.5</td>\n",
       "      <td>503</td>\n",
       "      <td>0</td>\n",
       "      <td>1</td>\n",
       "      <td>0</td>\n",
       "    </tr>\n",
       "    <tr>\n",
       "      <th>27</th>\n",
       "      <td>IL Punto Ristorante</td>\n",
       "      <td>40.756144</td>\n",
       "      <td>-73.994619</td>\n",
       "      <td>631.930515</td>\n",
       "      <td>4.5</td>\n",
       "      <td>442</td>\n",
       "      <td>0</td>\n",
       "      <td>0</td>\n",
       "      <td>1</td>\n",
       "    </tr>\n",
       "    <tr>\n",
       "      <th>28</th>\n",
       "      <td>Porteno Restaurant</td>\n",
       "      <td>40.750457</td>\n",
       "      <td>-74.002386</td>\n",
       "      <td>610.239131</td>\n",
       "      <td>4.0</td>\n",
       "      <td>412</td>\n",
       "      <td>0</td>\n",
       "      <td>0</td>\n",
       "      <td>1</td>\n",
       "    </tr>\n",
       "    <tr>\n",
       "      <th>29</th>\n",
       "      <td>Vito's Slices and Ices</td>\n",
       "      <td>40.754500</td>\n",
       "      <td>-73.995280</td>\n",
       "      <td>605.629783</td>\n",
       "      <td>4.5</td>\n",
       "      <td>262</td>\n",
       "      <td>1</td>\n",
       "      <td>0</td>\n",
       "      <td>0</td>\n",
       "    </tr>\n",
       "    <tr>\n",
       "      <th>30</th>\n",
       "      <td>Kings of Kobe</td>\n",
       "      <td>40.761172</td>\n",
       "      <td>-74.000307</td>\n",
       "      <td>601.227951</td>\n",
       "      <td>4.5</td>\n",
       "      <td>404</td>\n",
       "      <td>0</td>\n",
       "      <td>1</td>\n",
       "      <td>0</td>\n",
       "    </tr>\n",
       "    <tr>\n",
       "      <th>31</th>\n",
       "      <td>Gallow Green</td>\n",
       "      <td>40.750887</td>\n",
       "      <td>-74.004125</td>\n",
       "      <td>586.946748</td>\n",
       "      <td>3.5</td>\n",
       "      <td>905</td>\n",
       "      <td>0</td>\n",
       "      <td>0</td>\n",
       "      <td>1</td>\n",
       "    </tr>\n",
       "    <tr>\n",
       "      <th>32</th>\n",
       "      <td>Old Country Coffee</td>\n",
       "      <td>40.754451</td>\n",
       "      <td>-73.998466</td>\n",
       "      <td>349.281368</td>\n",
       "      <td>4.5</td>\n",
       "      <td>259</td>\n",
       "      <td>1</td>\n",
       "      <td>0</td>\n",
       "      <td>0</td>\n",
       "    </tr>\n",
       "    <tr>\n",
       "      <th>33</th>\n",
       "      <td>Mercato</td>\n",
       "      <td>40.756190</td>\n",
       "      <td>-73.993700</td>\n",
       "      <td>711.418443</td>\n",
       "      <td>4.0</td>\n",
       "      <td>1026</td>\n",
       "      <td>0</td>\n",
       "      <td>1</td>\n",
       "      <td>0</td>\n",
       "    </tr>\n",
       "    <tr>\n",
       "      <th>34</th>\n",
       "      <td>Hudson River Park</td>\n",
       "      <td>40.753572</td>\n",
       "      <td>-74.007629</td>\n",
       "      <td>533.889163</td>\n",
       "      <td>4.5</td>\n",
       "      <td>180</td>\n",
       "      <td>0</td>\n",
       "      <td>0</td>\n",
       "      <td>0</td>\n",
       "    </tr>\n",
       "    <tr>\n",
       "      <th>35</th>\n",
       "      <td>Little Pie Company</td>\n",
       "      <td>40.759490</td>\n",
       "      <td>-73.993320</td>\n",
       "      <td>836.762401</td>\n",
       "      <td>4.0</td>\n",
       "      <td>787</td>\n",
       "      <td>0</td>\n",
       "      <td>1</td>\n",
       "      <td>0</td>\n",
       "    </tr>\n",
       "    <tr>\n",
       "      <th>36</th>\n",
       "      <td>Kochi</td>\n",
       "      <td>40.762010</td>\n",
       "      <td>-73.993510</td>\n",
       "      <td>993.061663</td>\n",
       "      <td>4.5</td>\n",
       "      <td>351</td>\n",
       "      <td>0</td>\n",
       "      <td>0</td>\n",
       "      <td>1</td>\n",
       "    </tr>\n",
       "    <tr>\n",
       "      <th>37</th>\n",
       "      <td>Friedman's</td>\n",
       "      <td>40.748390</td>\n",
       "      <td>-73.990620</td>\n",
       "      <td>1282.656799</td>\n",
       "      <td>4.0</td>\n",
       "      <td>2794</td>\n",
       "      <td>0</td>\n",
       "      <td>1</td>\n",
       "      <td>0</td>\n",
       "    </tr>\n",
       "    <tr>\n",
       "      <th>38</th>\n",
       "      <td>Ovest Pizzoteca by Luzzo's</td>\n",
       "      <td>40.750748</td>\n",
       "      <td>-74.003021</td>\n",
       "      <td>579.324011</td>\n",
       "      <td>4.0</td>\n",
       "      <td>591</td>\n",
       "      <td>0</td>\n",
       "      <td>1</td>\n",
       "      <td>0</td>\n",
       "    </tr>\n",
       "    <tr>\n",
       "      <th>39</th>\n",
       "      <td>The Marshal</td>\n",
       "      <td>40.761220</td>\n",
       "      <td>-73.993960</td>\n",
       "      <td>905.745465</td>\n",
       "      <td>4.0</td>\n",
       "      <td>827</td>\n",
       "      <td>0</td>\n",
       "      <td>0</td>\n",
       "      <td>1</td>\n",
       "    </tr>\n",
       "    <tr>\n",
       "      <th>40</th>\n",
       "      <td>Ci Siamo</td>\n",
       "      <td>40.752405</td>\n",
       "      <td>-73.998286</td>\n",
       "      <td>508.595090</td>\n",
       "      <td>4.5</td>\n",
       "      <td>227</td>\n",
       "      <td>0</td>\n",
       "      <td>0</td>\n",
       "      <td>1</td>\n",
       "    </tr>\n",
       "    <tr>\n",
       "      <th>41</th>\n",
       "      <td>Farida Central Asian Cuisine &amp; Grill - Midtown</td>\n",
       "      <td>40.755685</td>\n",
       "      <td>-73.994447</td>\n",
       "      <td>646.613723</td>\n",
       "      <td>4.0</td>\n",
       "      <td>453</td>\n",
       "      <td>0</td>\n",
       "      <td>1</td>\n",
       "      <td>0</td>\n",
       "    </tr>\n",
       "    <tr>\n",
       "      <th>42</th>\n",
       "      <td>District Tap House</td>\n",
       "      <td>40.754090</td>\n",
       "      <td>-73.990390</td>\n",
       "      <td>1014.996815</td>\n",
       "      <td>4.0</td>\n",
       "      <td>868</td>\n",
       "      <td>0</td>\n",
       "      <td>1</td>\n",
       "      <td>0</td>\n",
       "    </tr>\n",
       "    <tr>\n",
       "      <th>43</th>\n",
       "      <td>Tia Pol</td>\n",
       "      <td>40.747260</td>\n",
       "      <td>-74.004700</td>\n",
       "      <td>996.721160</td>\n",
       "      <td>4.0</td>\n",
       "      <td>733</td>\n",
       "      <td>0</td>\n",
       "      <td>1</td>\n",
       "      <td>0</td>\n",
       "    </tr>\n",
       "    <tr>\n",
       "      <th>44</th>\n",
       "      <td>Hold Fast Kitchen &amp; Spirits</td>\n",
       "      <td>40.760640</td>\n",
       "      <td>-73.990230</td>\n",
       "      <td>1123.657900</td>\n",
       "      <td>4.5</td>\n",
       "      <td>567</td>\n",
       "      <td>0</td>\n",
       "      <td>1</td>\n",
       "      <td>0</td>\n",
       "    </tr>\n",
       "    <tr>\n",
       "      <th>45</th>\n",
       "      <td>Sullivan Street Bakery</td>\n",
       "      <td>40.747322</td>\n",
       "      <td>-74.000469</td>\n",
       "      <td>968.422889</td>\n",
       "      <td>4.0</td>\n",
       "      <td>544</td>\n",
       "      <td>0</td>\n",
       "      <td>1</td>\n",
       "      <td>0</td>\n",
       "    </tr>\n",
       "    <tr>\n",
       "      <th>46</th>\n",
       "      <td>District Social</td>\n",
       "      <td>40.753574</td>\n",
       "      <td>-73.991432</td>\n",
       "      <td>932.791279</td>\n",
       "      <td>4.0</td>\n",
       "      <td>726</td>\n",
       "      <td>0</td>\n",
       "      <td>1</td>\n",
       "      <td>0</td>\n",
       "    </tr>\n",
       "    <tr>\n",
       "      <th>47</th>\n",
       "      <td>Death Ave</td>\n",
       "      <td>40.751051</td>\n",
       "      <td>-74.001948</td>\n",
       "      <td>544.001443</td>\n",
       "      <td>4.0</td>\n",
       "      <td>651</td>\n",
       "      <td>0</td>\n",
       "      <td>1</td>\n",
       "      <td>0</td>\n",
       "    </tr>\n",
       "    <tr>\n",
       "      <th>48</th>\n",
       "      <td>Kahlo</td>\n",
       "      <td>40.752092</td>\n",
       "      <td>-74.002676</td>\n",
       "      <td>430.640010</td>\n",
       "      <td>4.0</td>\n",
       "      <td>222</td>\n",
       "      <td>0</td>\n",
       "      <td>0</td>\n",
       "      <td>1</td>\n",
       "    </tr>\n",
       "    <tr>\n",
       "      <th>49</th>\n",
       "      <td>Kame</td>\n",
       "      <td>40.747488</td>\n",
       "      <td>-73.996649</td>\n",
       "      <td>1046.745170</td>\n",
       "      <td>4.5</td>\n",
       "      <td>702</td>\n",
       "      <td>0</td>\n",
       "      <td>1</td>\n",
       "      <td>0</td>\n",
       "    </tr>\n",
       "  </tbody>\n",
       "</table>\n",
       "</div>"
      ],
      "text/plain": [
       "                                              name   latitude  longitude  \\\n",
       "0                              Best Bagel & Coffee  40.752268 -73.991086   \n",
       "1                                 NY Pizza Suprema  40.750206 -73.995323   \n",
       "2                                              Bea  40.759197 -73.992336   \n",
       "3                                           Vessel  40.753818 -74.002152   \n",
       "4                              Scott's Pizza Tours  40.750244 -73.997025   \n",
       "5                                        Pio Pio 8  40.760506 -73.994564   \n",
       "6                    Chef's Table at Brooklyn Fare  40.756193 -73.996609   \n",
       "7                           Liberty Bagels Midtown  40.752550 -73.992490   \n",
       "8                                             Peak  40.754164 -74.000908   \n",
       "9                               Sergimmo Salumeria  40.754296 -73.995498   \n",
       "10                             Calle Dao - Chelsea  40.747693 -74.003507   \n",
       "11                                          Tavola  40.755403 -73.994516   \n",
       "12                                       Friedmans  40.755311 -73.998389   \n",
       "13                                         Capizzi  40.757440 -73.993570   \n",
       "14                                  Go! Go! Curry!  40.754700 -73.991055   \n",
       "15                                            OBAO  40.760654 -73.991332   \n",
       "16                                      Frying Pan  40.752117 -74.009002   \n",
       "17                             Citizens Of Chelsea  40.748100 -74.000569   \n",
       "18                                  Non Solo Piada  40.754140 -73.992450   \n",
       "19                                    Schmackary's  40.760154 -73.990944   \n",
       "20                              Rudy's Bar & Grill  40.760034 -73.991794   \n",
       "21                    Buena Vista Restaurant & Bar  40.756860 -73.993560   \n",
       "22                                        Red Poke  40.758899 -73.991915   \n",
       "23                               Jun-Men Ramen Bar  40.748209 -74.000470   \n",
       "24                            Patiala Indian Grill  40.753470 -73.995951   \n",
       "25                      La Pulperia Hell's Kitchen  40.759922 -73.991841   \n",
       "26                                 Angelina Bakery  40.754980 -73.991660   \n",
       "27                             IL Punto Ristorante  40.756144 -73.994619   \n",
       "28                              Porteno Restaurant  40.750457 -74.002386   \n",
       "29                          Vito's Slices and Ices  40.754500 -73.995280   \n",
       "30                                   Kings of Kobe  40.761172 -74.000307   \n",
       "31                                    Gallow Green  40.750887 -74.004125   \n",
       "32                              Old Country Coffee  40.754451 -73.998466   \n",
       "33                                         Mercato  40.756190 -73.993700   \n",
       "34                               Hudson River Park  40.753572 -74.007629   \n",
       "35                              Little Pie Company  40.759490 -73.993320   \n",
       "36                                           Kochi  40.762010 -73.993510   \n",
       "37                                      Friedman's  40.748390 -73.990620   \n",
       "38                      Ovest Pizzoteca by Luzzo's  40.750748 -74.003021   \n",
       "39                                     The Marshal  40.761220 -73.993960   \n",
       "40                                        Ci Siamo  40.752405 -73.998286   \n",
       "41  Farida Central Asian Cuisine & Grill - Midtown  40.755685 -73.994447   \n",
       "42                              District Tap House  40.754090 -73.990390   \n",
       "43                                         Tia Pol  40.747260 -74.004700   \n",
       "44                     Hold Fast Kitchen & Spirits  40.760640 -73.990230   \n",
       "45                          Sullivan Street Bakery  40.747322 -74.000469   \n",
       "46                                 District Social  40.753574 -73.991432   \n",
       "47                                       Death Ave  40.751051 -74.001948   \n",
       "48                                           Kahlo  40.752092 -74.002676   \n",
       "49                                            Kame  40.747488 -73.996649   \n",
       "\n",
       "       distance  rating  review_count  price_$  price_$$  price_$$$  \n",
       "0   1014.915199     4.5          4324        1         0          0  \n",
       "1    857.042178     4.0          2401        1         0          0  \n",
       "2    899.779706     4.0          2798        0         1          0  \n",
       "3    236.100623     4.5           473        0         0          0  \n",
       "4    353.258072     5.0           365        0         1          0  \n",
       "5    813.761250     4.0          2539        0         0          1  \n",
       "6    464.711975     4.5           634        0         0          1  \n",
       "7    893.894537     4.5          1181        1         0          0  \n",
       "8    222.275439     4.5           347        0         0          1  \n",
       "9    586.727361     4.0           717        0         1          0  \n",
       "10   924.653893     4.5           981        0         1          0  \n",
       "11   642.969237     4.0          1223        0         1          0  \n",
       "12   321.685967     4.0           796        0         1          0  \n",
       "13   733.269147     4.0           883        0         1          0  \n",
       "14   937.843817     4.0          1505        0         1          0  \n",
       "15  1048.654148     4.0          3749        0         1          0  \n",
       "16   719.208617     4.0          1619        0         1          0  \n",
       "17   881.650432     4.0           968        0         1          0  \n",
       "18   828.468108     4.5           404        0         1          0  \n",
       "19  1051.115784     4.0          2187        1         0          0  \n",
       "20   981.302017     4.0          1165        1         0          0  \n",
       "21   733.103051     4.5           327        0         0          1  \n",
       "22   920.025190     4.5           618        0         1          0  \n",
       "23   870.935077     4.0           697        0         1          0  \n",
       "24   587.571919     4.5           537        0         1          0  \n",
       "25   972.053153     4.0           866        0         0          1  \n",
       "26   884.830415     4.5           503        0         1          0  \n",
       "27   631.930515     4.5           442        0         0          1  \n",
       "28   610.239131     4.0           412        0         0          1  \n",
       "29   605.629783     4.5           262        1         0          0  \n",
       "30   601.227951     4.5           404        0         1          0  \n",
       "31   586.946748     3.5           905        0         0          1  \n",
       "32   349.281368     4.5           259        1         0          0  \n",
       "33   711.418443     4.0          1026        0         1          0  \n",
       "34   533.889163     4.5           180        0         0          0  \n",
       "35   836.762401     4.0           787        0         1          0  \n",
       "36   993.061663     4.5           351        0         0          1  \n",
       "37  1282.656799     4.0          2794        0         1          0  \n",
       "38   579.324011     4.0           591        0         1          0  \n",
       "39   905.745465     4.0           827        0         0          1  \n",
       "40   508.595090     4.5           227        0         0          1  \n",
       "41   646.613723     4.0           453        0         1          0  \n",
       "42  1014.996815     4.0           868        0         1          0  \n",
       "43   996.721160     4.0           733        0         1          0  \n",
       "44  1123.657900     4.5           567        0         1          0  \n",
       "45   968.422889     4.0           544        0         1          0  \n",
       "46   932.791279     4.0           726        0         1          0  \n",
       "47   544.001443     4.0           651        0         1          0  \n",
       "48   430.640010     4.0           222        0         0          1  \n",
       "49  1046.745170     4.5           702        0         1          0  "
      ]
     },
     "execution_count": 128,
     "metadata": {},
     "output_type": "execute_result"
    }
   ],
   "source": [
    "yelp_restaurant_data_full"
   ]
  },
  {
   "cell_type": "markdown",
   "metadata": {},
   "source": []
  },
  {
   "cell_type": "markdown",
   "metadata": {},
   "source": [
    "# Comparing Results"
   ]
  },
  {
   "cell_type": "markdown",
   "metadata": {},
   "source": [
    "Which API provided you with more complete data? Provide an explanation. "
   ]
  },
  {
   "cell_type": "markdown",
   "metadata": {},
   "source": [
    "In my point of view, the Four Square API offers a more comprehensive and in-depth set of data than the Yelp API. While both APIs provide \"rating\" values for restaurants, the Four Square API also includes additional information such as amenities, features, service, and operating hours, making it more suitable for business research purposes. In comparison, the Yelp API provides less information, but it may be more beneficial for individuals seeking basic information such as phone numbers, addresses and reviews"
   ]
  },
  {
   "cell_type": "markdown",
   "metadata": {},
   "source": [
    "Get the top 10 restaurants according to their rating"
   ]
  },
  {
   "cell_type": "code",
   "execution_count": 169,
   "metadata": {},
   "outputs": [
    {
     "data": {
      "text/html": [
       "<div>\n",
       "<style scoped>\n",
       "    .dataframe tbody tr th:only-of-type {\n",
       "        vertical-align: middle;\n",
       "    }\n",
       "\n",
       "    .dataframe tbody tr th {\n",
       "        vertical-align: top;\n",
       "    }\n",
       "\n",
       "    .dataframe thead th {\n",
       "        text-align: right;\n",
       "    }\n",
       "</style>\n",
       "<table border=\"1\" class=\"dataframe\">\n",
       "  <thead>\n",
       "    <tr style=\"text-align: right;\">\n",
       "      <th></th>\n",
       "      <th>name</th>\n",
       "      <th>rating</th>\n",
       "      <th>popularity</th>\n",
       "    </tr>\n",
       "  </thead>\n",
       "  <tbody>\n",
       "    <tr>\n",
       "      <th>0</th>\n",
       "      <td>Pio Pio</td>\n",
       "      <td>8.9</td>\n",
       "      <td>0.993137</td>\n",
       "    </tr>\n",
       "    <tr>\n",
       "      <th>1</th>\n",
       "      <td>Zou Zou's</td>\n",
       "      <td>8.8</td>\n",
       "      <td>0.993325</td>\n",
       "    </tr>\n",
       "    <tr>\n",
       "      <th>2</th>\n",
       "      <td>Mémé Mediterranean</td>\n",
       "      <td>8.7</td>\n",
       "      <td>0.983807</td>\n",
       "    </tr>\n",
       "    <tr>\n",
       "      <th>3</th>\n",
       "      <td>Peak NYC</td>\n",
       "      <td>8.7</td>\n",
       "      <td>0.988624</td>\n",
       "    </tr>\n",
       "    <tr>\n",
       "      <th>4</th>\n",
       "      <td>Little Pie Company</td>\n",
       "      <td>8.6</td>\n",
       "      <td>0.989805</td>\n",
       "    </tr>\n",
       "    <tr>\n",
       "      <th>5</th>\n",
       "      <td>Vitos Slices And Ices</td>\n",
       "      <td>8.6</td>\n",
       "      <td>0.992408</td>\n",
       "    </tr>\n",
       "    <tr>\n",
       "      <th>6</th>\n",
       "      <td>Farida</td>\n",
       "      <td>8.5</td>\n",
       "      <td>0.975535</td>\n",
       "    </tr>\n",
       "    <tr>\n",
       "      <th>7</th>\n",
       "      <td>Chef's Table At Brooklyn Fare</td>\n",
       "      <td>8.5</td>\n",
       "      <td>0.983823</td>\n",
       "    </tr>\n",
       "    <tr>\n",
       "      <th>8</th>\n",
       "      <td>Sergimmo Salumeria</td>\n",
       "      <td>8.5</td>\n",
       "      <td>0.968288</td>\n",
       "    </tr>\n",
       "    <tr>\n",
       "      <th>9</th>\n",
       "      <td>Sweetgreen</td>\n",
       "      <td>8.5</td>\n",
       "      <td>0.997052</td>\n",
       "    </tr>\n",
       "  </tbody>\n",
       "</table>\n",
       "</div>"
      ],
      "text/plain": [
       "                            name  rating  popularity\n",
       "0                        Pio Pio     8.9    0.993137\n",
       "1                      Zou Zou's     8.8    0.993325\n",
       "2             Mémé Mediterranean     8.7    0.983807\n",
       "3                       Peak NYC     8.7    0.988624\n",
       "4             Little Pie Company     8.6    0.989805\n",
       "5          Vitos Slices And Ices     8.6    0.992408\n",
       "6                         Farida     8.5    0.975535\n",
       "7  Chef's Table At Brooklyn Fare     8.5    0.983823\n",
       "8             Sergimmo Salumeria     8.5    0.968288\n",
       "9                     Sweetgreen     8.5    0.997052"
      ]
     },
     "execution_count": 169,
     "metadata": {},
     "output_type": "execute_result"
    }
   ],
   "source": [
    "# top 10 restauranst according to their rating base on Four Square API data\n",
    "list_drop_columns = ['distance','f_latitude','f_longitude','break_fast_True','brunch_False','brunch_True','lunch_True','dinner_False','dinner_True', 'happy_hour_False','happy_hour_True']\n",
    "four_restaurant_data_full.sort_values(['rating'], ascending = False).drop(columns = list_drop_columns).reset_index(drop = True).head(10)"
   ]
  },
  {
   "cell_type": "code",
   "execution_count": 170,
   "metadata": {},
   "outputs": [
    {
     "data": {
      "text/html": [
       "<div>\n",
       "<style scoped>\n",
       "    .dataframe tbody tr th:only-of-type {\n",
       "        vertical-align: middle;\n",
       "    }\n",
       "\n",
       "    .dataframe tbody tr th {\n",
       "        vertical-align: top;\n",
       "    }\n",
       "\n",
       "    .dataframe thead th {\n",
       "        text-align: right;\n",
       "    }\n",
       "</style>\n",
       "<table border=\"1\" class=\"dataframe\">\n",
       "  <thead>\n",
       "    <tr style=\"text-align: right;\">\n",
       "      <th></th>\n",
       "      <th>name</th>\n",
       "      <th>rating</th>\n",
       "      <th>review_count</th>\n",
       "    </tr>\n",
       "  </thead>\n",
       "  <tbody>\n",
       "    <tr>\n",
       "      <th>0</th>\n",
       "      <td>Scott's Pizza Tours</td>\n",
       "      <td>5.0</td>\n",
       "      <td>365</td>\n",
       "    </tr>\n",
       "    <tr>\n",
       "      <th>1</th>\n",
       "      <td>Best Bagel &amp; Coffee</td>\n",
       "      <td>4.5</td>\n",
       "      <td>4324</td>\n",
       "    </tr>\n",
       "    <tr>\n",
       "      <th>2</th>\n",
       "      <td>Non Solo Piada</td>\n",
       "      <td>4.5</td>\n",
       "      <td>404</td>\n",
       "    </tr>\n",
       "    <tr>\n",
       "      <th>3</th>\n",
       "      <td>Hold Fast Kitchen &amp; Spirits</td>\n",
       "      <td>4.5</td>\n",
       "      <td>567</td>\n",
       "    </tr>\n",
       "    <tr>\n",
       "      <th>4</th>\n",
       "      <td>Ci Siamo</td>\n",
       "      <td>4.5</td>\n",
       "      <td>227</td>\n",
       "    </tr>\n",
       "    <tr>\n",
       "      <th>5</th>\n",
       "      <td>Kochi</td>\n",
       "      <td>4.5</td>\n",
       "      <td>351</td>\n",
       "    </tr>\n",
       "    <tr>\n",
       "      <th>6</th>\n",
       "      <td>Hudson River Park</td>\n",
       "      <td>4.5</td>\n",
       "      <td>180</td>\n",
       "    </tr>\n",
       "    <tr>\n",
       "      <th>7</th>\n",
       "      <td>Old Country Coffee</td>\n",
       "      <td>4.5</td>\n",
       "      <td>259</td>\n",
       "    </tr>\n",
       "    <tr>\n",
       "      <th>8</th>\n",
       "      <td>Kings of Kobe</td>\n",
       "      <td>4.5</td>\n",
       "      <td>404</td>\n",
       "    </tr>\n",
       "    <tr>\n",
       "      <th>9</th>\n",
       "      <td>Vito's Slices and Ices</td>\n",
       "      <td>4.5</td>\n",
       "      <td>262</td>\n",
       "    </tr>\n",
       "  </tbody>\n",
       "</table>\n",
       "</div>"
      ],
      "text/plain": [
       "                          name  rating  review_count\n",
       "0          Scott's Pizza Tours     5.0           365\n",
       "1          Best Bagel & Coffee     4.5          4324\n",
       "2               Non Solo Piada     4.5           404\n",
       "3  Hold Fast Kitchen & Spirits     4.5           567\n",
       "4                     Ci Siamo     4.5           227\n",
       "5                        Kochi     4.5           351\n",
       "6            Hudson River Park     4.5           180\n",
       "7           Old Country Coffee     4.5           259\n",
       "8                Kings of Kobe     4.5           404\n",
       "9       Vito's Slices and Ices     4.5           262"
      ]
     },
     "execution_count": 170,
     "metadata": {},
     "output_type": "execute_result"
    }
   ],
   "source": [
    "# top 10 restauranst according to their rating base on Yelp API data\n",
    "yelp_list_drop_columns = ['latitude', 'longitude', 'distance', 'price_$', 'price_$$', 'price_$$$']\n",
    "yelp_restaurant_data_full.sort_values(['rating'], ascending = False).drop(columns = yelp_list_drop_columns).reset_index(drop = True).head(10)"
   ]
  },
  {
   "cell_type": "code",
   "execution_count": null,
   "metadata": {},
   "outputs": [],
   "source": []
  }
 ],
 "metadata": {
  "kernelspec": {
   "display_name": "Python 3 (ipykernel)",
   "language": "python",
   "name": "python3"
  },
  "language_info": {
   "codemirror_mode": {
    "name": "ipython",
    "version": 3
   },
   "file_extension": ".py",
   "mimetype": "text/x-python",
   "name": "python",
   "nbconvert_exporter": "python",
   "pygments_lexer": "ipython3",
   "version": "3.10.6"
  }
 },
 "nbformat": 4,
 "nbformat_minor": 4
}
