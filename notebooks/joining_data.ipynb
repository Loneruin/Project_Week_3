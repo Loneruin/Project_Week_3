{
 "cells": [
  {
   "cell_type": "markdown",
   "metadata": {},
   "source": [
    "Join the data from Part 1 with the data from Part 2 to create a new dataframe."
   ]
  },
  {
   "cell_type": "markdown",
   "metadata": {},
   "source": [
    "* Import Python Built-in"
   ]
  },
  {
   "cell_type": "code",
   "execution_count": 1,
   "metadata": {},
   "outputs": [],
   "source": [
    "import statsmodels.api as sm\n",
    "import numpy as np\n",
    "import pandas as pd\n",
    "import matplotlib.pyplot as plt\n",
    "import seaborn as sns\n",
    "from scipy import stats\n",
    "import sqlite3\n",
    "from sqlite3 import Error"
   ]
  },
  {
   "cell_type": "markdown",
   "metadata": {},
   "source": [
    "* Import csv file from city-bike API and four-square API"
   ]
  },
  {
   "cell_type": "code",
   "execution_count": 2,
   "metadata": {},
   "outputs": [],
   "source": [
    "nyc_bike = pd.read_csv('nyc_bike.csv')\n",
    "four_square_data = pd.read_csv('four_square_data.csv')"
   ]
  },
  {
   "cell_type": "markdown",
   "metadata": {},
   "source": [
    "* Join both data together, drop categories variable temperary"
   ]
  },
  {
   "cell_type": "code",
   "execution_count": 3,
   "metadata": {},
   "outputs": [],
   "source": [
    "drop_columns = ['Unnamed: 0','longitude', 'latitude','f_longitude','f_latitude', 'break_fast_True','brunch_False','brunch_True','lunch_True','dinner_False','dinner_True', 'happy_hour_False','happy_hour_True']\n",
    "join_data_original = pd.concat([four_square_data,nyc_bike], axis = 1).drop(columns = ['Unnamed: 0'])\n",
    "join_data = pd.concat([four_square_data,nyc_bike], axis = 1).drop(columns = drop_columns)"
   ]
  },
  {
   "cell_type": "code",
   "execution_count": 4,
   "metadata": {},
   "outputs": [],
   "source": [
    "# export to csv file\n",
    "join_data_original.to_csv(\"join_data_original.csv\", index = False)"
   ]
  },
  {
   "cell_type": "code",
   "execution_count": 5,
   "metadata": {},
   "outputs": [
    {
     "data": {
      "text/html": [
       "<div>\n",
       "<style scoped>\n",
       "    .dataframe tbody tr th:only-of-type {\n",
       "        vertical-align: middle;\n",
       "    }\n",
       "\n",
       "    .dataframe tbody tr th {\n",
       "        vertical-align: top;\n",
       "    }\n",
       "\n",
       "    .dataframe thead th {\n",
       "        text-align: right;\n",
       "    }\n",
       "</style>\n",
       "<table border=\"1\" class=\"dataframe\">\n",
       "  <thead>\n",
       "    <tr style=\"text-align: right;\">\n",
       "      <th></th>\n",
       "      <th>name</th>\n",
       "      <th>distance</th>\n",
       "      <th>rating</th>\n",
       "      <th>popularity</th>\n",
       "      <th>empty_slots</th>\n",
       "      <th>bikes</th>\n",
       "    </tr>\n",
       "  </thead>\n",
       "  <tbody>\n",
       "    <tr>\n",
       "      <th>0</th>\n",
       "      <td>Electric Lemon</td>\n",
       "      <td>146</td>\n",
       "      <td>7.3</td>\n",
       "      <td>0.996228</td>\n",
       "      <td>30</td>\n",
       "      <td>2</td>\n",
       "    </tr>\n",
       "    <tr>\n",
       "      <th>1</th>\n",
       "      <td>Peak NYC</td>\n",
       "      <td>239</td>\n",
       "      <td>8.7</td>\n",
       "      <td>0.988624</td>\n",
       "      <td>69</td>\n",
       "      <td>2</td>\n",
       "    </tr>\n",
       "    <tr>\n",
       "      <th>2</th>\n",
       "      <td>Friedman's</td>\n",
       "      <td>312</td>\n",
       "      <td>8.5</td>\n",
       "      <td>0.995252</td>\n",
       "      <td>21</td>\n",
       "      <td>0</td>\n",
       "    </tr>\n",
       "    <tr>\n",
       "      <th>3</th>\n",
       "      <td>Estiatorio Milos</td>\n",
       "      <td>258</td>\n",
       "      <td>7.5</td>\n",
       "      <td>0.993128</td>\n",
       "      <td>18</td>\n",
       "      <td>6</td>\n",
       "    </tr>\n",
       "    <tr>\n",
       "      <th>4</th>\n",
       "      <td>Shake Shack</td>\n",
       "      <td>211</td>\n",
       "      <td>7.0</td>\n",
       "      <td>0.979989</td>\n",
       "      <td>22</td>\n",
       "      <td>8</td>\n",
       "    </tr>\n",
       "    <tr>\n",
       "      <th>5</th>\n",
       "      <td>Hudson Yards Grill</td>\n",
       "      <td>246</td>\n",
       "      <td>7.2</td>\n",
       "      <td>0.981187</td>\n",
       "      <td>34</td>\n",
       "      <td>1</td>\n",
       "    </tr>\n",
       "    <tr>\n",
       "      <th>6</th>\n",
       "      <td>Sweetgreen</td>\n",
       "      <td>369</td>\n",
       "      <td>8.5</td>\n",
       "      <td>0.997052</td>\n",
       "      <td>3</td>\n",
       "      <td>19</td>\n",
       "    </tr>\n",
       "    <tr>\n",
       "      <th>7</th>\n",
       "      <td>Mercado Little Spain</td>\n",
       "      <td>356</td>\n",
       "      <td>8.1</td>\n",
       "      <td>0.999178</td>\n",
       "      <td>1</td>\n",
       "      <td>8</td>\n",
       "    </tr>\n",
       "    <tr>\n",
       "      <th>8</th>\n",
       "      <td>La Barra</td>\n",
       "      <td>345</td>\n",
       "      <td>7.8</td>\n",
       "      <td>0.989534</td>\n",
       "      <td>15</td>\n",
       "      <td>8</td>\n",
       "    </tr>\n",
       "    <tr>\n",
       "      <th>9</th>\n",
       "      <td>Bluestone Lane</td>\n",
       "      <td>296</td>\n",
       "      <td>7.2</td>\n",
       "      <td>0.980106</td>\n",
       "      <td>19</td>\n",
       "      <td>3</td>\n",
       "    </tr>\n",
       "    <tr>\n",
       "      <th>10</th>\n",
       "      <td>Kyma Hudson</td>\n",
       "      <td>341</td>\n",
       "      <td>7.6</td>\n",
       "      <td>0.995948</td>\n",
       "      <td>18</td>\n",
       "      <td>11</td>\n",
       "    </tr>\n",
       "    <tr>\n",
       "      <th>11</th>\n",
       "      <td>Via Trenta Pizzoteca</td>\n",
       "      <td>332</td>\n",
       "      <td>7.3</td>\n",
       "      <td>0.941586</td>\n",
       "      <td>3</td>\n",
       "      <td>21</td>\n",
       "    </tr>\n",
       "    <tr>\n",
       "      <th>12</th>\n",
       "      <td>Zou Zou's</td>\n",
       "      <td>452</td>\n",
       "      <td>8.8</td>\n",
       "      <td>0.993325</td>\n",
       "      <td>1</td>\n",
       "      <td>77</td>\n",
       "    </tr>\n",
       "    <tr>\n",
       "      <th>13</th>\n",
       "      <td>Miznon</td>\n",
       "      <td>290</td>\n",
       "      <td>6.8</td>\n",
       "      <td>0.969749</td>\n",
       "      <td>17</td>\n",
       "      <td>22</td>\n",
       "    </tr>\n",
       "    <tr>\n",
       "      <th>14</th>\n",
       "      <td>Hudson Food Caters</td>\n",
       "      <td>347</td>\n",
       "      <td>7.2</td>\n",
       "      <td>0.990242</td>\n",
       "      <td>15</td>\n",
       "      <td>2</td>\n",
       "    </tr>\n",
       "    <tr>\n",
       "      <th>15</th>\n",
       "      <td>Jajaja Plantas Mexicana</td>\n",
       "      <td>440</td>\n",
       "      <td>8.0</td>\n",
       "      <td>0.989798</td>\n",
       "      <td>8</td>\n",
       "      <td>14</td>\n",
       "    </tr>\n",
       "    <tr>\n",
       "      <th>16</th>\n",
       "      <td>Finn’s Bagels</td>\n",
       "      <td>359</td>\n",
       "      <td>7.2</td>\n",
       "      <td>0.997960</td>\n",
       "      <td>46</td>\n",
       "      <td>12</td>\n",
       "    </tr>\n",
       "    <tr>\n",
       "      <th>17</th>\n",
       "      <td>Kahlo</td>\n",
       "      <td>402</td>\n",
       "      <td>7.5</td>\n",
       "      <td>0.982859</td>\n",
       "      <td>18</td>\n",
       "      <td>6</td>\n",
       "    </tr>\n",
       "    <tr>\n",
       "      <th>18</th>\n",
       "      <td>Chef's Table At Brooklyn Fare</td>\n",
       "      <td>484</td>\n",
       "      <td>8.5</td>\n",
       "      <td>0.983823</td>\n",
       "      <td>1</td>\n",
       "      <td>35</td>\n",
       "    </tr>\n",
       "    <tr>\n",
       "      <th>19</th>\n",
       "      <td>Spanish Diner</td>\n",
       "      <td>392</td>\n",
       "      <td>7.4</td>\n",
       "      <td>0.995812</td>\n",
       "      <td>42</td>\n",
       "      <td>5</td>\n",
       "    </tr>\n",
       "    <tr>\n",
       "      <th>20</th>\n",
       "      <td>Daily Provisions</td>\n",
       "      <td>463</td>\n",
       "      <td>8.0</td>\n",
       "      <td>0.990363</td>\n",
       "      <td>51</td>\n",
       "      <td>2</td>\n",
       "    </tr>\n",
       "    <tr>\n",
       "      <th>21</th>\n",
       "      <td>Umami Burger</td>\n",
       "      <td>359</td>\n",
       "      <td>7.0</td>\n",
       "      <td>0.910302</td>\n",
       "      <td>3</td>\n",
       "      <td>20</td>\n",
       "    </tr>\n",
       "    <tr>\n",
       "      <th>22</th>\n",
       "      <td>Mar</td>\n",
       "      <td>360</td>\n",
       "      <td>7.0</td>\n",
       "      <td>0.775850</td>\n",
       "      <td>30</td>\n",
       "      <td>5</td>\n",
       "    </tr>\n",
       "    <tr>\n",
       "      <th>23</th>\n",
       "      <td>Whitmans</td>\n",
       "      <td>469</td>\n",
       "      <td>7.7</td>\n",
       "      <td>0.995299</td>\n",
       "      <td>7</td>\n",
       "      <td>17</td>\n",
       "    </tr>\n",
       "    <tr>\n",
       "      <th>24</th>\n",
       "      <td>Vitos Slices And Ices</td>\n",
       "      <td>594</td>\n",
       "      <td>8.6</td>\n",
       "      <td>0.992408</td>\n",
       "      <td>27</td>\n",
       "      <td>11</td>\n",
       "    </tr>\n",
       "    <tr>\n",
       "      <th>25</th>\n",
       "      <td>Sergimmo Salumeria</td>\n",
       "      <td>589</td>\n",
       "      <td>8.5</td>\n",
       "      <td>0.968288</td>\n",
       "      <td>18</td>\n",
       "      <td>7</td>\n",
       "    </tr>\n",
       "    <tr>\n",
       "      <th>26</th>\n",
       "      <td>H-Yard Gourmet Deli</td>\n",
       "      <td>576</td>\n",
       "      <td>7.8</td>\n",
       "      <td>0.989933</td>\n",
       "      <td>4</td>\n",
       "      <td>16</td>\n",
       "    </tr>\n",
       "    <tr>\n",
       "      <th>27</th>\n",
       "      <td>Farida</td>\n",
       "      <td>630</td>\n",
       "      <td>8.5</td>\n",
       "      <td>0.975535</td>\n",
       "      <td>7</td>\n",
       "      <td>27</td>\n",
       "    </tr>\n",
       "    <tr>\n",
       "      <th>28</th>\n",
       "      <td>Tavola</td>\n",
       "      <td>620</td>\n",
       "      <td>8.3</td>\n",
       "      <td>0.988743</td>\n",
       "      <td>12</td>\n",
       "      <td>17</td>\n",
       "    </tr>\n",
       "    <tr>\n",
       "      <th>29</th>\n",
       "      <td>Porteno Restaurant</td>\n",
       "      <td>611</td>\n",
       "      <td>8.2</td>\n",
       "      <td>0.977951</td>\n",
       "      <td>16</td>\n",
       "      <td>71</td>\n",
       "    </tr>\n",
       "    <tr>\n",
       "      <th>30</th>\n",
       "      <td>Il Piccolo Ristoro</td>\n",
       "      <td>557</td>\n",
       "      <td>7.6</td>\n",
       "      <td>0.976559</td>\n",
       "      <td>5</td>\n",
       "      <td>13</td>\n",
       "    </tr>\n",
       "    <tr>\n",
       "      <th>31</th>\n",
       "      <td>Uncle Jack's Steakhouse - Westside</td>\n",
       "      <td>574</td>\n",
       "      <td>7.7</td>\n",
       "      <td>0.977690</td>\n",
       "      <td>7</td>\n",
       "      <td>12</td>\n",
       "    </tr>\n",
       "    <tr>\n",
       "      <th>32</th>\n",
       "      <td>Zoob Zib</td>\n",
       "      <td>573</td>\n",
       "      <td>7.6</td>\n",
       "      <td>0.983132</td>\n",
       "      <td>2</td>\n",
       "      <td>27</td>\n",
       "    </tr>\n",
       "    <tr>\n",
       "      <th>33</th>\n",
       "      <td>Aiyara Thai</td>\n",
       "      <td>627</td>\n",
       "      <td>7.7</td>\n",
       "      <td>0.968694</td>\n",
       "      <td>9</td>\n",
       "      <td>11</td>\n",
       "    </tr>\n",
       "    <tr>\n",
       "      <th>34</th>\n",
       "      <td>Il Punto Ristorante</td>\n",
       "      <td>633</td>\n",
       "      <td>7.7</td>\n",
       "      <td>0.984415</td>\n",
       "      <td>15</td>\n",
       "      <td>7</td>\n",
       "    </tr>\n",
       "    <tr>\n",
       "      <th>35</th>\n",
       "      <td>Avocaderia</td>\n",
       "      <td>525</td>\n",
       "      <td>6.9</td>\n",
       "      <td>0.944622</td>\n",
       "      <td>3</td>\n",
       "      <td>20</td>\n",
       "    </tr>\n",
       "    <tr>\n",
       "      <th>36</th>\n",
       "      <td>Death Ave</td>\n",
       "      <td>533</td>\n",
       "      <td>6.8</td>\n",
       "      <td>0.994710</td>\n",
       "      <td>4</td>\n",
       "      <td>21</td>\n",
       "    </tr>\n",
       "    <tr>\n",
       "      <th>37</th>\n",
       "      <td>Skylight Diner</td>\n",
       "      <td>530</td>\n",
       "      <td>6.8</td>\n",
       "      <td>0.995950</td>\n",
       "      <td>23</td>\n",
       "      <td>5</td>\n",
       "    </tr>\n",
       "    <tr>\n",
       "      <th>38</th>\n",
       "      <td>Patiala</td>\n",
       "      <td>579</td>\n",
       "      <td>7.0</td>\n",
       "      <td>0.993240</td>\n",
       "      <td>57</td>\n",
       "      <td>1</td>\n",
       "    </tr>\n",
       "    <tr>\n",
       "      <th>39</th>\n",
       "      <td>Kashmir 9</td>\n",
       "      <td>601</td>\n",
       "      <td>7.2</td>\n",
       "      <td>0.940491</td>\n",
       "      <td>34</td>\n",
       "      <td>3</td>\n",
       "    </tr>\n",
       "    <tr>\n",
       "      <th>40</th>\n",
       "      <td>North River Lobster Company</td>\n",
       "      <td>683</td>\n",
       "      <td>7.5</td>\n",
       "      <td>0.981400</td>\n",
       "      <td>41</td>\n",
       "      <td>4</td>\n",
       "    </tr>\n",
       "    <tr>\n",
       "      <th>41</th>\n",
       "      <td>Pio Pio</td>\n",
       "      <td>812</td>\n",
       "      <td>8.9</td>\n",
       "      <td>0.993137</td>\n",
       "      <td>14</td>\n",
       "      <td>3</td>\n",
       "    </tr>\n",
       "    <tr>\n",
       "      <th>42</th>\n",
       "      <td>Bagels &amp; More</td>\n",
       "      <td>604</td>\n",
       "      <td>6.9</td>\n",
       "      <td>0.989612</td>\n",
       "      <td>16</td>\n",
       "      <td>2</td>\n",
       "    </tr>\n",
       "    <tr>\n",
       "      <th>43</th>\n",
       "      <td>Aura Thai</td>\n",
       "      <td>564</td>\n",
       "      <td>6.6</td>\n",
       "      <td>0.031812</td>\n",
       "      <td>5</td>\n",
       "      <td>12</td>\n",
       "    </tr>\n",
       "    <tr>\n",
       "      <th>44</th>\n",
       "      <td>Mercato</td>\n",
       "      <td>725</td>\n",
       "      <td>7.7</td>\n",
       "      <td>0.979802</td>\n",
       "      <td>5</td>\n",
       "      <td>19</td>\n",
       "    </tr>\n",
       "    <tr>\n",
       "      <th>45</th>\n",
       "      <td>Chez Josephine</td>\n",
       "      <td>770</td>\n",
       "      <td>7.9</td>\n",
       "      <td>0.979571</td>\n",
       "      <td>13</td>\n",
       "      <td>8</td>\n",
       "    </tr>\n",
       "    <tr>\n",
       "      <th>46</th>\n",
       "      <td>Mémé Mediterranean</td>\n",
       "      <td>839</td>\n",
       "      <td>8.7</td>\n",
       "      <td>0.983807</td>\n",
       "      <td>18</td>\n",
       "      <td>3</td>\n",
       "    </tr>\n",
       "    <tr>\n",
       "      <th>47</th>\n",
       "      <td>Unidentified Flying Chicken Hell's Kitchen</td>\n",
       "      <td>704</td>\n",
       "      <td>7.3</td>\n",
       "      <td>0.925507</td>\n",
       "      <td>19</td>\n",
       "      <td>3</td>\n",
       "    </tr>\n",
       "    <tr>\n",
       "      <th>48</th>\n",
       "      <td>Siblings NYC</td>\n",
       "      <td>630</td>\n",
       "      <td>6.8</td>\n",
       "      <td>0.563779</td>\n",
       "      <td>10</td>\n",
       "      <td>42</td>\n",
       "    </tr>\n",
       "    <tr>\n",
       "      <th>49</th>\n",
       "      <td>Little Pie Company</td>\n",
       "      <td>848</td>\n",
       "      <td>8.6</td>\n",
       "      <td>0.989805</td>\n",
       "      <td>3</td>\n",
       "      <td>72</td>\n",
       "    </tr>\n",
       "  </tbody>\n",
       "</table>\n",
       "</div>"
      ],
      "text/plain": [
       "                                          name  distance  rating  popularity  \\\n",
       "0                               Electric Lemon       146     7.3    0.996228   \n",
       "1                                     Peak NYC       239     8.7    0.988624   \n",
       "2                                   Friedman's       312     8.5    0.995252   \n",
       "3                             Estiatorio Milos       258     7.5    0.993128   \n",
       "4                                  Shake Shack       211     7.0    0.979989   \n",
       "5                           Hudson Yards Grill       246     7.2    0.981187   \n",
       "6                                   Sweetgreen       369     8.5    0.997052   \n",
       "7                         Mercado Little Spain       356     8.1    0.999178   \n",
       "8                                     La Barra       345     7.8    0.989534   \n",
       "9                               Bluestone Lane       296     7.2    0.980106   \n",
       "10                                 Kyma Hudson       341     7.6    0.995948   \n",
       "11                        Via Trenta Pizzoteca       332     7.3    0.941586   \n",
       "12                                   Zou Zou's       452     8.8    0.993325   \n",
       "13                                      Miznon       290     6.8    0.969749   \n",
       "14                          Hudson Food Caters       347     7.2    0.990242   \n",
       "15                     Jajaja Plantas Mexicana       440     8.0    0.989798   \n",
       "16                               Finn’s Bagels       359     7.2    0.997960   \n",
       "17                                       Kahlo       402     7.5    0.982859   \n",
       "18               Chef's Table At Brooklyn Fare       484     8.5    0.983823   \n",
       "19                               Spanish Diner       392     7.4    0.995812   \n",
       "20                            Daily Provisions       463     8.0    0.990363   \n",
       "21                                Umami Burger       359     7.0    0.910302   \n",
       "22                                         Mar       360     7.0    0.775850   \n",
       "23                                    Whitmans       469     7.7    0.995299   \n",
       "24                       Vitos Slices And Ices       594     8.6    0.992408   \n",
       "25                          Sergimmo Salumeria       589     8.5    0.968288   \n",
       "26                         H-Yard Gourmet Deli       576     7.8    0.989933   \n",
       "27                                      Farida       630     8.5    0.975535   \n",
       "28                                      Tavola       620     8.3    0.988743   \n",
       "29                          Porteno Restaurant       611     8.2    0.977951   \n",
       "30                          Il Piccolo Ristoro       557     7.6    0.976559   \n",
       "31          Uncle Jack's Steakhouse - Westside       574     7.7    0.977690   \n",
       "32                                    Zoob Zib       573     7.6    0.983132   \n",
       "33                                 Aiyara Thai       627     7.7    0.968694   \n",
       "34                         Il Punto Ristorante       633     7.7    0.984415   \n",
       "35                                  Avocaderia       525     6.9    0.944622   \n",
       "36                                   Death Ave       533     6.8    0.994710   \n",
       "37                              Skylight Diner       530     6.8    0.995950   \n",
       "38                                     Patiala       579     7.0    0.993240   \n",
       "39                                   Kashmir 9       601     7.2    0.940491   \n",
       "40                 North River Lobster Company       683     7.5    0.981400   \n",
       "41                                     Pio Pio       812     8.9    0.993137   \n",
       "42                               Bagels & More       604     6.9    0.989612   \n",
       "43                                   Aura Thai       564     6.6    0.031812   \n",
       "44                                     Mercato       725     7.7    0.979802   \n",
       "45                              Chez Josephine       770     7.9    0.979571   \n",
       "46                          Mémé Mediterranean       839     8.7    0.983807   \n",
       "47  Unidentified Flying Chicken Hell's Kitchen       704     7.3    0.925507   \n",
       "48                                Siblings NYC       630     6.8    0.563779   \n",
       "49                          Little Pie Company       848     8.6    0.989805   \n",
       "\n",
       "    empty_slots  bikes  \n",
       "0            30      2  \n",
       "1            69      2  \n",
       "2            21      0  \n",
       "3            18      6  \n",
       "4            22      8  \n",
       "5            34      1  \n",
       "6             3     19  \n",
       "7             1      8  \n",
       "8            15      8  \n",
       "9            19      3  \n",
       "10           18     11  \n",
       "11            3     21  \n",
       "12            1     77  \n",
       "13           17     22  \n",
       "14           15      2  \n",
       "15            8     14  \n",
       "16           46     12  \n",
       "17           18      6  \n",
       "18            1     35  \n",
       "19           42      5  \n",
       "20           51      2  \n",
       "21            3     20  \n",
       "22           30      5  \n",
       "23            7     17  \n",
       "24           27     11  \n",
       "25           18      7  \n",
       "26            4     16  \n",
       "27            7     27  \n",
       "28           12     17  \n",
       "29           16     71  \n",
       "30            5     13  \n",
       "31            7     12  \n",
       "32            2     27  \n",
       "33            9     11  \n",
       "34           15      7  \n",
       "35            3     20  \n",
       "36            4     21  \n",
       "37           23      5  \n",
       "38           57      1  \n",
       "39           34      3  \n",
       "40           41      4  \n",
       "41           14      3  \n",
       "42           16      2  \n",
       "43            5     12  \n",
       "44            5     19  \n",
       "45           13      8  \n",
       "46           18      3  \n",
       "47           19      3  \n",
       "48           10     42  \n",
       "49            3     72  "
      ]
     },
     "execution_count": 5,
     "metadata": {},
     "output_type": "execute_result"
    }
   ],
   "source": [
    "join_data"
   ]
  },
  {
   "cell_type": "markdown",
   "metadata": {},
   "source": [
    "Provide a visualization that you used as part of your EDA process. Explain the initial pattern or relationship you discoved through this visualization. "
   ]
  },
  {
   "cell_type": "markdown",
   "metadata": {},
   "source": [
    "* Explore data information"
   ]
  },
  {
   "cell_type": "code",
   "execution_count": 6,
   "metadata": {},
   "outputs": [
    {
     "name": "stdout",
     "output_type": "stream",
     "text": [
      "<class 'pandas.core.frame.DataFrame'>\n",
      "RangeIndex: 50 entries, 0 to 49\n",
      "Data columns (total 6 columns):\n",
      " #   Column       Non-Null Count  Dtype  \n",
      "---  ------       --------------  -----  \n",
      " 0   name         50 non-null     object \n",
      " 1   distance     50 non-null     int64  \n",
      " 2   rating       50 non-null     float64\n",
      " 3   popularity   50 non-null     float64\n",
      " 4   empty_slots  50 non-null     int64  \n",
      " 5   bikes        50 non-null     int64  \n",
      "dtypes: float64(2), int64(3), object(1)\n",
      "memory usage: 2.5+ KB\n"
     ]
    }
   ],
   "source": [
    "join_data.info()"
   ]
  },
  {
   "cell_type": "markdown",
   "metadata": {},
   "source": [
    "* Explore numerical values from the Data Frame"
   ]
  },
  {
   "cell_type": "code",
   "execution_count": 7,
   "metadata": {
    "tags": []
   },
   "outputs": [
    {
     "data": {
      "text/html": [
       "<div>\n",
       "<style scoped>\n",
       "    .dataframe tbody tr th:only-of-type {\n",
       "        vertical-align: middle;\n",
       "    }\n",
       "\n",
       "    .dataframe tbody tr th {\n",
       "        vertical-align: top;\n",
       "    }\n",
       "\n",
       "    .dataframe thead th {\n",
       "        text-align: right;\n",
       "    }\n",
       "</style>\n",
       "<table border=\"1\" class=\"dataframe\">\n",
       "  <thead>\n",
       "    <tr style=\"text-align: right;\">\n",
       "      <th></th>\n",
       "      <th>distance</th>\n",
       "      <th>rating</th>\n",
       "      <th>popularity</th>\n",
       "      <th>empty_slots</th>\n",
       "      <th>bikes</th>\n",
       "    </tr>\n",
       "  </thead>\n",
       "  <tbody>\n",
       "    <tr>\n",
       "      <th>count</th>\n",
       "      <td>50.000000</td>\n",
       "      <td>50.000000</td>\n",
       "      <td>50.000000</td>\n",
       "      <td>50.000000</td>\n",
       "      <td>50.000000</td>\n",
       "    </tr>\n",
       "    <tr>\n",
       "      <th>mean</th>\n",
       "      <td>495.980000</td>\n",
       "      <td>7.672000</td>\n",
       "      <td>0.949676</td>\n",
       "      <td>17.580000</td>\n",
       "      <td>14.860000</td>\n",
       "    </tr>\n",
       "    <tr>\n",
       "      <th>std</th>\n",
       "      <td>171.734191</td>\n",
       "      <td>0.640485</td>\n",
       "      <td>0.148803</td>\n",
       "      <td>15.578753</td>\n",
       "      <td>17.511524</td>\n",
       "    </tr>\n",
       "    <tr>\n",
       "      <th>min</th>\n",
       "      <td>146.000000</td>\n",
       "      <td>6.600000</td>\n",
       "      <td>0.031812</td>\n",
       "      <td>1.000000</td>\n",
       "      <td>0.000000</td>\n",
       "    </tr>\n",
       "    <tr>\n",
       "      <th>25%</th>\n",
       "      <td>356.750000</td>\n",
       "      <td>7.200000</td>\n",
       "      <td>0.976842</td>\n",
       "      <td>5.000000</td>\n",
       "      <td>3.250000</td>\n",
       "    </tr>\n",
       "    <tr>\n",
       "      <th>50%</th>\n",
       "      <td>527.500000</td>\n",
       "      <td>7.600000</td>\n",
       "      <td>0.984119</td>\n",
       "      <td>15.000000</td>\n",
       "      <td>9.500000</td>\n",
       "    </tr>\n",
       "    <tr>\n",
       "      <th>75%</th>\n",
       "      <td>609.250000</td>\n",
       "      <td>8.175000</td>\n",
       "      <td>0.993135</td>\n",
       "      <td>21.750000</td>\n",
       "      <td>19.000000</td>\n",
       "    </tr>\n",
       "    <tr>\n",
       "      <th>max</th>\n",
       "      <td>848.000000</td>\n",
       "      <td>8.900000</td>\n",
       "      <td>0.999178</td>\n",
       "      <td>69.000000</td>\n",
       "      <td>77.000000</td>\n",
       "    </tr>\n",
       "  </tbody>\n",
       "</table>\n",
       "</div>"
      ],
      "text/plain": [
       "         distance     rating  popularity  empty_slots      bikes\n",
       "count   50.000000  50.000000   50.000000    50.000000  50.000000\n",
       "mean   495.980000   7.672000    0.949676    17.580000  14.860000\n",
       "std    171.734191   0.640485    0.148803    15.578753  17.511524\n",
       "min    146.000000   6.600000    0.031812     1.000000   0.000000\n",
       "25%    356.750000   7.200000    0.976842     5.000000   3.250000\n",
       "50%    527.500000   7.600000    0.984119    15.000000   9.500000\n",
       "75%    609.250000   8.175000    0.993135    21.750000  19.000000\n",
       "max    848.000000   8.900000    0.999178    69.000000  77.000000"
      ]
     },
     "execution_count": 7,
     "metadata": {},
     "output_type": "execute_result"
    }
   ],
   "source": [
    "join_data.describe()"
   ]
  },
  {
   "cell_type": "markdown",
   "metadata": {},
   "source": [
    "* Analyze variables correlations"
   ]
  },
  {
   "cell_type": "code",
   "execution_count": 8,
   "metadata": {},
   "outputs": [
    {
     "data": {
      "text/html": [
       "<div>\n",
       "<style scoped>\n",
       "    .dataframe tbody tr th:only-of-type {\n",
       "        vertical-align: middle;\n",
       "    }\n",
       "\n",
       "    .dataframe tbody tr th {\n",
       "        vertical-align: top;\n",
       "    }\n",
       "\n",
       "    .dataframe thead th {\n",
       "        text-align: right;\n",
       "    }\n",
       "</style>\n",
       "<table border=\"1\" class=\"dataframe\">\n",
       "  <thead>\n",
       "    <tr style=\"text-align: right;\">\n",
       "      <th></th>\n",
       "      <th>distance</th>\n",
       "      <th>rating</th>\n",
       "      <th>popularity</th>\n",
       "      <th>empty_slots</th>\n",
       "      <th>bikes</th>\n",
       "    </tr>\n",
       "  </thead>\n",
       "  <tbody>\n",
       "    <tr>\n",
       "      <th>distance</th>\n",
       "      <td>1.000000</td>\n",
       "      <td>0.276580</td>\n",
       "      <td>-0.087390</td>\n",
       "      <td>-0.244986</td>\n",
       "      <td>0.238783</td>\n",
       "    </tr>\n",
       "    <tr>\n",
       "      <th>rating</th>\n",
       "      <td>0.276580</td>\n",
       "      <td>1.000000</td>\n",
       "      <td>0.360671</td>\n",
       "      <td>-0.079130</td>\n",
       "      <td>0.274036</td>\n",
       "    </tr>\n",
       "    <tr>\n",
       "      <th>popularity</th>\n",
       "      <td>-0.087390</td>\n",
       "      <td>0.360671</td>\n",
       "      <td>1.000000</td>\n",
       "      <td>0.132586</td>\n",
       "      <td>-0.053297</td>\n",
       "    </tr>\n",
       "    <tr>\n",
       "      <th>empty_slots</th>\n",
       "      <td>-0.244986</td>\n",
       "      <td>-0.079130</td>\n",
       "      <td>0.132586</td>\n",
       "      <td>1.000000</td>\n",
       "      <td>-0.451012</td>\n",
       "    </tr>\n",
       "    <tr>\n",
       "      <th>bikes</th>\n",
       "      <td>0.238783</td>\n",
       "      <td>0.274036</td>\n",
       "      <td>-0.053297</td>\n",
       "      <td>-0.451012</td>\n",
       "      <td>1.000000</td>\n",
       "    </tr>\n",
       "  </tbody>\n",
       "</table>\n",
       "</div>"
      ],
      "text/plain": [
       "             distance    rating  popularity  empty_slots     bikes\n",
       "distance     1.000000  0.276580   -0.087390    -0.244986  0.238783\n",
       "rating       0.276580  1.000000    0.360671    -0.079130  0.274036\n",
       "popularity  -0.087390  0.360671    1.000000     0.132586 -0.053297\n",
       "empty_slots -0.244986 -0.079130    0.132586     1.000000 -0.451012\n",
       "bikes        0.238783  0.274036   -0.053297    -0.451012  1.000000"
      ]
     },
     "execution_count": 8,
     "metadata": {},
     "output_type": "execute_result"
    }
   ],
   "source": [
    "join_data.corr()"
   ]
  },
  {
   "cell_type": "markdown",
   "metadata": {},
   "source": [
    "According to the DataFrame, correlations between each variables are very weak"
   ]
  },
  {
   "cell_type": "markdown",
   "metadata": {},
   "source": [
    "* Explore value counts of each variable"
   ]
  },
  {
   "cell_type": "code",
   "execution_count": 9,
   "metadata": {
    "tags": []
   },
   "outputs": [
    {
     "data": {
      "text/plain": [
       "2     5\n",
       "3     5\n",
       "8     4\n",
       "5     3\n",
       "11    3\n",
       "12    3\n",
       "19    2\n",
       "6     2\n",
       "27    2\n",
       "7     2\n",
       "17    2\n",
       "1     2\n",
       "20    2\n",
       "21    2\n",
       "35    1\n",
       "0     1\n",
       "14    1\n",
       "22    1\n",
       "77    1\n",
       "16    1\n",
       "71    1\n",
       "13    1\n",
       "4     1\n",
       "42    1\n",
       "72    1\n",
       "Name: bikes, dtype: int64"
      ]
     },
     "execution_count": 9,
     "metadata": {},
     "output_type": "execute_result"
    }
   ],
   "source": [
    "#join_data['rating'].value_counts(ascending = False)\n",
    "#join_data['distance'].value_counts(ascending = False)\n",
    "#join_data['popularity'].value_counts(ascending = False)\n",
    "#join_data['empty_slots'].value_counts(ascending = False)\n",
    "join_data['bikes'].value_counts(ascending = False)"
   ]
  },
  {
   "cell_type": "code",
   "execution_count": 27,
   "metadata": {},
   "outputs": [
    {
     "data": {
      "image/png": "[encoded data removed]",
      "text/plain": [
       "<Figure size 640x480 with 1 Axes>"
      ]
     },
     "metadata": {},
     "output_type": "display_data"
    }
   ],
   "source": [
    "cmap= sns.color_palette(\"flare\", as_cmap= False)\n",
    "sns.barplot(data = join_data, x = join_data['bikes'], y = join_data['distance'], palette = cmap)\n",
    "#plt.savefig(\"distance_bike_barplot.jpg\", dpi = 400)\n",
    "plt.show()"
   ]
  },
  {
   "cell_type": "markdown",
   "metadata": {},
   "source": [
    "As we can see from the graph above, the number of bikes provided is distributed quite evenly base on the distance between the bike station and the restaurant location. The further the distance, the more available bikes at the station"
   ]
  },
  {
   "cell_type": "code",
   "execution_count": 35,
   "metadata": {},
   "outputs": [
    {
     "data": {
      "image/png": "[encoded data removed]",
      "text/plain": [
       "<Figure size 640x480 with 1 Axes>"
      ]
     },
     "metadata": {},
     "output_type": "display_data"
    }
   ],
   "source": [
    "cmap= sns.color_palette(\"ch:s=.25,rot=-.25\", as_cmap=False)\n",
    "sns.barplot(data = join_data, x = join_data['bikes'], y = join_data['empty_slots'], palette = cmap)\n",
    "#plt.savefig(\"emptyslot_bike_barplot.jpg\", dpi = 400)\n",
    "plt.show()"
   ]
  },
  {
   "cell_type": "markdown",
   "metadata": {},
   "source": [
    "The relationship between empty slots and the number of bikes at a station is inverse. When there are more bikes, there are fewer empty slots and when there are fewer bikes, there are more empty slots. This reflects the demand for bikes in a particular location and helps to ensure that bikes are distributed evenly throughout the network."
   ]
  },
  {
   "cell_type": "markdown",
   "metadata": {},
   "source": [
    "* Hypothesis Testing\n",
    "\n",
    "    1. Normal Testing\n",
    "\n",
    "\n",
    "        check out the distribution of our numerical variables: number of bikes, empty slots, popularity, rating of the restaurant"
   ]
  },
  {
   "cell_type": "code",
   "execution_count": 7,
   "metadata": {},
   "outputs": [
    {
     "data": {
      "image/png": "[encoded data removed]",
      "text/plain": [
       "<Figure size 640x480 with 1 Axes>"
      ]
     },
     "metadata": {},
     "output_type": "display_data"
    }
   ],
   "source": [
    "# the number of bikes data is right-skewed\n",
    "sns.histplot(join_data['bikes'])\n",
    "plt.show()"
   ]
  },
  {
   "cell_type": "code",
   "execution_count": 8,
   "metadata": {},
   "outputs": [
    {
     "data": {
      "image/png": "[encoded data removed]",
      "text/plain": [
       "<Figure size 640x480 with 1 Axes>"
      ]
     },
     "metadata": {},
     "output_type": "display_data"
    }
   ],
   "source": [
    "# empty slots is also right-skewed\n",
    "sns.histplot(join_data['empty_slots'])\n",
    "plt.show()"
   ]
  },
  {
   "cell_type": "code",
   "execution_count": 9,
   "metadata": {},
   "outputs": [
    {
     "data": {
      "image/png": "[encoded data removed]",
      "text/plain": [
       "<Figure size 640x480 with 1 Axes>"
      ]
     },
     "metadata": {},
     "output_type": "display_data"
    }
   ],
   "source": [
    "# the popularity data is left-skewed\n",
    "sns.histplot(join_data['popularity'])\n",
    "plt.show()"
   ]
  },
  {
   "cell_type": "code",
   "execution_count": 11,
   "metadata": {},
   "outputs": [
    {
     "data": {
      "image/png": "[encoded data removed]",
      "text/plain": [
       "<Figure size 640x480 with 1 Axes>"
      ]
     },
     "metadata": {},
     "output_type": "display_data"
    }
   ],
   "source": [
    "# The distribution of the rating data appears to be normal. To verify this hypothesis, we need to perform a Shapiro-Wilk test.\n",
    "sns.histplot(join_data['rating'])\n",
    "plt.show()"
   ]
  },
  {
   "cell_type": "code",
   "execution_count": 12,
   "metadata": {},
   "outputs": [
    {
     "name": "stdout",
     "output_type": "stream",
     "text": [
      "P-value: 0.023301521316170692443847656250\n"
     ]
    }
   ],
   "source": [
    "stat , p = stats.shapiro(join_data['rating'])\n",
    "print(\"P-value:\", '%0.30f' %p)"
   ]
  },
  {
   "cell_type": "markdown",
   "metadata": {},
   "source": [
    "Because the p-value is smaller than 0.05, as a result, we reject the hypothesis that the data is ditributed normally"
   ]
  },
  {
   "cell_type": "markdown",
   "metadata": {},
   "source": [
    "    2. Correlation Testing"
   ]
  },
  {
   "cell_type": "markdown",
   "metadata": {},
   "source": [
    "After conducting a correlation testing, I can not find any correlation between number of bikes and other numerical variables"
   ]
  },
  {
   "cell_type": "code",
   "execution_count": 124,
   "metadata": {},
   "outputs": [
    {
     "data": {
      "text/plain": [
       "<AxesSubplot:xlabel='rating', ylabel='bikes'>"
      ]
     },
     "execution_count": 124,
     "metadata": {},
     "output_type": "execute_result"
    },
    {
     "data": {
      "image/png": "[encoded data removed]",
      "text/plain": [
       "<Figure size 640x480 with 1 Axes>"
      ]
     },
     "metadata": {},
     "output_type": "display_data"
    }
   ],
   "source": [
    "sns.scatterplot(x = join_data['rating'], y = join_data['bikes'], alpha = 0.7)"
   ]
  },
  {
   "cell_type": "code",
   "execution_count": 125,
   "metadata": {},
   "outputs": [
    {
     "data": {
      "text/plain": [
       "<AxesSubplot:xlabel='empty_slots', ylabel='bikes'>"
      ]
     },
     "execution_count": 125,
     "metadata": {},
     "output_type": "execute_result"
    },
    {
     "data": {
      "image/png": "[encoded data removed]",
      "text/plain": [
       "<Figure size 640x480 with 1 Axes>"
      ]
     },
     "metadata": {},
     "output_type": "display_data"
    }
   ],
   "source": [
    "sns.scatterplot(x = join_data['empty_slots'], y = join_data['bikes'], alpha = 0.7)"
   ]
  },
  {
   "cell_type": "code",
   "execution_count": 126,
   "metadata": {},
   "outputs": [
    {
     "data": {
      "text/plain": [
       "<AxesSubplot:xlabel='popularity', ylabel='bikes'>"
      ]
     },
     "execution_count": 126,
     "metadata": {},
     "output_type": "execute_result"
    },
    {
     "data": {
      "image/png": "[encoded data removed]",
      "text/plain": [
       "<Figure size 640x480 with 1 Axes>"
      ]
     },
     "metadata": {},
     "output_type": "display_data"
    }
   ],
   "source": [
    "sns.scatterplot(x = join_data['popularity'], y = join_data['bikes'], alpha = 0.7)"
   ]
  },
  {
   "cell_type": "code",
   "execution_count": 127,
   "metadata": {},
   "outputs": [
    {
     "data": {
      "text/plain": [
       "<AxesSubplot:xlabel='distance', ylabel='bikes'>"
      ]
     },
     "execution_count": 127,
     "metadata": {},
     "output_type": "execute_result"
    },
    {
     "data": {
      "image/png": "[encoded data removed]",
      "text/plain": [
       "<Figure size 640x480 with 1 Axes>"
      ]
     },
     "metadata": {},
     "output_type": "display_data"
    }
   ],
   "source": [
    "sns.scatterplot(x = join_data['distance'], y = join_data['bikes'], alpha = 0.7)"
   ]
  },
  {
   "cell_type": "code",
   "execution_count": 26,
   "metadata": {},
   "outputs": [
    {
     "data": {
      "image/png": "[encoded data removed]",
      "text/plain": [
       "<Figure size 640x480 with 2 Axes>"
      ]
     },
     "metadata": {},
     "output_type": "display_data"
    }
   ],
   "source": [
    "sns.heatmap(join_data.corr())\n",
    "plt.savefig(\"heatmap.jpg\", dpi = 400)\n",
    "plt.show()"
   ]
  },
  {
   "cell_type": "markdown",
   "metadata": {},
   "source": [
    "* Normalize Data"
   ]
  },
  {
   "cell_type": "markdown",
   "metadata": {},
   "source": [
    "    1. Right-skewed data"
   ]
  },
  {
   "cell_type": "code",
   "execution_count": 16,
   "metadata": {},
   "outputs": [
    {
     "name": "stdout",
     "output_type": "stream",
     "text": [
      "P-values: 1.0\n"
     ]
    },
    {
     "name": "stderr",
     "output_type": "stream",
     "text": [
      "C:\\Anaconda\\envs\\pandas_playground\\lib\\site-packages\\pandas\\core\\arraylike.py:397: RuntimeWarning: divide by zero encountered in log\n",
      "  result = getattr(ufunc, method)(*inputs, **kwargs)\n"
     ]
    },
    {
     "data": {
      "image/png": "[encoded data removed]",
      "text/plain": [
       "<Figure size 640x480 with 1 Axes>"
      ]
     },
     "metadata": {},
     "output_type": "display_data"
    }
   ],
   "source": [
    "# Normalize number of bikes data\n",
    "log_total_bikes = np.log(join_data['bikes'])\n",
    "\n",
    "stat, p = stats.shapiro(log_total_bikes)\n",
    "print('P-values:', p)\n",
    "sns.histplot(log_total_bikes)\n",
    "plt.show()"
   ]
  },
  {
   "cell_type": "code",
   "execution_count": 17,
   "metadata": {},
   "outputs": [
    {
     "name": "stdout",
     "output_type": "stream",
     "text": [
      "P-value: 0.11543378233909607\n"
     ]
    },
    {
     "data": {
      "image/png": "[encoded data removed]",
      "text/plain": [
       "<Figure size 640x480 with 1 Axes>"
      ]
     },
     "metadata": {},
     "output_type": "display_data"
    }
   ],
   "source": [
    "# Normalize empty_slots\n",
    "sqrt_empty_slots = join_data['empty_slots']**(1/2)\n",
    "\n",
    "stat, p = stats.shapiro(sqrt_empty_slots)\n",
    "print(\"P-value:\", p)\n",
    "sns.histplot(sqrt_empty_slots)\n",
    "plt.show()"
   ]
  },
  {
   "cell_type": "markdown",
   "metadata": {},
   "source": [
    "    2.Left-skewed data"
   ]
  },
  {
   "cell_type": "code",
   "execution_count": 18,
   "metadata": {},
   "outputs": [
    {
     "name": "stdout",
     "output_type": "stream",
     "text": [
      "P-value: 1.7782068948823254e-13\n"
     ]
    },
    {
     "data": {
      "text/plain": [
       "<AxesSubplot:xlabel='popularity', ylabel='Count'>"
      ]
     },
     "execution_count": 18,
     "metadata": {},
     "output_type": "execute_result"
    },
    {
     "data": {
      "image/png": "[encoded data removed]",
      "text/plain": [
       "<Figure size 640x480 with 1 Axes>"
      ]
     },
     "metadata": {},
     "output_type": "display_data"
    }
   ],
   "source": [
    "# normalize popularity data\n",
    "log_popularity = np.log(join_data['popularity'].max() - join_data['popularity'] + 1)\n",
    "stat, p = stats.shapiro(log_popularity)\n",
    "print(\"P-value:\", p)\n",
    "sns.histplot(log_popularity)"
   ]
  },
  {
   "cell_type": "markdown",
   "metadata": {},
   "source": [
    "# Database"
   ]
  },
  {
   "cell_type": "markdown",
   "metadata": {},
   "source": [
    "Put all your results in an SQLite3 database (remember, SQLite stores its databases as files in your local machine - make sure to create your database in your project's data/ directory!)"
   ]
  },
  {
   "cell_type": "markdown",
   "metadata": {},
   "source": [
    "Connect to Database"
   ]
  },
  {
   "cell_type": "code",
   "execution_count": 4,
   "metadata": {},
   "outputs": [],
   "source": [
    "def create_connection(path):\n",
    "    connection = None\n",
    "    try:\n",
    "        connection = sqlite3.connect(path)\n",
    "        print(\"Connection to SQLite DB successful\")\n",
    "    except Error as e:\n",
    "        print(f\"The error '{e}' occurred\")\n",
    "\n",
    "    return connection"
   ]
  },
  {
   "cell_type": "code",
   "execution_count": 5,
   "metadata": {},
   "outputs": [],
   "source": [
    "connection = sqlite3.connect(\"D:\\Python(New)\\Project\\Project_Week_3\\data\\joining_data.sqlite\")"
   ]
  },
  {
   "cell_type": "code",
   "execution_count": null,
   "metadata": {},
   "outputs": [],
   "source": [
    "joining_data = join_data_original.to_sql('join_data',connection, index = False)"
   ]
  },
  {
   "cell_type": "markdown",
   "metadata": {},
   "source": [
    "Look at the data before and after the join to validate your data."
   ]
  },
  {
   "cell_type": "markdown",
   "metadata": {},
   "source": [
    "The data before and after the join is similar"
   ]
  },
  {
   "cell_type": "code",
   "execution_count": null,
   "metadata": {},
   "outputs": [],
   "source": []
  }
 ],
 "metadata": {
  "kernelspec": {
   "display_name": "Python 3 (ipykernel)",
   "language": "python",
   "name": "python3"
  },
  "language_info": {
   "codemirror_mode": {
    "name": "ipython",
    "version": 3
   },
   "file_extension": ".py",
   "mimetype": "text/x-python",
   "name": "python",
   "nbconvert_exporter": "python",
   "pygments_lexer": "ipython3",
   "version": "3.10.6"
  }
 },
 "nbformat": 4,
 "nbformat_minor": 4
}
